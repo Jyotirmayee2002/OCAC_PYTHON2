{
 "cells": [
  {
   "cell_type": "code",
   "execution_count": 1,
   "id": "4e2afab3-b83b-4cfd-ac76-27badc64e66f",
   "metadata": {},
   "outputs": [
    {
     "name": "stdout",
     "output_type": "stream",
     "text": [
      "[1, 2, 3, 4, 5, 6, 7, 8, 9, 10]\n",
      "55\n"
     ]
    },
    {
     "data": {
      "text/plain": [
       "5.5"
      ]
     },
     "execution_count": 1,
     "metadata": {},
     "output_type": "execute_result"
    }
   ],
   "source": [
    "# 1>i.Create a 1D array of the first 10 positive integers.\n",
    "#Print the array.\n",
    "#Find the sum of all elements in the array.\n",
    "#Calculate the mean of the elements.\n",
    "\n",
    "import numpy as np\n",
    "array=[1,2,3,4,5,6,7,8,9,10]\n",
    "print(array)\n",
    "array_sum=np.sum(array)\n",
    "print(array_sum)\n",
    "array_mean=np.mean(array)\n",
    "array_mean"
   ]
  },
  {
   "cell_type": "code",
   "execution_count": 2,
   "id": "13084a53-5442-4498-bbf4-588fbf05f25d",
   "metadata": {},
   "outputs": [
    {
     "name": "stdout",
     "output_type": "stream",
     "text": [
      "[[ 1 10 10  7]\n",
      " [ 5  2  5  4]\n",
      " [ 4  2  2  1]]\n",
      "10 1\n",
      "[28 16  9] [10 14 17 12]\n"
     ]
    }
   ],
   "source": [
    "#1>ii.Create a 2D array of shape (3, 4) with random integers between 1 and 10.\n",
    "#Print the array.\n",
    "#Find the maximum and minimum values in the array.\n",
    "#Calculate the sum of each row and each column.\n",
    "import numpy as np\n",
    "array=np.random.randint(1,11,size=(3,4))\n",
    "print(array)\n",
    "max_value=np.max(array)\n",
    "min_value=np.min(array)\n",
    "print(max_value,min_value)\n",
    "row_sums = np.sum(array, axis=1)\n",
    "column_sums = np.sum(array, axis=0)\n",
    "print(row_sums,column_sums)"
   ]
  },
  {
   "cell_type": "code",
   "execution_count": 3,
   "id": "f7336c2d-f5c1-4b46-a600-ec5607beb187",
   "metadata": {},
   "outputs": [
    {
     "name": "stdout",
     "output_type": "stream",
     "text": [
      "[28  3 23 12 74 22 84 30 25 62 63 88 15 39 24 94 34 54 14 53]\n",
      "index 5 to 15 [22 84 30 25 62 63 88 15 39 24 94]\n",
      "second element [28 23 74 84 25 63 15 24 34 14]\n"
     ]
    }
   ],
   "source": [
    "#2.i>Create a 1D array of 20 random integers between 1 and 100.\n",
    "#Print the array.\n",
    "#Print the elements from index 5 to 15.\n",
    "#Print every second element of the array.\n",
    "import numpy as np\n",
    "arr=np.random.randint(1,101,size=20)\n",
    "print(arr)\n",
    "print(\"index 5 to 15\",arr[5:16])\n",
    "print(\"second element\",arr[::2])"
   ]
  },
  {
   "cell_type": "code",
   "execution_count": 4,
   "id": "13acd268-9e51-4959-ac80-941ec1a3e147",
   "metadata": {},
   "outputs": [
    {
     "name": "stdout",
     "output_type": "stream",
     "text": [
      "[[ 1  7  4  8  2]\n",
      " [ 9  7  8  4 10]\n",
      " [ 7  4  8  7  8]\n",
      " [ 9 10  3  1  4]\n",
      " [ 3  9 10 10 10]]\n",
      "\n",
      "Second row:\n",
      " [ 9  7  8  4 10]\n",
      "\n",
      "third row:\n",
      " [ 4  8  8  3 10]\n",
      "\n",
      "3x3 Subarray:\n",
      " [[ 7  8  4]\n",
      " [ 4  8  7]\n",
      " [10  3  1]]\n"
     ]
    }
   ],
   "source": [
    "#2.ii>Create a 2D array of shape (5, 5) with random integers between 1 and 50.\n",
    "#Print the array.\n",
    "#Extract and print the second row.\n",
    "#Extract and print the third column.\n",
    "#Extract and print a 3x3 subarray from the original array.\n",
    "import numpy as np\n",
    "arr=np.random.randint(1,11,size=(5,5))\n",
    "print(arr)\n",
    "second_row=arr[1]\n",
    "print(\"\\nSecond row:\\n\",second_row)\n",
    "third_column=arr[:,2]\n",
    "print(\"\\nthird row:\\n\",third_column)\n",
    "subarray_3x3 = arr[1:4, 1:4]\n",
    "print(\"\\n3x3 Subarray:\\n\", subarray_3x3)"
   ]
  },
  {
   "cell_type": "code",
   "execution_count": 5,
   "id": "df95c009-4410-4593-a7e7-01b879b9e70d",
   "metadata": {},
   "outputs": [
    {
     "name": "stdout",
     "output_type": "stream",
     "text": [
      "[82 61 77 31 78 46 43 22 73 34] [74 34 18 82 87 47  9 54 54 50]\n",
      "concatenate array\n",
      " [82 61 77 31 78 46 43 22 73 34 74 34 18 82 87 47  9 54 54 50]\n",
      "sorted array\n",
      " [ 9 18 22 31 34 34 43 46 47 50 54 54 61 73 74 77 78 82 82 87]\n",
      "unique ele\n",
      " [ 9 18 22 31 34 43 46 47 50 54 61 73 74 77 78 82 87]\n"
     ]
    }
   ],
   "source": [
    "#3.i>Create two 1D arrays of 10 random integers each.\n",
    "#Concatenate the two arrays.\n",
    "#Sort the concatenated array.\n",
    "#Find the unique elements in the concatenated array.\n",
    "import numpy as np\n",
    "arr1=np.random.randint(1,100,size=10)\n",
    "arr2=np.random.randint(1,100,size=10)\n",
    "print(arr1,arr2)\n",
    "concatenate_arr=np.concatenate((arr1,arr2))\n",
    "print(\"concatenate array\\n\",concatenate_arr)\n",
    "sorted_arr=np.sort(concatenate_arr)\n",
    "print(\"sorted array\\n\",sorted_arr)\n",
    "unique_ele=np.unique(sorted_arr)\n",
    "print(\"unique ele\\n\",unique_ele)"
   ]
  },
  {
   "cell_type": "code",
   "execution_count": 6,
   "id": "456cdc97-8823-4a60-81a8-056147ddb290",
   "metadata": {},
   "outputs": [
    {
     "name": "stdout",
     "output_type": "stream",
     "text": [
      "[[14  2  7 10]\n",
      " [11  1 14 14]\n",
      " [ 2 15 10  7]\n",
      " [ 8 13 13 20]]\n",
      "flattened arr\n",
      " [14  2  7 10 11  1 14 14  2 15 10  7  8 13 13 20]\n",
      "reshape arr\n",
      " [[14  2  7 10 11  1 14 14]\n",
      " [ 2 15 10  7  8 13 13 20]]\n"
     ]
    }
   ],
   "source": [
    "#3.ii>Create a 2D array of shape (4, 4) with random integers between 1 and 20.\n",
    "#Print the array.\n",
    "#Flatten the array into a 1D array.\n",
    "#Reshape the flattened array back into a 2D array of shape (2, 8).\n",
    "import numpy as np\n",
    "arr=np.random.randint(1,21,size=(4,4))\n",
    "print(arr)\n",
    "flattened_arr = arr.flatten()\n",
    "print(\"flattened arr\\n\",flattened_arr)\n",
    "reshape_arr=flattened_arr.reshape(2,8)\n",
    "print(\"reshape arr\\n\",reshape_arr)"
   ]
  },
  {
   "cell_type": "code",
   "execution_count": 7,
   "id": "f566c05b-a20c-4433-95bf-2e94860250f0",
   "metadata": {},
   "outputs": [
    {
     "name": "stdout",
     "output_type": "stream",
     "text": [
      "[14 15 23 31 23 43 43 28 12 40 31 30 44 34 49]\n",
      "Standard Deviation: 3.0402393911591163\n",
      "max\n",
      " 49\n",
      "Normalized Arr: [0.05405405 0.08108108 0.2972973  0.51351351 0.2972973  0.83783784\n",
      " 0.83783784 0.43243243 0.         0.75675676 0.51351351 0.48648649\n",
      " 0.86486486 0.59459459 1.        ]\n"
     ]
    }
   ],
   "source": [
    "#4.i>Create a 1D array of 15 random integers between 1 and 50.\n",
    "#Print the array.\n",
    "#Calculate and print the standard deviation of the array.\n",
    "#Find and print the index of the maximum value in the array.\n",
    "#Normalize the array (scale the values to a range between 0 and 1).\n",
    "import numpy as np\n",
    "arr=np.random.randint(1,51,size=15)\n",
    "print(arr)\n",
    "std_dev= np.std(array)\n",
    "print(\"Standard Deviation:\", std_dev)\n",
    "max_index=np.max(arr)\n",
    "print(\"max\\n\",max_index)\n",
    "normalized_arr = (arr - np.min(arr)) / (np.max(arr) - np.min(arr))\n",
    "print(\"Normalized Arr:\", normalized_arr)"
   ]
  },
  {
   "cell_type": "code",
   "execution_count": 8,
   "id": "611920bb-cc84-4310-80af-1f9ee4380eac",
   "metadata": {},
   "outputs": [
    {
     "name": "stdout",
     "output_type": "stream",
     "text": [
      "[[7 1 4]\n",
      " [9 1 9]\n",
      " [9 3 1]]\n",
      "[[ 6  1 10]\n",
      " [ 9  3  6]\n",
      " [10  9  1]]\n"
     ]
    },
    {
     "data": {
      "text/plain": [
       "(array([[13,  2, 14],\n",
       "        [18,  4, 15],\n",
       "        [19, 12,  2]]),\n",
       " array([[ 1,  0, -6],\n",
       "        [ 0, -2,  3],\n",
       "        [-1, -6,  0]]),\n",
       " array([[42,  1, 40],\n",
       "        [81,  3, 54],\n",
       "        [90, 27,  1]]),\n",
       " array([[ 91,  46,  80],\n",
       "        [153,  93, 105],\n",
       "        [ 91,  27, 109]]))"
      ]
     },
     "execution_count": 8,
     "metadata": {},
     "output_type": "execute_result"
    }
   ],
   "source": [
    "#4.ii>Create two 2D arrays of shape (3, 3) with random integers between 1 and 10.\n",
    "#Print both arrays.\n",
    "#Perform element-wise addition, subtraction, and multiplication of the arrays.\n",
    "#Calculate the dot product of the arrays.\n",
    "import numpy as np\n",
    "arr1=np.random.randint(1,11,size=(3,3))\n",
    "arr2=np.random.randint(1,11,size=(3,3))\n",
    "print(arr1)\n",
    "print(arr2)\n",
    "element_wise_addition = arr1 + arr2\n",
    "element_wise_subtraction = arr1 - arr2\n",
    "element_wise_multiplication = arr1 * arr2\n",
    "dot_product = np.dot(arr1, arr2)\n",
    "element_wise_addition, element_wise_subtraction, element_wise_multiplication, dot_product"
   ]
  },
  {
   "cell_type": "code",
   "execution_count": null,
   "id": "e39ba998-0bd2-4b73-8f3c-eca7f2a190a2",
   "metadata": {},
   "outputs": [],
   "source": []
  }
 ],
 "metadata": {
  "kernelspec": {
   "display_name": "Python 3 (ipykernel)",
   "language": "python",
   "name": "python3"
  },
  "language_info": {
   "codemirror_mode": {
    "name": "ipython",
    "version": 3
   },
   "file_extension": ".py",
   "mimetype": "text/x-python",
   "name": "python",
   "nbconvert_exporter": "python",
   "pygments_lexer": "ipython3",
   "version": "3.11.7"
  }
 },
 "nbformat": 4,
 "nbformat_minor": 5
}
