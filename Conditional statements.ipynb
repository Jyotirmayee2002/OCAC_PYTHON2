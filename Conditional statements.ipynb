{
 "cells": [
  {
   "cell_type": "code",
   "execution_count": 1,
   "id": "2ad52311-cd99-4f29-8d27-98da28b87a57",
   "metadata": {},
   "outputs": [],
   "source": [
    "#Block Structure"
   ]
  },
  {
   "cell_type": "code",
   "execution_count": 2,
   "id": "a2c7f7ea-8dc7-4fb3-860a-5459667c2cd9",
   "metadata": {},
   "outputs": [
    {
     "name": "stdout",
     "output_type": "stream",
     "text": [
      "Hi\n",
      "Jyoti\n"
     ]
    }
   ],
   "source": [
    "if 1<2:\n",
    "    print('Hi')\n",
    "    print('Jyoti')"
   ]
  },
  {
   "cell_type": "code",
   "execution_count": 5,
   "id": "224b1d22-e7d0-4d8d-b45b-2dc06e09d712",
   "metadata": {},
   "outputs": [],
   "source": [
    "if 3<1:\n",
    "    print('good')"
   ]
  },
  {
   "cell_type": "code",
   "execution_count": 6,
   "id": "742f98dd-74e5-48c7-869a-986981e3dbe2",
   "metadata": {},
   "outputs": [
    {
     "name": "stdout",
     "output_type": "stream",
     "text": [
      "book\n"
     ]
    }
   ],
   "source": [
    "if 34<12:\n",
    "    print('hi')\n",
    "print('book')"
   ]
  },
  {
   "cell_type": "code",
   "execution_count": 7,
   "id": "22429b5c-f3f9-4a1a-b66b-e9e3ab03ccf8",
   "metadata": {},
   "outputs": [
    {
     "name": "stdin",
     "output_type": "stream",
     "text": [
      "enter name: jyoti\n"
     ]
    },
    {
     "name": "stdout",
     "output_type": "stream",
     "text": [
      "hello, jyoti!\n"
     ]
    }
   ],
   "source": [
    "name=input(\"enter name:\")\n",
    "if name==\"jyoti\":\n",
    "    print(\"hello, jyoti!\")"
   ]
  },
  {
   "cell_type": "code",
   "execution_count": 8,
   "id": "f4e4014c-60b1-48d2-af53-c1b3da1369bd",
   "metadata": {},
   "outputs": [],
   "source": [
    "#If-else"
   ]
  },
  {
   "cell_type": "code",
   "execution_count": 9,
   "id": "396aaf22-7767-4efd-95c5-d40a0304e8df",
   "metadata": {},
   "outputs": [
    {
     "name": "stdout",
     "output_type": "stream",
     "text": [
      "true\n"
     ]
    }
   ],
   "source": [
    "if 1<2:\n",
    "    print('true')\n",
    "else:\n",
    "    print('false')"
   ]
  },
  {
   "cell_type": "code",
   "execution_count": 10,
   "id": "08499e19-2fd0-49c9-80b6-a7e6a0a04b1d",
   "metadata": {},
   "outputs": [
    {
     "name": "stdout",
     "output_type": "stream",
     "text": [
      "yes\n"
     ]
    }
   ],
   "source": [
    "if 10>30:\n",
    "    print('no')\n",
    "else:\n",
    "    print('yes')"
   ]
  },
  {
   "cell_type": "code",
   "execution_count": 14,
   "id": "032a762a-876d-4d6d-8688-4e8a3b17ca1c",
   "metadata": {},
   "outputs": [
    {
     "name": "stdin",
     "output_type": "stream",
     "text": [
      "enter a number 33\n"
     ]
    },
    {
     "name": "stdout",
     "output_type": "stream",
     "text": [
      "33 is odd number\n"
     ]
    }
   ],
   "source": [
    "x=int(input('enter a number'))\n",
    "if(x%2==0):\n",
    "      print(x,'is even number')\n",
    "else:\n",
    "      print(x,'is odd number')"
   ]
  },
  {
   "cell_type": "code",
   "execution_count": 16,
   "id": "a645d1d2-2e52-4e63-9af4-26ce8018fb6e",
   "metadata": {},
   "outputs": [
    {
     "name": "stdin",
     "output_type": "stream",
     "text": [
      "enter name: mona\n"
     ]
    },
    {
     "name": "stdout",
     "output_type": "stream",
     "text": [
      "hello mona good morning\n"
     ]
    }
   ],
   "source": [
    "name=input('enter name:')\n",
    "if name=='payal':\n",
    "    print('hello payal how are you')\n",
    "else:\n",
    "    print('hello', name, 'good morning')"
   ]
  },
  {
   "cell_type": "code",
   "execution_count": 17,
   "id": "5248c178-cf8c-4eb4-903e-81421d64bc3e",
   "metadata": {},
   "outputs": [
    {
     "name": "stdout",
     "output_type": "stream",
     "text": [
      "yes\n",
      "no\n"
     ]
    }
   ],
   "source": [
    "lst=['one','two',3,2,'five']\n",
    "if 'one' in lst:\n",
    "    print('yes')\n",
    "if 'nine' not in lst:\n",
    "    print('no')"
   ]
  },
  {
   "cell_type": "code",
   "execution_count": 22,
   "id": "60c4c22d-c5fe-4a23-913d-b685720b232c",
   "metadata": {},
   "outputs": [
    {
     "name": "stdin",
     "output_type": "stream",
     "text": [
      " -12\n"
     ]
    },
    {
     "name": "stdout",
     "output_type": "stream",
     "text": [
      "-12 is negative\n"
     ]
    }
   ],
   "source": [
    "#given number is positive or negative\n",
    "a=int(input())\n",
    "if (a>=0):\n",
    "    print(a,'is positive')\n",
    "else:\n",
    "    print(a,'is negative')\n"
   ]
  },
  {
   "cell_type": "code",
   "execution_count": 23,
   "id": "055d8446-71cc-402d-91be-adcb5e421b04",
   "metadata": {},
   "outputs": [
    {
     "name": "stdout",
     "output_type": "stream",
     "text": [
      "71 is odd\n",
      "this is out of if else block\n"
     ]
    }
   ],
   "source": [
    "x=71\n",
    "if x%2==0:\n",
    "    print(x,'is even')\n",
    "else:\n",
    "    print(x,'is odd')\n",
    "print('this is out of if else block')"
   ]
  },
  {
   "cell_type": "code",
   "execution_count": 24,
   "id": "55682448-383d-44e0-ae4e-90f2df0ff2f3",
   "metadata": {},
   "outputs": [],
   "source": [
    "#If - elif - else "
   ]
  },
  {
   "cell_type": "code",
   "execution_count": 26,
   "id": "d1fc39e1-ba88-4a11-b928-1dc7d35afbea",
   "metadata": {},
   "outputs": [
    {
     "name": "stdout",
     "output_type": "stream",
     "text": [
      "yes\n"
     ]
    }
   ],
   "source": [
    "if 3==3:\n",
    "    print('yes')\n",
    "elif 6==6:\n",
    "    print('right')"
   ]
  },
  {
   "cell_type": "code",
   "execution_count": 27,
   "id": "4c42f583-8695-40c8-a550-0c1c8a771877",
   "metadata": {},
   "outputs": [
    {
     "name": "stdout",
     "output_type": "stream",
     "text": [
      "grade C\n"
     ]
    }
   ],
   "source": [
    "y=48\n",
    "if y>90:\n",
    "    print('grade A')\n",
    "elif y>60:\n",
    "    print('grade B')\n",
    "elif y>40:\n",
    "    print('grade C')\n",
    "else:\n",
    "    print('grade F')"
   ]
  },
  {
   "cell_type": "code",
   "execution_count": 28,
   "id": "06d07652-ce69-40bc-b15b-9d6b82f95802",
   "metadata": {},
   "outputs": [
    {
     "name": "stdout",
     "output_type": "stream",
     "text": [
      "I am in elif block\n",
      "x is negative\n"
     ]
    }
   ],
   "source": [
    "x=-50\n",
    "if((x>0) or (x==-100)):\n",
    "    print('x is positive')\n",
    "elif(x<0):\n",
    "    print('I am in elif block')\n",
    "    print('x is negative')\n",
    "else:\n",
    "    print('unidentified')"
   ]
  },
  {
   "cell_type": "code",
   "execution_count": 29,
   "id": "fd4eb4d1-8365-4dfd-8182-b46806cb7459",
   "metadata": {},
   "outputs": [
    {
     "name": "stdout",
     "output_type": "stream",
     "text": [
      "correct\n",
      "i am out of if block\n"
     ]
    }
   ],
   "source": [
    "x=35\n",
    "if(x>78):\n",
    "    print('no')\n",
    "    print('hello')\n",
    "elif(x<12):\n",
    "    print('hii')\n",
    "else:\n",
    "    print('correct')\n",
    "print('i am out of if block')"
   ]
  },
  {
   "cell_type": "code",
   "execution_count": 30,
   "id": "08c09dfa-4e7d-4185-aa74-49ef7d70e088",
   "metadata": {},
   "outputs": [
    {
     "name": "stdin",
     "output_type": "stream",
     "text": [
      "enter your favorite brand FO\n"
     ]
    },
    {
     "name": "stdout",
     "output_type": "stream",
     "text": [
      "buy one get one free\n"
     ]
    }
   ],
   "source": [
    "brand=input('enter your favorite brand')\n",
    "if brand=='RC':\n",
    "    print('it is chidrens brand')\n",
    "elif brand=='KF':\n",
    "    print('not that much enjoyment')\n",
    "elif brand=='FO':\n",
    "    print('buy one get one free')\n",
    "else:\n",
    "    print('other brand')"
   ]
  },
  {
   "cell_type": "code",
   "execution_count": 31,
   "id": "440187a1-9aea-4b8a-a2dd-86e66bf04d61",
   "metadata": {},
   "outputs": [
    {
     "name": "stdout",
     "output_type": "stream",
     "text": [
      "hello\n"
     ]
    },
    {
     "name": "stderr",
     "output_type": "stream",
     "text": [
      "<>:1: SyntaxWarning: \"is\" with a literal. Did you mean \"==\"?\n",
      "<>:1: SyntaxWarning: \"is\" with a literal. Did you mean \"==\"?\n",
      "C:\\Users\\DELL\\AppData\\Local\\Temp\\ipykernel_3508\\3205799166.py:1: SyntaxWarning: \"is\" with a literal. Did you mean \"==\"?\n",
      "  if 5 is 3:\n"
     ]
    }
   ],
   "source": [
    "if 5 is 3:\n",
    "    print('no')\n",
    "elif 1>8:\n",
    "    print('wrong answer')\n",
    "else:\n",
    "    print('hello')"
   ]
  },
  {
   "cell_type": "code",
   "execution_count": 33,
   "id": "1bd1a1a3-3f2d-4d3f-9c7b-31813366e762",
   "metadata": {},
   "outputs": [
    {
     "name": "stdin",
     "output_type": "stream",
     "text": [
      "enter marks: 95\n"
     ]
    },
    {
     "name": "stdout",
     "output_type": "stream",
     "text": [
      "95 A grade\n"
     ]
    }
   ],
   "source": [
    "a=int(float(input('enter marks:')))\n",
    "if(a>85 and a<=100):\n",
    "    print(a,'A grade')\n",
    "elif(a<=85 and a>75):\n",
    "    print(a,'B grade')\n",
    "elif(a<=75 and a>65):\n",
    "    print(a,'C grade')\n",
    "elif(a<=65 and a>55):\n",
    "    print(a,'D grade')\n",
    "elif(a<=55 and a>45):\n",
    "    print(a,'E grade')\n",
    "else:\n",
    "    print(a,'Fail')"
   ]
  },
  {
   "cell_type": "code",
   "execution_count": 3,
   "id": "8140da18-44c2-44bb-94dd-3ae7cc381684",
   "metadata": {},
   "outputs": [
    {
     "name": "stdin",
     "output_type": "stream",
     "text": [
      "enter first number 35\n",
      "enter second number 51\n"
     ]
    },
    {
     "name": "stdout",
     "output_type": "stream",
     "text": [
      "biggest number is 51\n"
     ]
    }
   ],
   "source": [
    "n1=int(input(\"enter first number\"))\n",
    "n2=int(input(\"enter second number\"))\n",
    "if n1>n2:\n",
    "    print(\"biggest number is,\",n1)\n",
    "else:\n",
    "    print(\"biggest number is\",n2)"
   ]
  },
  {
   "cell_type": "code",
   "execution_count": 5,
   "id": "8e238385-6b21-4674-a085-432a1f62ed87",
   "metadata": {},
   "outputs": [
    {
     "name": "stdin",
     "output_type": "stream",
     "text": [
      "enter the first number 23\n",
      "enter the second number 50\n",
      "enter the third number 12\n"
     ]
    },
    {
     "name": "stdout",
     "output_type": "stream",
     "text": [
      "50 is the largest\n"
     ]
    }
   ],
   "source": [
    "x1=int(input(\"enter the first number\"))\n",
    "x2=int(input(\"enter the second number\"))\n",
    "x3=int(input(\"enter the third number\"))\n",
    "if n1>n2 and n1>n3:\n",
    "    print(x1,\"is the largest\")\n",
    "elif n2>n3:\n",
    "    print(x2,\"is the largest\")\n",
    "else:\n",
    "    print(x3,\"is the largest\")"
   ]
  },
  {
   "cell_type": "code",
   "execution_count": 7,
   "id": "bf8f90d1-a233-4fc8-92f3-04fa54e001c4",
   "metadata": {},
   "outputs": [
    {
     "name": "stdin",
     "output_type": "stream",
     "text": [
      "enter first string bbs\n",
      "enter second string bbsr\n"
     ]
    },
    {
     "name": "stdout",
     "output_type": "stream",
     "text": [
      "first is less than second string\n"
     ]
    }
   ],
   "source": [
    "s1=input(\"enter first string\")\n",
    "s2=input(\"enter second string\")\n",
    "if s1==s2:\n",
    "    print(\"both strings are equal\")\n",
    "elif s1<s2:\n",
    "    print(\"first is less than second string\")\n",
    "else:\n",
    "    print(\"first string is greater than second string\")"
   ]
  },
  {
   "cell_type": "code",
   "execution_count": 8,
   "id": "3b379e7e-2d32-48cb-930f-c99ed8b07543",
   "metadata": {},
   "outputs": [],
   "source": [
    "#Nested if statements"
   ]
  },
  {
   "cell_type": "code",
   "execution_count": 9,
   "id": "c9e2a46e-bd55-4add-9a51-4f5e599802fe",
   "metadata": {},
   "outputs": [
    {
     "name": "stdout",
     "output_type": "stream",
     "text": [
      "negative number\n"
     ]
    }
   ],
   "source": [
    "num=10\n",
    "if num>=0:\n",
    "    if num==0:\n",
    "        print(\"not\")\n",
    "    else:\n",
    "        print(\"negative number\")\n",
    "else:\n",
    "    print(\"positive number\")"
   ]
  },
  {
   "cell_type": "code",
   "execution_count": 11,
   "id": "4cd0c618-3a50-4c22-b2f5-70051f8daf33",
   "metadata": {},
   "outputs": [
    {
     "name": "stdout",
     "output_type": "stream",
     "text": [
      "less than 3\n",
      "good\n"
     ]
    }
   ],
   "source": [
    "a=2.1\n",
    "if(a<3):\n",
    "    print(\"less than 3\")\n",
    "    if a>2:\n",
    "        print(\"good\")\n",
    "elif a<5:\n",
    "    print(\"less than 5\")\n",
    "else:\n",
    "    print(\"5 or more\")"
   ]
  },
  {
   "cell_type": "code",
   "execution_count": 13,
   "id": "32853045-e1c1-47a7-8b0c-a6a4d2c640b2",
   "metadata": {},
   "outputs": [
    {
     "name": "stdin",
     "output_type": "stream",
     "text": [
      "enter your pin 3421\n",
      "withdraw amount: 15000\n"
     ]
    },
    {
     "name": "stdout",
     "output_type": "stream",
     "text": [
      "15000 successfully transaction completed\n"
     ]
    }
   ],
   "source": [
    "#bank transaction using conditional statements\n",
    "amount=20000\n",
    "pin=3421\n",
    "if(int(input('enter your pin'))==3421):\n",
    "    with_draw=int(input('withdraw amount:'))\n",
    "    if(with_draw<=amount):\n",
    "        print(with_draw,'successfully transaction completed')\n",
    "    else:\n",
    "        print(with_drwa,'not sufficient funds in your account')\n",
    "else:\n",
    "    print('invalid pin number')"
   ]
  },
  {
   "cell_type": "code",
   "execution_count": null,
   "id": "746d6a56-e042-4339-a464-640dc6fde6f1",
   "metadata": {},
   "outputs": [],
   "source": []
  }
 ],
 "metadata": {
  "kernelspec": {
   "display_name": "Python 3 (ipykernel)",
   "language": "python",
   "name": "python3"
  },
  "language_info": {
   "codemirror_mode": {
    "name": "ipython",
    "version": 3
   },
   "file_extension": ".py",
   "mimetype": "text/x-python",
   "name": "python",
   "nbconvert_exporter": "python",
   "pygments_lexer": "ipython3",
   "version": "3.11.7"
  }
 },
 "nbformat": 4,
 "nbformat_minor": 5
}
