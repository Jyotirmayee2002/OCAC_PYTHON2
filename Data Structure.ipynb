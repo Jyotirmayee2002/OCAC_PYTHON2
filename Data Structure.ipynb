{
 "cells": [
  {
   "cell_type": "code",
   "execution_count": 1,
   "id": "aa03da3d-13b1-47f6-9449-070fd18df0cb",
   "metadata": {},
   "outputs": [],
   "source": [
    "#Range()"
   ]
  },
  {
   "cell_type": "code",
   "execution_count": 1,
   "id": "fef51226-63c9-4c75-becd-3c3995cfaed6",
   "metadata": {},
   "outputs": [
    {
     "data": {
      "text/plain": [
       "range(0, 10)"
      ]
     },
     "execution_count": 1,
     "metadata": {},
     "output_type": "execute_result"
    }
   ],
   "source": [
    "range(10)"
   ]
  },
  {
   "cell_type": "code",
   "execution_count": 2,
   "id": "dd8a15fc-e7fd-4c63-93c1-a6d57789fd9d",
   "metadata": {},
   "outputs": [
    {
     "data": {
      "text/plain": [
       "[0, 1, 2, 3, 4, 5, 6, 7, 8, 9]"
      ]
     },
     "execution_count": 2,
     "metadata": {},
     "output_type": "execute_result"
    }
   ],
   "source": [
    "list(range(10))"
   ]
  },
  {
   "cell_type": "code",
   "execution_count": 5,
   "id": "cc3a71b3-abff-4e16-b19e-276271220180",
   "metadata": {},
   "outputs": [
    {
     "data": {
      "text/plain": [
       "[5, 6, 7, 8, 9]"
      ]
     },
     "execution_count": 5,
     "metadata": {},
     "output_type": "execute_result"
    }
   ],
   "source": [
    "list(range(5,10))"
   ]
  },
  {
   "cell_type": "code",
   "execution_count": 6,
   "id": "9abff667-247e-4fc8-a9e9-f3096cb6e192",
   "metadata": {},
   "outputs": [
    {
     "data": {
      "text/plain": [
       "[5, 8, 11, 14]"
      ]
     },
     "execution_count": 6,
     "metadata": {},
     "output_type": "execute_result"
    }
   ],
   "source": [
    "list(range(5,15,3))"
   ]
  },
  {
   "cell_type": "code",
   "execution_count": 7,
   "id": "b607ec50-ba6c-4596-8195-a9bf0c19fcfc",
   "metadata": {},
   "outputs": [
    {
     "name": "stdout",
     "output_type": "stream",
     "text": [
      "[100, 99, 98, 97, 96, 95, 94, 93, 92, 91, 90, 89, 88, 87, 86, 85, 84, 83, 82, 81, 80, 79, 78, 77, 76, 75, 74, 73, 72, 71, 70, 69, 68, 67, 66, 65, 64, 63, 62, 61, 60, 59, 58, 57, 56, 55, 54, 53, 52, 51, 50, 49, 48, 47, 46, 45, 44, 43, 42, 41, 40, 39, 38, 37, 36, 35, 34, 33, 32, 31, 30, 29, 28, 27, 26, 25, 24, 23, 22, 21, 20, 19, 18, 17, 16, 15, 14, 13, 12, 11, 10, 9, 8, 7, 6, 5, 4, 3, 2, 1]\n"
     ]
    }
   ],
   "source": [
    "print(list(range(100,0,-1)))"
   ]
  },
  {
   "cell_type": "code",
   "execution_count": 8,
   "id": "c57c7007-d62f-4b8e-a2fb-5883f73541cb",
   "metadata": {},
   "outputs": [
    {
     "data": {
      "text/plain": [
       "[50, 45, 40, 35, 30, 25, 20, 15, 10, 5]"
      ]
     },
     "execution_count": 8,
     "metadata": {},
     "output_type": "execute_result"
    }
   ],
   "source": [
    "list(range(50,0,-5))"
   ]
  },
  {
   "cell_type": "code",
   "execution_count": 9,
   "id": "109c20a2-0e0c-4a42-9aca-17e9b3c4d66b",
   "metadata": {},
   "outputs": [],
   "source": [
    "#Lists"
   ]
  },
  {
   "cell_type": "code",
   "execution_count": 11,
   "id": "c146df56-3d28-4bd9-9512-d93675807fc3",
   "metadata": {},
   "outputs": [
    {
     "data": {
      "text/plain": [
       "list"
      ]
     },
     "execution_count": 11,
     "metadata": {},
     "output_type": "execute_result"
    }
   ],
   "source": [
    "#Empty list\n",
    "b=[]\n",
    "type(b)"
   ]
  },
  {
   "cell_type": "code",
   "execution_count": 12,
   "id": "7afee2a6-8e84-4c94-b855-cf252f6470c2",
   "metadata": {},
   "outputs": [
    {
     "data": {
      "text/plain": [
       "[]"
      ]
     },
     "execution_count": 12,
     "metadata": {},
     "output_type": "execute_result"
    }
   ],
   "source": [
    "l=list()\n",
    "l"
   ]
  },
  {
   "cell_type": "code",
   "execution_count": 13,
   "id": "bf3ac630-6ccd-4883-be2e-e986404cc468",
   "metadata": {},
   "outputs": [],
   "source": [
    "#List creation"
   ]
  },
  {
   "cell_type": "code",
   "execution_count": 14,
   "id": "34346a75-c3cf-4f67-8e59-6f05ba077aa2",
   "metadata": {},
   "outputs": [
    {
     "data": {
      "text/plain": [
       "[11, 12, 13]"
      ]
     },
     "execution_count": 14,
     "metadata": {},
     "output_type": "execute_result"
    }
   ],
   "source": [
    "l=[11,12,13]\n",
    "l"
   ]
  },
  {
   "cell_type": "code",
   "execution_count": 15,
   "id": "4e480f8d-df9e-4909-91dd-6d754a1ae097",
   "metadata": {},
   "outputs": [
    {
     "data": {
      "text/plain": [
       "list"
      ]
     },
     "execution_count": 15,
     "metadata": {},
     "output_type": "execute_result"
    }
   ],
   "source": [
    "type(l)"
   ]
  },
  {
   "cell_type": "code",
   "execution_count": 14,
   "id": "1352a06f-f2ca-4293-9069-1d69a79b1056",
   "metadata": {},
   "outputs": [
    {
     "data": {
      "text/plain": [
       "[6.5, 8, (1+7j), False, '9', 'good']"
      ]
     },
     "execution_count": 14,
     "metadata": {},
     "output_type": "execute_result"
    }
   ],
   "source": [
    "li=[6.5,8,1+7j,False,'9','good']\n",
    "li"
   ]
  },
  {
   "cell_type": "code",
   "execution_count": 15,
   "id": "fb9b731a-6a0f-4e7c-87a0-7ead221c0b96",
   "metadata": {},
   "outputs": [
    {
     "name": "stdout",
     "output_type": "stream",
     "text": [
      "[[1, 2, 3], [9, 5], [0, 1], 34, 0]\n"
     ]
    }
   ],
   "source": [
    "#nested list\n",
    "lst=[[1,2,3],[9,5],[0,1],34,0]\n",
    "print(lst)"
   ]
  },
  {
   "cell_type": "code",
   "execution_count": 16,
   "id": "736529d1-e9c1-4d5d-8a09-8d992b08732c",
   "metadata": {},
   "outputs": [
    {
     "name": "stdout",
     "output_type": "stream",
     "text": [
      "5\n"
     ]
    }
   ],
   "source": [
    "#List length\n",
    "new=['one','two','8',[1,2,3],[1,9]]\n",
    "print(len(new))"
   ]
  },
  {
   "cell_type": "code",
   "execution_count": 17,
   "id": "92b2a8d0-df9a-4f9c-b963-0bce2dad48a5",
   "metadata": {},
   "outputs": [
    {
     "name": "stdout",
     "output_type": "stream",
     "text": [
      "0\n"
     ]
    }
   ],
   "source": [
    "demo=[]\n",
    "print(len(demo))"
   ]
  },
  {
   "cell_type": "code",
   "execution_count": 18,
   "id": "ab3bfdd5-67e4-44da-991f-17bfbb73869a",
   "metadata": {},
   "outputs": [],
   "source": [
    "#list indexing"
   ]
  },
  {
   "cell_type": "code",
   "execution_count": 17,
   "id": "e7b8b586-630b-4348-a29e-6125f1738b39",
   "metadata": {},
   "outputs": [
    {
     "data": {
      "text/plain": [
       "'b'"
      ]
     },
     "execution_count": 17,
     "metadata": {},
     "output_type": "execute_result"
    }
   ],
   "source": [
    "a=['b','c','d','one',['three']]\n",
    "a[0]"
   ]
  },
  {
   "cell_type": "code",
   "execution_count": 18,
   "id": "a250c477-01ee-4ae8-8581-02974142fd09",
   "metadata": {},
   "outputs": [
    {
     "data": {
      "text/plain": [
       "['three']"
      ]
     },
     "execution_count": 18,
     "metadata": {},
     "output_type": "execute_result"
    }
   ],
   "source": [
    "a[4]"
   ]
  },
  {
   "cell_type": "code",
   "execution_count": 19,
   "id": "ecd3ab25-7d57-4f0f-82df-6fcfcbe9036f",
   "metadata": {},
   "outputs": [
    {
     "data": {
      "text/plain": [
       "'one'"
      ]
     },
     "execution_count": 19,
     "metadata": {},
     "output_type": "execute_result"
    }
   ],
   "source": [
    "a[-2]"
   ]
  },
  {
   "cell_type": "code",
   "execution_count": 20,
   "id": "388161bd-d38b-4e7c-9783-8f639b506cde",
   "metadata": {},
   "outputs": [
    {
     "ename": "IndexError",
     "evalue": "list index out of range",
     "output_type": "error",
     "traceback": [
      "\u001b[1;31m---------------------------------------------------------------------------\u001b[0m",
      "\u001b[1;31mIndexError\u001b[0m                                Traceback (most recent call last)",
      "Cell \u001b[1;32mIn[20], line 1\u001b[0m\n\u001b[1;32m----> 1\u001b[0m \u001b[43ma\u001b[49m\u001b[43m[\u001b[49m\u001b[38;5;241;43m7\u001b[39;49m\u001b[43m]\u001b[49m\n",
      "\u001b[1;31mIndexError\u001b[0m: list index out of range"
     ]
    }
   ],
   "source": [
    "a[7]"
   ]
  },
  {
   "cell_type": "code",
   "execution_count": 21,
   "id": "217c3932-208c-4a39-97d6-d39cd74d65f1",
   "metadata": {},
   "outputs": [
    {
     "data": {
      "text/plain": [
       "['b', 'c', 'new', 'one', ['three']]"
      ]
     },
     "execution_count": 21,
     "metadata": {},
     "output_type": "execute_result"
    }
   ],
   "source": [
    "a[2]='new'\n",
    "a"
   ]
  },
  {
   "cell_type": "code",
   "execution_count": null,
   "id": "490e2ad6-36ae-420a-a729-8a840e820b23",
   "metadata": {},
   "outputs": [],
   "source": [
    "#List slicing"
   ]
  },
  {
   "cell_type": "code",
   "execution_count": 22,
   "id": "e8146553-92f1-484d-a302-fde793ca0546",
   "metadata": {},
   "outputs": [
    {
     "name": "stdout",
     "output_type": "stream",
     "text": [
      "[10, 34, 65, 42, 18, 4, 50]\n"
     ]
    }
   ],
   "source": [
    "data=[10,34,65,42,18,4,50]\n",
    "print(data[:])"
   ]
  },
  {
   "cell_type": "code",
   "execution_count": 23,
   "id": "cabc9e51-a1d0-4172-a561-4c0adb31a10d",
   "metadata": {},
   "outputs": [
    {
     "name": "stdout",
     "output_type": "stream",
     "text": [
      "[10, 34, 65, 42, 18]\n"
     ]
    }
   ],
   "source": [
    "print(data[:5])"
   ]
  },
  {
   "cell_type": "code",
   "execution_count": 24,
   "id": "d507c566-ad61-4a94-bc8f-94564c70fb70",
   "metadata": {},
   "outputs": [
    {
     "name": "stdout",
     "output_type": "stream",
     "text": [
      "[]\n"
     ]
    }
   ],
   "source": [
    "print(data[-3:2:1])"
   ]
  },
  {
   "cell_type": "code",
   "execution_count": 25,
   "id": "76a6bf0a-2eb0-43b3-ac8c-c066bac15ee7",
   "metadata": {},
   "outputs": [
    {
     "name": "stdout",
     "output_type": "stream",
     "text": [
      "[50, 4, 18, 42, 65, 34, 10]\n"
     ]
    }
   ],
   "source": [
    "print(data[-1: :-1])"
   ]
  },
  {
   "cell_type": "code",
   "execution_count": 26,
   "id": "c9f6a294-70ce-4d0b-b986-73e207187b61",
   "metadata": {},
   "outputs": [
    {
     "data": {
      "text/plain": [
       "4"
      ]
     },
     "execution_count": 26,
     "metadata": {},
     "output_type": "execute_result"
    }
   ],
   "source": [
    "nest=[3,6,1,[9,12,['welcome'],10,8]]\n",
    "len(nest)"
   ]
  },
  {
   "cell_type": "code",
   "execution_count": 27,
   "id": "5fb551f6-f207-4492-9b78-922d37a3736a",
   "metadata": {},
   "outputs": [
    {
     "data": {
      "text/plain": [
       "['welcome']"
      ]
     },
     "execution_count": 27,
     "metadata": {},
     "output_type": "execute_result"
    }
   ],
   "source": [
    "nest[3][2]"
   ]
  },
  {
   "cell_type": "code",
   "execution_count": 28,
   "id": "210f2e73-9bbb-4adb-8339-03e4d04ecaae",
   "metadata": {},
   "outputs": [
    {
     "data": {
      "text/plain": [
       "10"
      ]
     },
     "execution_count": 28,
     "metadata": {},
     "output_type": "execute_result"
    }
   ],
   "source": [
    "nest[3][3]"
   ]
  },
  {
   "cell_type": "code",
   "execution_count": 29,
   "id": "69e8d4df-5d6c-4b7c-ad15-48c81276723b",
   "metadata": {},
   "outputs": [
    {
     "data": {
      "text/plain": [
       "['hello']"
      ]
     },
     "execution_count": 29,
     "metadata": {},
     "output_type": "execute_result"
    }
   ],
   "source": [
    "lst=[1,2,[3,4],[5,[100,200,['hello'],23,11],1,7]]\n",
    "lst[3][1][2]"
   ]
  },
  {
   "cell_type": "code",
   "execution_count": 30,
   "id": "60939bd8-0988-4386-ba27-6f8fc35be19d",
   "metadata": {},
   "outputs": [
    {
     "data": {
      "text/plain": [
       "[1, 2, [3, 4], [5, [100, 200, ['hello'], 32, 11], 1, 7]]"
      ]
     },
     "execution_count": 30,
     "metadata": {},
     "output_type": "execute_result"
    }
   ],
   "source": [
    "#replace 23 with 32\n",
    "lst[3][1][3]=32\n",
    "lst"
   ]
  },
  {
   "cell_type": "code",
   "execution_count": 31,
   "id": "839b531c-5623-44ef-9de4-3276e0c4db09",
   "metadata": {},
   "outputs": [
    {
     "data": {
      "text/plain": [
       "['good', 23, 'd', 34.6, 4, 6, 'book']"
      ]
     },
     "execution_count": 31,
     "metadata": {},
     "output_type": "execute_result"
    }
   ],
   "source": [
    "#List Concatenation\n",
    "l1=['good',23,'d',34.6]\n",
    "l2=[4,6,'book']\n",
    "l1+l2"
   ]
  },
  {
   "cell_type": "code",
   "execution_count": null,
   "id": "fb5a8eca-30ae-4ef2-a3e1-c1b77eda5ab8",
   "metadata": {},
   "outputs": [],
   "source": [
    "#List Methods"
   ]
  },
  {
   "cell_type": "code",
   "execution_count": 32,
   "id": "e484e3ba-a388-4dfd-9cb6-9dbf418f6cbd",
   "metadata": {},
   "outputs": [
    {
     "data": {
      "text/plain": [
       "[1, 2, 3, 4, 5, 12]"
      ]
     },
     "execution_count": 32,
     "metadata": {},
     "output_type": "execute_result"
    }
   ],
   "source": [
    "#Append\n",
    "list=[1,2,3,4,5]\n",
    "list.append(12)\n",
    "list"
   ]
  },
  {
   "cell_type": "code",
   "execution_count": 33,
   "id": "acaaa24e-1023-4a20-b849-a50e345655cf",
   "metadata": {},
   "outputs": [
    {
     "data": {
      "text/plain": [
       "[11, 12, 13, 14, [22, 23]]"
      ]
     },
     "execution_count": 33,
     "metadata": {},
     "output_type": "execute_result"
    }
   ],
   "source": [
    "lst=[11,12,13,14]\n",
    "lst.append([22,23])\n",
    "lst"
   ]
  },
  {
   "cell_type": "code",
   "execution_count": 34,
   "id": "7876a01d-a136-4b8f-a63a-a1da32903150",
   "metadata": {},
   "outputs": [
    {
     "data": {
      "text/plain": [
       "[11, 22, 33, 8, 4]"
      ]
     },
     "execution_count": 34,
     "metadata": {},
     "output_type": "execute_result"
    }
   ],
   "source": [
    "#Extend\n",
    "lst=[11,22,33]\n",
    "lst.extend([8,4])\n",
    "lst"
   ]
  },
  {
   "cell_type": "code",
   "execution_count": 35,
   "id": "5f77e73c-6a22-4133-bad2-a8ad72c4fc10",
   "metadata": {},
   "outputs": [
    {
     "data": {
      "text/plain": [
       "[5, 9, 7, 3]"
      ]
     },
     "execution_count": 35,
     "metadata": {},
     "output_type": "execute_result"
    }
   ],
   "source": [
    "#Insert\n",
    "my_list=[5,7,3]\n",
    "my_list.insert(1,9)\n",
    "my_list"
   ]
  },
  {
   "cell_type": "code",
   "execution_count": 36,
   "id": "c09a40cd-e8a3-473f-a59f-b358df546fe5",
   "metadata": {},
   "outputs": [
    {
     "name": "stdout",
     "output_type": "stream",
     "text": [
      "[50, 55, 30, 40]\n"
     ]
    }
   ],
   "source": [
    "#Remove\n",
    "marks=[50,55,60,30,40]\n",
    "marks.remove(60)\n",
    "print(marks)"
   ]
  },
  {
   "cell_type": "code",
   "execution_count": 37,
   "id": "d90e90b1-51e2-4910-97e1-18d33e2ae19f",
   "metadata": {},
   "outputs": [
    {
     "name": "stdout",
     "output_type": "stream",
     "text": [
      "[34, 33, 31, 21]\n"
     ]
    }
   ],
   "source": [
    "demo=[34,33,21,31,21]\n",
    "demo.remove(21)\n",
    "print(demo)"
   ]
  },
  {
   "cell_type": "code",
   "execution_count": 38,
   "id": "0f89cf2b-8832-44fc-801a-f54bc197a368",
   "metadata": {},
   "outputs": [
    {
     "data": {
      "text/plain": [
       "[11, 12, 13, 14]"
      ]
     },
     "execution_count": 38,
     "metadata": {},
     "output_type": "execute_result"
    }
   ],
   "source": [
    "lst=[11,[15 ,'two','b'],12,13,14]\n",
    "lst.remove(lst[1])\n",
    "lst"
   ]
  },
  {
   "cell_type": "code",
   "execution_count": 39,
   "id": "a87ea0c2-51b6-477b-b432-e254b430ed79",
   "metadata": {},
   "outputs": [
    {
     "name": "stdout",
     "output_type": "stream",
     "text": [
      "[]\n"
     ]
    }
   ],
   "source": [
    "#Clear\n",
    "b=[11,12,23,22]\n",
    "b.clear()\n",
    "print(b)"
   ]
  },
  {
   "cell_type": "code",
   "execution_count": 40,
   "id": "8cc950cb-c113-4cb1-8ae6-ef11ba021bc6",
   "metadata": {},
   "outputs": [
    {
     "name": "stdout",
     "output_type": "stream",
     "text": [
      "[11, 12, 13]\n"
     ]
    }
   ],
   "source": [
    "#Pop\n",
    "marks=[11,12,13,14]\n",
    "marks.pop()\n",
    "print(marks)"
   ]
  },
  {
   "cell_type": "code",
   "execution_count": 41,
   "id": "e9892790-f178-47de-ba1f-c90e45cf64b1",
   "metadata": {},
   "outputs": [
    {
     "name": "stdout",
     "output_type": "stream",
     "text": [
      "[11, 12]\n"
     ]
    }
   ],
   "source": [
    "marks.pop(2)\n",
    "print(marks)"
   ]
  },
  {
   "cell_type": "code",
   "execution_count": 42,
   "id": "246c719e-6f50-4324-b024-c21980ade062",
   "metadata": {},
   "outputs": [
    {
     "name": "stdout",
     "output_type": "stream",
     "text": [
      "[1, 2, 4, 5, 6, 6, 7, 8]\n"
     ]
    }
   ],
   "source": [
    "#Delete\n",
    "number=[1,2,3,4,5,6,6,7,8]\n",
    "del number[2]\n",
    "print(number)"
   ]
  },
  {
   "cell_type": "code",
   "execution_count": 43,
   "id": "12960edc-4869-4aeb-bea1-c5fafd99dadf",
   "metadata": {},
   "outputs": [
    {
     "name": "stdout",
     "output_type": "stream",
     "text": [
      "[1, 2, 4, 8]\n"
     ]
    }
   ],
   "source": [
    "del number[3:7]\n",
    "print(number)"
   ]
  },
  {
   "cell_type": "code",
   "execution_count": 44,
   "id": "37ea02bc-ed0c-4e87-b754-eab329efab14",
   "metadata": {},
   "outputs": [
    {
     "name": "stdout",
     "output_type": "stream",
     "text": [
      "[40, 30, 20, 10]\n"
     ]
    }
   ],
   "source": [
    "#Reverse\n",
    "list=[10,20,30,40]\n",
    "list.reverse()\n",
    "print(list)"
   ]
  },
  {
   "cell_type": "code",
   "execution_count": 45,
   "id": "0b54d012-caeb-4691-a465-f116ff62a333",
   "metadata": {},
   "outputs": [
    {
     "data": {
      "text/plain": [
       "[3, 11, 56, 60, 87]"
      ]
     },
     "execution_count": 45,
     "metadata": {},
     "output_type": "execute_result"
    }
   ],
   "source": [
    "#Sorting\n",
    "marks=[11,56,3,87,60]\n",
    "sorted(marks)"
   ]
  },
  {
   "cell_type": "code",
   "execution_count": 46,
   "id": "6cb118ec-a206-4a4d-8165-36e380d623a2",
   "metadata": {},
   "outputs": [
    {
     "data": {
      "text/plain": [
       "[87, 60, 56, 11, 3]"
      ]
     },
     "execution_count": 46,
     "metadata": {},
     "output_type": "execute_result"
    }
   ],
   "source": [
    "sorted(marks, reverse=True)"
   ]
  },
  {
   "cell_type": "code",
   "execution_count": 47,
   "id": "e478868c-c3da-4ee5-87ee-e1d3a35600c0",
   "metadata": {},
   "outputs": [
    {
     "data": {
      "text/plain": [
       "[1, 4, 4, 21, 30, 45]"
      ]
     },
     "execution_count": 47,
     "metadata": {},
     "output_type": "execute_result"
    }
   ],
   "source": [
    "lst=[1,30,4,45,4,21]\n",
    "lst.sort()\n",
    "lst"
   ]
  },
  {
   "cell_type": "code",
   "execution_count": 48,
   "id": "bd730744-a6be-4a87-b0d5-f82d80fa3ddb",
   "metadata": {},
   "outputs": [
    {
     "ename": "TypeError",
     "evalue": "'<' not supported between instances of 'int' and 'str'",
     "output_type": "error",
     "traceback": [
      "\u001b[1;31m---------------------------------------------------------------------------\u001b[0m",
      "\u001b[1;31mTypeError\u001b[0m                                 Traceback (most recent call last)",
      "Cell \u001b[1;32mIn[48], line 2\u001b[0m\n\u001b[0;32m      1\u001b[0m numbers\u001b[38;5;241m=\u001b[39m[\u001b[38;5;124m'\u001b[39m\u001b[38;5;124ma\u001b[39m\u001b[38;5;124m'\u001b[39m,\u001b[38;5;124m'\u001b[39m\u001b[38;5;124mb\u001b[39m\u001b[38;5;124m'\u001b[39m,\u001b[38;5;241m34\u001b[39m,\u001b[38;5;241m12\u001b[39m,\u001b[38;5;124m'\u001b[39m\u001b[38;5;124mc\u001b[39m\u001b[38;5;124m'\u001b[39m]\n\u001b[1;32m----> 2\u001b[0m \u001b[38;5;28mprint\u001b[39m(\u001b[43mnumbers\u001b[49m\u001b[38;5;241;43m.\u001b[39;49m\u001b[43msort\u001b[49m\u001b[43m(\u001b[49m\u001b[43m)\u001b[49m)\n",
      "\u001b[1;31mTypeError\u001b[0m: '<' not supported between instances of 'int' and 'str'"
     ]
    }
   ],
   "source": [
    "numbers=['a','b',34,12,'c']\n",
    "print(numbers.sort())"
   ]
  },
  {
   "cell_type": "code",
   "execution_count": 49,
   "id": "24ea2b95-39ac-4901-898f-123d37166909",
   "metadata": {},
   "outputs": [
    {
     "name": "stdout",
     "output_type": "stream",
     "text": [
      "3\n",
      "1\n"
     ]
    }
   ],
   "source": [
    "#Count\n",
    "marks=[1,1,3,4,5,6,7,7,7,9]\n",
    "print(marks.count(7))\n",
    "print(marks.count(5))"
   ]
  },
  {
   "cell_type": "code",
   "execution_count": 50,
   "id": "fdfbb118-3471-49b9-bd1d-9ef85c913c32",
   "metadata": {},
   "outputs": [
    {
     "name": "stdout",
     "output_type": "stream",
     "text": [
      "[11, 12, 13, 7]\n",
      "[11, 12, 13, 7]\n"
     ]
    }
   ],
   "source": [
    "#Copy\n",
    "#It is of two types: Shallow copy & Deep copy\n",
    "#Shallow Copy\n",
    "l1=[11,12,13]\n",
    "l2=l1\n",
    "l2.append(7)\n",
    "print(l1)\n",
    "print(l2)"
   ]
  },
  {
   "cell_type": "code",
   "execution_count": 51,
   "id": "1f00f38e-5041-4b7f-adee-f269dcbc1e57",
   "metadata": {},
   "outputs": [
    {
     "name": "stdout",
     "output_type": "stream",
     "text": [
      "[11, 12, 13, 60]\n",
      "[11, 12, 13]\n"
     ]
    }
   ],
   "source": [
    "#Deep Copy\n",
    "l1=[11,12,13]\n",
    "l2=l1.copy()\n",
    "l2.append(60)\n",
    "print(l2)\n",
    "print(l1)"
   ]
  },
  {
   "cell_type": "code",
   "execution_count": 52,
   "id": "157f502c-bb1c-4d2e-98c8-cfa7f95feff2",
   "metadata": {},
   "outputs": [
    {
     "data": {
      "text/plain": [
       "3"
      ]
     },
     "execution_count": 52,
     "metadata": {},
     "output_type": "execute_result"
    }
   ],
   "source": [
    "#Index\n",
    "a=[5,2,8,6,1]\n",
    "a.index(6)"
   ]
  },
  {
   "cell_type": "code",
   "execution_count": 53,
   "id": "57fcd831-fd89-4834-a398-a807c505779e",
   "metadata": {},
   "outputs": [
    {
     "data": {
      "text/plain": [
       "1"
      ]
     },
     "execution_count": 53,
     "metadata": {},
     "output_type": "execute_result"
    }
   ],
   "source": [
    "#Min\n",
    "min(a)"
   ]
  },
  {
   "cell_type": "code",
   "execution_count": 54,
   "id": "08a182ff-0bfa-4d3f-8c4c-6daa89a8b418",
   "metadata": {},
   "outputs": [
    {
     "data": {
      "text/plain": [
       "8"
      ]
     },
     "execution_count": 54,
     "metadata": {},
     "output_type": "execute_result"
    }
   ],
   "source": [
    "#Max\n",
    "max(a)"
   ]
  },
  {
   "cell_type": "code",
   "execution_count": 55,
   "id": "eae9e18b-779d-4668-a72e-321c5cc2dfa3",
   "metadata": {},
   "outputs": [
    {
     "data": {
      "text/plain": [
       "21"
      ]
     },
     "execution_count": 55,
     "metadata": {},
     "output_type": "execute_result"
    }
   ],
   "source": [
    "lst=[1,2,3,4,5,6]\n",
    "sum(lst)"
   ]
  },
  {
   "cell_type": "code",
   "execution_count": 56,
   "id": "bc6e09eb-105c-4ff7-bfee-2b187c532849",
   "metadata": {},
   "outputs": [],
   "source": [
    "#TUPLES"
   ]
  },
  {
   "cell_type": "code",
   "execution_count": 57,
   "id": "bdd89449-5aa3-4441-a866-283a8fa8de31",
   "metadata": {},
   "outputs": [
    {
     "data": {
      "text/plain": [
       "tuple"
      ]
     },
     "execution_count": 57,
     "metadata": {},
     "output_type": "execute_result"
    }
   ],
   "source": [
    "tup1=()           #empty tuple\n",
    "type(tup1)"
   ]
  },
  {
   "cell_type": "code",
   "execution_count": 58,
   "id": "3ae8dbc1-96d5-4689-930d-ef9745806f02",
   "metadata": {},
   "outputs": [
    {
     "data": {
      "text/plain": [
       "tuple"
      ]
     },
     "execution_count": 58,
     "metadata": {},
     "output_type": "execute_result"
    }
   ],
   "source": [
    "tup2=tuple()\n",
    "type(tup2)"
   ]
  },
  {
   "cell_type": "code",
   "execution_count": 59,
   "id": "d877d655-a2c6-4449-8aa2-2685b1312b28",
   "metadata": {},
   "outputs": [
    {
     "data": {
      "text/plain": [
       "(3, 6, 12, 'a', 'b')"
      ]
     },
     "execution_count": 59,
     "metadata": {},
     "output_type": "execute_result"
    }
   ],
   "source": [
    "tup3=(3,6,12,'a','b')\n",
    "tup3"
   ]
  },
  {
   "cell_type": "code",
   "execution_count": 60,
   "id": "0bfbb461-bb3e-430e-b8db-b6484bcf71e9",
   "metadata": {},
   "outputs": [
    {
     "data": {
      "text/plain": [
       "(3, 1, ('abc', 23, 7, 'good'))"
      ]
     },
     "execution_count": 60,
     "metadata": {},
     "output_type": "execute_result"
    }
   ],
   "source": [
    "tup4=(3,1,('abc',23,7,'good'))       #Nested tuples\n",
    "tup4"
   ]
  },
  {
   "cell_type": "code",
   "execution_count": 61,
   "id": "7e12e168-e3cf-4212-a73b-dd18003e3d27",
   "metadata": {},
   "outputs": [
    {
     "data": {
      "text/plain": [
       "3"
      ]
     },
     "execution_count": 61,
     "metadata": {},
     "output_type": "execute_result"
    }
   ],
   "source": [
    "len(tup4)"
   ]
  },
  {
   "cell_type": "code",
   "execution_count": 62,
   "id": "0667a311-6b33-4cba-a8a7-68d246475942",
   "metadata": {},
   "outputs": [
    {
     "data": {
      "text/plain": [
       "7"
      ]
     },
     "execution_count": 62,
     "metadata": {},
     "output_type": "execute_result"
    }
   ],
   "source": [
    "tup4[2][2]"
   ]
  },
  {
   "cell_type": "code",
   "execution_count": 63,
   "id": "2a0953fb-1f81-41d3-a70b-63b1aab9a132",
   "metadata": {},
   "outputs": [],
   "source": [
    "#Tuple Indexing"
   ]
  },
  {
   "cell_type": "code",
   "execution_count": 64,
   "id": "fdf71747-720c-4c54-9300-c5e8a85c9598",
   "metadata": {},
   "outputs": [
    {
     "data": {
      "text/plain": [
       "1"
      ]
     },
     "execution_count": 64,
     "metadata": {},
     "output_type": "execute_result"
    }
   ],
   "source": [
    "tup5=(1,2,3,4,5,'jyoti',(45,12))\n",
    "tup5[0]"
   ]
  },
  {
   "cell_type": "code",
   "execution_count": 65,
   "id": "8cbbf510-a3ca-4f01-9c77-49f684e59565",
   "metadata": {},
   "outputs": [
    {
     "data": {
      "text/plain": [
       "'j'"
      ]
     },
     "execution_count": 65,
     "metadata": {},
     "output_type": "execute_result"
    }
   ],
   "source": [
    "tup5[5][0]"
   ]
  },
  {
   "cell_type": "code",
   "execution_count": 66,
   "id": "f0bca7f3-5f3c-42de-ab5a-2ba34f948e4a",
   "metadata": {},
   "outputs": [
    {
     "data": {
      "text/plain": [
       "(45, 12)"
      ]
     },
     "execution_count": 66,
     "metadata": {},
     "output_type": "execute_result"
    }
   ],
   "source": [
    "tup5[-1]"
   ]
  },
  {
   "cell_type": "code",
   "execution_count": 67,
   "id": "9fee9709-8a1a-4834-a438-538955119993",
   "metadata": {},
   "outputs": [],
   "source": [
    "#Tuple Slicing"
   ]
  },
  {
   "cell_type": "code",
   "execution_count": 69,
   "id": "5a5fc2b3-5535-42d0-adfc-4765e5832027",
   "metadata": {},
   "outputs": [
    {
     "data": {
      "text/plain": [
       "('one', 'two', 'three', 'four')"
      ]
     },
     "execution_count": 69,
     "metadata": {},
     "output_type": "execute_result"
    }
   ],
   "source": [
    "mytuple=('one','two','three','four','five','six','seven')\n",
    "mytuple[0:4]"
   ]
  },
  {
   "cell_type": "code",
   "execution_count": 70,
   "id": "67cdb1f7-6aa1-472e-b1ba-dd0e32626ed5",
   "metadata": {},
   "outputs": [
    {
     "data": {
      "text/plain": [
       "('one', 'two', 'three')"
      ]
     },
     "execution_count": 70,
     "metadata": {},
     "output_type": "execute_result"
    }
   ],
   "source": [
    "mytuple[:3]"
   ]
  },
  {
   "cell_type": "code",
   "execution_count": 71,
   "id": "1465d1ac-1066-4919-a416-0b71078b4460",
   "metadata": {},
   "outputs": [
    {
     "data": {
      "text/plain": [
       "('four', 'five', 'six', 'seven')"
      ]
     },
     "execution_count": 71,
     "metadata": {},
     "output_type": "execute_result"
    }
   ],
   "source": [
    "mytuple[-4:]"
   ]
  },
  {
   "cell_type": "code",
   "execution_count": 72,
   "id": "1331c995-7491-4c6e-aed9-4fd7c2ad5c70",
   "metadata": {},
   "outputs": [
    {
     "data": {
      "text/plain": [
       "('one', 'two', 'three')"
      ]
     },
     "execution_count": 72,
     "metadata": {},
     "output_type": "execute_result"
    }
   ],
   "source": [
    "mytuple[:-4]"
   ]
  },
  {
   "cell_type": "code",
   "execution_count": 73,
   "id": "5d9cd01e-6746-49d3-9702-c0ef99d1a106",
   "metadata": {},
   "outputs": [
    {
     "data": {
      "text/plain": [
       "()"
      ]
     },
     "execution_count": 73,
     "metadata": {},
     "output_type": "execute_result"
    }
   ],
   "source": [
    "mytuple[-2:-5]"
   ]
  },
  {
   "cell_type": "code",
   "execution_count": 4,
   "id": "0ea7eecb-b4ab-4b9c-81e7-aabf5cf088b7",
   "metadata": {},
   "outputs": [
    {
     "ename": "TypeError",
     "evalue": "'tuple' object doesn't support item deletion",
     "output_type": "error",
     "traceback": [
      "\u001b[1;31m---------------------------------------------------------------------------\u001b[0m",
      "\u001b[1;31mTypeError\u001b[0m                                 Traceback (most recent call last)",
      "Cell \u001b[1;32mIn[4], line 3\u001b[0m\n\u001b[0;32m      1\u001b[0m \u001b[38;5;66;03m#Remove and change items\u001b[39;00m\n\u001b[0;32m      2\u001b[0m tup\u001b[38;5;241m=\u001b[39m(\u001b[38;5;241m45\u001b[39m,\u001b[38;5;241m12\u001b[39m,\u001b[38;5;241m20\u001b[39m,\u001b[38;5;241m6\u001b[39m,\u001b[38;5;241m15\u001b[39m)\n\u001b[1;32m----> 3\u001b[0m \u001b[38;5;28;01mdel\u001b[39;00m \u001b[43mtup\u001b[49m\u001b[43m[\u001b[49m\u001b[38;5;241;43m2\u001b[39;49m\u001b[43m]\u001b[49m       \u001b[38;5;66;03m#tuples are immutable\u001b[39;00m\n",
      "\u001b[1;31mTypeError\u001b[0m: 'tuple' object doesn't support item deletion"
     ]
    }
   ],
   "source": [
    "#Remove and change items\n",
    "tup=(45,12,20,6,15)\n",
    "del tup[2]       #tuples are immutable"
   ]
  },
  {
   "cell_type": "code",
   "execution_count": 5,
   "id": "8ad1eccc-2e13-46b3-8f57-a85c0e80d1cb",
   "metadata": {},
   "outputs": [
    {
     "ename": "TypeError",
     "evalue": "'tuple' object does not support item assignment",
     "output_type": "error",
     "traceback": [
      "\u001b[1;31m---------------------------------------------------------------------------\u001b[0m",
      "\u001b[1;31mTypeError\u001b[0m                                 Traceback (most recent call last)",
      "Cell \u001b[1;32mIn[5], line 1\u001b[0m\n\u001b[1;32m----> 1\u001b[0m \u001b[43mtup\u001b[49m\u001b[43m[\u001b[49m\u001b[38;5;241;43m1\u001b[39;49m\u001b[43m]\u001b[49m\u001b[38;5;241m=\u001b[39m\u001b[38;5;241m1\u001b[39m\n",
      "\u001b[1;31mTypeError\u001b[0m: 'tuple' object does not support item assignment"
     ]
    }
   ],
   "source": [
    "tup[1]=1    #tuples are immutable meaning we can't change tuple items"
   ]
  },
  {
   "cell_type": "code",
   "execution_count": 6,
   "id": "f8eefdf4-ee4e-455d-91d0-7d14167a4b3c",
   "metadata": {},
   "outputs": [],
   "source": [
    "del tup       #Deleting entire tuple is possible"
   ]
  },
  {
   "cell_type": "code",
   "execution_count": 7,
   "id": "ab74e143-6103-4370-8e96-6f9078b87bee",
   "metadata": {},
   "outputs": [],
   "source": [
    "#Tuple Methods"
   ]
  },
  {
   "cell_type": "code",
   "execution_count": 8,
   "id": "8d77fe6f-e2b6-4662-89f0-ca8ff9829e41",
   "metadata": {},
   "outputs": [
    {
     "data": {
      "text/plain": [
       "3"
      ]
     },
     "execution_count": 8,
     "metadata": {},
     "output_type": "execute_result"
    }
   ],
   "source": [
    "mytuple=(2,3,3,4,5,6,2,7,3)\n",
    "#Count\n",
    "mytuple.count(3)"
   ]
  },
  {
   "cell_type": "code",
   "execution_count": 9,
   "id": "17679c62-7a59-4cb8-a68f-c87b1b64f9c8",
   "metadata": {},
   "outputs": [
    {
     "data": {
      "text/plain": [
       "1"
      ]
     },
     "execution_count": 9,
     "metadata": {},
     "output_type": "execute_result"
    }
   ],
   "source": [
    "mytuple.count(7)"
   ]
  },
  {
   "cell_type": "code",
   "execution_count": 10,
   "id": "113dd3d6-2abd-4e78-810e-697b39dca201",
   "metadata": {},
   "outputs": [
    {
     "data": {
      "text/plain": [
       "4"
      ]
     },
     "execution_count": 10,
     "metadata": {},
     "output_type": "execute_result"
    }
   ],
   "source": [
    "#Index position\n",
    "mytuple.index(5)"
   ]
  },
  {
   "cell_type": "code",
   "execution_count": 11,
   "id": "ffd404fa-5c07-4960-8ab4-db9e82a15857",
   "metadata": {},
   "outputs": [
    {
     "data": {
      "text/plain": [
       "0"
      ]
     },
     "execution_count": 11,
     "metadata": {},
     "output_type": "execute_result"
    }
   ],
   "source": [
    "mytuple.index(2)"
   ]
  },
  {
   "cell_type": "code",
   "execution_count": 12,
   "id": "6fa38c5f-84f6-4500-a258-11ee7990b2dc",
   "metadata": {},
   "outputs": [
    {
     "data": {
      "text/plain": [
       "[2, 5, 5, 9, 11, 12, 60]"
      ]
     },
     "execution_count": 12,
     "metadata": {},
     "output_type": "execute_result"
    }
   ],
   "source": [
    "#Sorting\n",
    "tuple=(11,5,60,12,2,9,5)\n",
    "sorted(tuple)"
   ]
  },
  {
   "cell_type": "code",
   "execution_count": 13,
   "id": "c28ca7b6-12b8-428c-8825-88583c810455",
   "metadata": {},
   "outputs": [
    {
     "data": {
      "text/plain": [
       "[60, 12, 11, 9, 5, 5, 2]"
      ]
     },
     "execution_count": 13,
     "metadata": {},
     "output_type": "execute_result"
    }
   ],
   "source": [
    "sorted(tuple, reverse=True)"
   ]
  },
  {
   "cell_type": "code",
   "execution_count": 14,
   "id": "62d574ed-7576-4af1-beb6-2114debbb288",
   "metadata": {},
   "outputs": [
    {
     "data": {
      "text/plain": [
       "(11, 5, 60, 12, 2, 9, 5)"
      ]
     },
     "execution_count": 14,
     "metadata": {},
     "output_type": "execute_result"
    }
   ],
   "source": [
    "tuple"
   ]
  },
  {
   "cell_type": "code",
   "execution_count": 16,
   "id": "82de31f9-1e3d-4859-a690-5df9b86f6dee",
   "metadata": {},
   "outputs": [
    {
     "data": {
      "text/plain": [
       "True"
      ]
     },
     "execution_count": 16,
     "metadata": {},
     "output_type": "execute_result"
    }
   ],
   "source": [
    "#Tuple Membership\n",
    "mytuple=(12,'two',45,20,'good',6)\n",
    "'good' in mytuple"
   ]
  },
  {
   "cell_type": "code",
   "execution_count": 17,
   "id": "947fffb6-b305-4e21-862e-3f49e6bab3d7",
   "metadata": {},
   "outputs": [
    {
     "data": {
      "text/plain": [
       "False"
      ]
     },
     "execution_count": 17,
     "metadata": {},
     "output_type": "execute_result"
    }
   ],
   "source": [
    "60 in mytuple"
   ]
  },
  {
   "cell_type": "code",
   "execution_count": 18,
   "id": "f802cdd9-18b7-440a-984e-1ce6fdc9d535",
   "metadata": {},
   "outputs": [
    {
     "data": {
      "text/plain": [
       "True"
      ]
     },
     "execution_count": 18,
     "metadata": {},
     "output_type": "execute_result"
    }
   ],
   "source": [
    "45 in mytuple"
   ]
  },
  {
   "cell_type": "code",
   "execution_count": 19,
   "id": "f0872128-af13-4910-bd07-b2c7539931bd",
   "metadata": {},
   "outputs": [],
   "source": [
    "#Sets"
   ]
  },
  {
   "cell_type": "code",
   "execution_count": 22,
   "id": "e4bc1a33-ee32-4693-b160-ff0fd25d7fac",
   "metadata": {},
   "outputs": [
    {
     "name": "stdout",
     "output_type": "stream",
     "text": [
      "set()\n",
      "<class 'set'>\n"
     ]
    }
   ],
   "source": [
    "set_var=set()\n",
    "print(set_var)\n",
    "print(type(set_var))"
   ]
  },
  {
   "cell_type": "code",
   "execution_count": 23,
   "id": "10bd27a1-f425-4a59-b2c0-580c078dfecb",
   "metadata": {},
   "outputs": [
    {
     "name": "stdout",
     "output_type": "stream",
     "text": [
      "{35, 20, 56, 10, 'good'}\n"
     ]
    }
   ],
   "source": [
    "a={10,35,20,'good',56}\n",
    "print(a)"
   ]
  },
  {
   "cell_type": "code",
   "execution_count": 24,
   "id": "567728ce-a5df-4a4c-9cb7-6341a803fdff",
   "metadata": {},
   "outputs": [
    {
     "name": "stdout",
     "output_type": "stream",
     "text": [
      "{2, 6, 7, 10, 45}\n"
     ]
    }
   ],
   "source": [
    "demo={10,45,2,6,7,2,45}\n",
    "print(demo)"
   ]
  },
  {
   "cell_type": "code",
   "execution_count": 25,
   "id": "d0d340f1-20ac-4911-b997-fb8e3c487abd",
   "metadata": {},
   "outputs": [
    {
     "ename": "TypeError",
     "evalue": "'set' object is not subscriptable",
     "output_type": "error",
     "traceback": [
      "\u001b[1;31m---------------------------------------------------------------------------\u001b[0m",
      "\u001b[1;31mTypeError\u001b[0m                                 Traceback (most recent call last)",
      "Cell \u001b[1;32mIn[25], line 1\u001b[0m\n\u001b[1;32m----> 1\u001b[0m \u001b[38;5;28mprint\u001b[39m(\u001b[43mdemo\u001b[49m\u001b[43m[\u001b[49m\u001b[38;5;241;43m2\u001b[39;49m\u001b[43m]\u001b[49m)\n",
      "\u001b[1;31mTypeError\u001b[0m: 'set' object is not subscriptable"
     ]
    }
   ],
   "source": [
    "print(demo[2])"
   ]
  },
  {
   "cell_type": "code",
   "execution_count": 28,
   "id": "27fd50b5-71eb-40d9-a97c-49173bc14422",
   "metadata": {},
   "outputs": [
    {
     "name": "stdout",
     "output_type": "stream",
     "text": [
      "[2, 4, 5, 6, 7, 8]\n"
     ]
    }
   ],
   "source": [
    "s=list(set([2,6,8,5,4,7]))\n",
    "print(s)"
   ]
  },
  {
   "cell_type": "code",
   "execution_count": 1,
   "id": "dde805c7-dbe5-4b9a-88d6-47b2260050f8",
   "metadata": {},
   "outputs": [
    {
     "data": {
      "text/plain": [
       "{'d', 'g', 'o'}"
      ]
     },
     "execution_count": 1,
     "metadata": {},
     "output_type": "execute_result"
    }
   ],
   "source": [
    "tup_set=set(('g','o','o','d'))\n",
    "tup_set"
   ]
  },
  {
   "cell_type": "code",
   "execution_count": 2,
   "id": "a8f27590-df6e-4888-adf2-c580d6a206e9",
   "metadata": {},
   "outputs": [
    {
     "data": {
      "text/plain": [
       "{5, 8, 11, 14, 17, 20, 23, 26, 29}"
      ]
     },
     "execution_count": 2,
     "metadata": {},
     "output_type": "execute_result"
    }
   ],
   "source": [
    "i=set(range(5,30,3))\n",
    "i"
   ]
  },
  {
   "cell_type": "code",
   "execution_count": 3,
   "id": "4632679f-2a2d-4580-b5b2-8c36042fad4f",
   "metadata": {},
   "outputs": [],
   "source": [
    "#Set Methods"
   ]
  },
  {
   "cell_type": "code",
   "execution_count": 4,
   "id": "026e92f6-56db-4f7d-8ef7-f0120f65b0db",
   "metadata": {},
   "outputs": [
    {
     "data": {
      "text/plain": [
       "set()"
      ]
     },
     "execution_count": 4,
     "metadata": {},
     "output_type": "execute_result"
    }
   ],
   "source": [
    "a=set()\n",
    "a"
   ]
  },
  {
   "cell_type": "code",
   "execution_count": 5,
   "id": "26d3ced2-6438-48af-b603-f3706d87e1d4",
   "metadata": {},
   "outputs": [
    {
     "data": {
      "text/plain": [
       "{5}"
      ]
     },
     "execution_count": 5,
     "metadata": {},
     "output_type": "execute_result"
    }
   ],
   "source": [
    "#add() --> we can add single element \n",
    "a.add(5)\n",
    "a"
   ]
  },
  {
   "cell_type": "code",
   "execution_count": 7,
   "id": "7eeded2e-d950-40e8-b12f-c12b230e4280",
   "metadata": {},
   "outputs": [
    {
     "data": {
      "text/plain": [
       "{2, 5, 6, 70, 'b'}"
      ]
     },
     "execution_count": 7,
     "metadata": {},
     "output_type": "execute_result"
    }
   ],
   "source": [
    "a.add(2)\n",
    "a.add(70)\n",
    "a.add('b')\n",
    "a.add(6)\n",
    "a"
   ]
  },
  {
   "cell_type": "code",
   "execution_count": 8,
   "id": "79d66f21-979d-498f-98e9-810dec4e38af",
   "metadata": {},
   "outputs": [
    {
     "name": "stdout",
     "output_type": "stream",
     "text": [
      "{1, 2, 3, 4}\n"
     ]
    }
   ],
   "source": [
    "#update() --> add multiple elements\n",
    "s=set()\n",
    "s.update([1,2,3,4])\n",
    "print(s)"
   ]
  },
  {
   "cell_type": "code",
   "execution_count": 9,
   "id": "4f2e88c8-0acb-42ec-9fdb-b4df59fa685a",
   "metadata": {},
   "outputs": [
    {
     "name": "stdout",
     "output_type": "stream",
     "text": [
      "{1, 2, 3, 4, 7, 8, 9, 'd', 12}\n"
     ]
    }
   ],
   "source": [
    "#add list and set\n",
    "s.update([8,9],{12,7,'d'})\n",
    "print(s)"
   ]
  },
  {
   "cell_type": "code",
   "execution_count": 10,
   "id": "6f53c697-7592-4868-a448-9101b8305047",
   "metadata": {},
   "outputs": [
    {
     "data": {
      "text/plain": [
       "{1, 12, 2, 3, 4, 7, 8, 9, 'd'}"
      ]
     },
     "execution_count": 10,
     "metadata": {},
     "output_type": "execute_result"
    }
   ],
   "source": [
    "#copy() --> copy complete set\n",
    "p=s.copy()\n",
    "p"
   ]
  },
  {
   "cell_type": "code",
   "execution_count": 11,
   "id": "8d3e39d2-90e0-4605-bcda-fb1b1a6eaf5f",
   "metadata": {},
   "outputs": [
    {
     "data": {
      "text/plain": [
       "{0, 1, 12, 2, 3, 4, 7, 8, 9, 'd'}"
      ]
     },
     "execution_count": 11,
     "metadata": {},
     "output_type": "execute_result"
    }
   ],
   "source": [
    "p.add(0)\n",
    "p"
   ]
  },
  {
   "cell_type": "code",
   "execution_count": 12,
   "id": "3cf951ef-17b4-4050-a89f-5f0e403a77fd",
   "metadata": {},
   "outputs": [],
   "source": [
    "#Delete elements from a Set\n",
    "#Discard\n",
    "#Remove"
   ]
  },
  {
   "cell_type": "code",
   "execution_count": 13,
   "id": "373ede61-eafc-4ee6-b344-8cb150e782a3",
   "metadata": {},
   "outputs": [
    {
     "name": "stdout",
     "output_type": "stream",
     "text": [
      "{16, 11, 12, 13, 14, 15}\n",
      "{16, 11, 12, 14, 15}\n"
     ]
    }
   ],
   "source": [
    "b={11,12,13,14,15,16}\n",
    "print(b)\n",
    "b.discard(13)\n",
    "print(b)"
   ]
  },
  {
   "cell_type": "code",
   "execution_count": 14,
   "id": "4b7fb170-c813-4d57-bf50-bd683bd7989d",
   "metadata": {},
   "outputs": [
    {
     "ename": "TypeError",
     "evalue": "set.discard() takes exactly one argument (2 given)",
     "output_type": "error",
     "traceback": [
      "\u001b[1;31m---------------------------------------------------------------------------\u001b[0m",
      "\u001b[1;31mTypeError\u001b[0m                                 Traceback (most recent call last)",
      "Cell \u001b[1;32mIn[14], line 1\u001b[0m\n\u001b[1;32m----> 1\u001b[0m \u001b[43mb\u001b[49m\u001b[38;5;241;43m.\u001b[39;49m\u001b[43mdiscard\u001b[49m\u001b[43m(\u001b[49m\u001b[38;5;241;43m12\u001b[39;49m\u001b[43m,\u001b[49m\u001b[38;5;241;43m11\u001b[39;49m\u001b[43m)\u001b[49m\n\u001b[0;32m      2\u001b[0m \u001b[38;5;28mprint\u001b[39m(b)\n",
      "\u001b[1;31mTypeError\u001b[0m: set.discard() takes exactly one argument (2 given)"
     ]
    }
   ],
   "source": [
    "b.discard(12,11)\n",
    "print(b)"
   ]
  },
  {
   "cell_type": "code",
   "execution_count": 15,
   "id": "355cffea-7299-4dd9-a736-2c7087961494",
   "metadata": {},
   "outputs": [
    {
     "data": {
      "text/plain": [
       "{11, 12, 14, 15, 16}"
      ]
     },
     "execution_count": 15,
     "metadata": {},
     "output_type": "execute_result"
    }
   ],
   "source": [
    "b.discard(17)\n",
    "b"
   ]
  },
  {
   "cell_type": "code",
   "execution_count": 16,
   "id": "baaf48bc-5b0a-4818-ac88-74aede9cfbd4",
   "metadata": {},
   "outputs": [
    {
     "name": "stdout",
     "output_type": "stream",
     "text": [
      "{16, 11, 14, 15}\n"
     ]
    }
   ],
   "source": [
    "#Remove an element\n",
    "b.remove(12)\n",
    "print(b)"
   ]
  },
  {
   "cell_type": "code",
   "execution_count": 17,
   "id": "929a0ffd-697d-4009-85cc-8914cecf8453",
   "metadata": {},
   "outputs": [
    {
     "ename": "KeyError",
     "evalue": "20",
     "output_type": "error",
     "traceback": [
      "\u001b[1;31m---------------------------------------------------------------------------\u001b[0m",
      "\u001b[1;31mKeyError\u001b[0m                                  Traceback (most recent call last)",
      "Cell \u001b[1;32mIn[17], line 1\u001b[0m\n\u001b[1;32m----> 1\u001b[0m \u001b[43mb\u001b[49m\u001b[38;5;241;43m.\u001b[39;49m\u001b[43mremove\u001b[49m\u001b[43m(\u001b[49m\u001b[38;5;241;43m20\u001b[39;49m\u001b[43m)\u001b[49m\n\u001b[0;32m      2\u001b[0m b\n",
      "\u001b[1;31mKeyError\u001b[0m: 20"
     ]
    }
   ],
   "source": [
    "b.remove(20)\n",
    "b             #will get keyerror"
   ]
  },
  {
   "cell_type": "code",
   "execution_count": 18,
   "id": "22920c71-7eb3-47b5-9166-f12425b77d43",
   "metadata": {},
   "outputs": [
    {
     "name": "stdout",
     "output_type": "stream",
     "text": [
      "{2, 3, 'demo', 7, 'siva'}\n"
     ]
    }
   ],
   "source": [
    "#we can remove the first item using pop()\n",
    "s={1,2,3,'demo',7,'siva'}\n",
    "s.pop()\n",
    "print(s)"
   ]
  },
  {
   "cell_type": "code",
   "execution_count": 20,
   "id": "57ee7f4d-def6-4dee-8b72-a51af44bb903",
   "metadata": {},
   "outputs": [
    {
     "data": {
      "text/plain": [
       "set()"
      ]
     },
     "execution_count": 20,
     "metadata": {},
     "output_type": "execute_result"
    }
   ],
   "source": [
    "s={10,20,30,40,'a','b'}\n",
    "s.clear()\n",
    "s"
   ]
  },
  {
   "cell_type": "code",
   "execution_count": 21,
   "id": "de3c708a-ac50-42d8-b45a-994fb298ace3",
   "metadata": {},
   "outputs": [
    {
     "ename": "NameError",
     "evalue": "name 's' is not defined",
     "output_type": "error",
     "traceback": [
      "\u001b[1;31m---------------------------------------------------------------------------\u001b[0m",
      "\u001b[1;31mNameError\u001b[0m                                 Traceback (most recent call last)",
      "Cell \u001b[1;32mIn[21], line 2\u001b[0m\n\u001b[0;32m      1\u001b[0m \u001b[38;5;28;01mdel\u001b[39;00m s\n\u001b[1;32m----> 2\u001b[0m \u001b[38;5;28mprint\u001b[39m(\u001b[43ms\u001b[49m)\n",
      "\u001b[1;31mNameError\u001b[0m: name 's' is not defined"
     ]
    }
   ],
   "source": [
    "del s\n",
    "print(s)"
   ]
  },
  {
   "cell_type": "code",
   "execution_count": 22,
   "id": "407cde39-7c9c-4583-b7f8-4e32d279bf8c",
   "metadata": {},
   "outputs": [],
   "source": [
    "#Set Operations"
   ]
  },
  {
   "cell_type": "code",
   "execution_count": 23,
   "id": "d41eebb6-09f0-4b7f-aed8-83fd7345797f",
   "metadata": {},
   "outputs": [
    {
     "name": "stdout",
     "output_type": "stream",
     "text": [
      "{1, 2, 3, 4, 'a', 6, 7, 8, 'b'}\n"
     ]
    }
   ],
   "source": [
    "#Union\n",
    "set1={1,2,3,4,'b'}\n",
    "set2={6,7,'a',8}\n",
    "print(set1|set2)"
   ]
  },
  {
   "cell_type": "code",
   "execution_count": 24,
   "id": "e3642d26-1f61-4de8-9b4b-9951da988cd1",
   "metadata": {},
   "outputs": [
    {
     "name": "stdout",
     "output_type": "stream",
     "text": [
      "{1, 2, 3, 4, 'a', 6, 7, 8, 'b'}\n"
     ]
    }
   ],
   "source": [
    "#another way of union\n",
    "print(set1.union(set2))"
   ]
  },
  {
   "cell_type": "code",
   "execution_count": 25,
   "id": "b3e32c15-2158-4dd4-932e-ef92feed227c",
   "metadata": {},
   "outputs": [
    {
     "name": "stdout",
     "output_type": "stream",
     "text": [
      "set()\n"
     ]
    }
   ],
   "source": [
    "#Intersection\n",
    "print(set1 & set2)"
   ]
  },
  {
   "cell_type": "code",
   "execution_count": 27,
   "id": "3e3d1f5f-e75b-4050-a72e-1e2056d58d29",
   "metadata": {},
   "outputs": [
    {
     "name": "stdout",
     "output_type": "stream",
     "text": [
      "{3, 4, 'b'}\n"
     ]
    }
   ],
   "source": [
    "set1={1,2,3,'b',4}\n",
    "set2={3,4,'b',5}\n",
    "print(set1 & set2)"
   ]
  },
  {
   "cell_type": "code",
   "execution_count": 29,
   "id": "afce2191-0ab5-42d1-a782-bc67dbbe8990",
   "metadata": {},
   "outputs": [
    {
     "name": "stdout",
     "output_type": "stream",
     "text": [
      "{3, 4, 'b'}\n"
     ]
    }
   ],
   "source": [
    "#use intersection function\n",
    "print(set1.intersection(set2))"
   ]
  },
  {
   "cell_type": "code",
   "execution_count": 33,
   "id": "19f52e3b-f58d-45fa-963a-098ff8d90d47",
   "metadata": {},
   "outputs": [
    {
     "name": "stdout",
     "output_type": "stream",
     "text": [
      "{1, 2}\n"
     ]
    }
   ],
   "source": [
    "#Difference : set of elements that are only in set1 but not in set2\n",
    "print(set1 - set2)"
   ]
  },
  {
   "cell_type": "code",
   "execution_count": 32,
   "id": "b03bbbf2-eff7-4f7d-9959-a1c328d98751",
   "metadata": {},
   "outputs": [
    {
     "name": "stdout",
     "output_type": "stream",
     "text": [
      "{1, 2}\n"
     ]
    }
   ],
   "source": [
    "#use difference function\n",
    "print(set1.difference(set2))"
   ]
  },
  {
   "cell_type": "code",
   "execution_count": 34,
   "id": "af05ea12-bbf3-4d22-8397-3142fbab4029",
   "metadata": {},
   "outputs": [
    {
     "name": "stdout",
     "output_type": "stream",
     "text": [
      "{5}\n"
     ]
    }
   ],
   "source": [
    "print(set2 - set1)"
   ]
  },
  {
   "cell_type": "code",
   "execution_count": 35,
   "id": "312cd976-753a-4121-9564-17890b75cf2b",
   "metadata": {},
   "outputs": [],
   "source": [
    "#Difference_update"
   ]
  },
  {
   "cell_type": "code",
   "execution_count": 36,
   "id": "5d163145-1daa-45ab-898d-cf9e1857f5e0",
   "metadata": {},
   "outputs": [
    {
     "data": {
      "text/plain": [
       "{1, 2}"
      ]
     },
     "execution_count": 36,
     "metadata": {},
     "output_type": "execute_result"
    }
   ],
   "source": [
    "set1.difference_update(set2)\n",
    "set1"
   ]
  },
  {
   "cell_type": "code",
   "execution_count": 37,
   "id": "10ca5c37-8771-48e7-b0f4-e8a84f28af22",
   "metadata": {},
   "outputs": [
    {
     "data": {
      "text/plain": [
       "{3, 4, 5, 'b'}"
      ]
     },
     "execution_count": 37,
     "metadata": {},
     "output_type": "execute_result"
    }
   ],
   "source": [
    "set2.difference_update(set1)\n",
    "set2"
   ]
  },
  {
   "cell_type": "code",
   "execution_count": 38,
   "id": "8689c9ca-3a74-4b93-be2a-9b342c92b59c",
   "metadata": {},
   "outputs": [
    {
     "name": "stdout",
     "output_type": "stream",
     "text": [
      "{2, 'shiva', 12}\n"
     ]
    }
   ],
   "source": [
    "#Symmetric difference: set of elements in both set1 and set2(except the common elements)\n",
    "set1={1,2,'shiva',4,5}\n",
    "set2={12,1,4,5}\n",
    "print(set1 ^ set2)"
   ]
  },
  {
   "cell_type": "code",
   "execution_count": 39,
   "id": "8bce5f89-fe96-4364-8e17-0e2fb0458be8",
   "metadata": {},
   "outputs": [
    {
     "name": "stdout",
     "output_type": "stream",
     "text": [
      "{2, 'shiva', 12}\n"
     ]
    }
   ],
   "source": [
    "print(set1.symmetric_difference(set2))"
   ]
  },
  {
   "cell_type": "code",
   "execution_count": 40,
   "id": "664ef57a-0a6d-41f0-be19-8667fe2263de",
   "metadata": {},
   "outputs": [
    {
     "data": {
      "text/plain": [
       "{12, 2, 'shiva'}"
      ]
     },
     "execution_count": 40,
     "metadata": {},
     "output_type": "execute_result"
    }
   ],
   "source": [
    "#Symmetric_difference_update()\n",
    "set2.symmetric_difference_update(set1)\n",
    "set2"
   ]
  },
  {
   "cell_type": "code",
   "execution_count": 41,
   "id": "c9210751-63ff-429b-a628-f2d6235f8666",
   "metadata": {},
   "outputs": [
    {
     "data": {
      "text/plain": [
       "True"
      ]
     },
     "execution_count": 41,
     "metadata": {},
     "output_type": "execute_result"
    }
   ],
   "source": [
    "#issubset()\n",
    "p={2,3,4,5}\n",
    "q={1,2,3,4,5,6}\n",
    "p.issubset(q)"
   ]
  },
  {
   "cell_type": "code",
   "execution_count": 42,
   "id": "c70a79b1-12a1-409c-80f4-be865ab24df2",
   "metadata": {},
   "outputs": [
    {
     "data": {
      "text/plain": [
       "False"
      ]
     },
     "execution_count": 42,
     "metadata": {},
     "output_type": "execute_result"
    }
   ],
   "source": [
    "q.issubset(p)"
   ]
  },
  {
   "cell_type": "code",
   "execution_count": 43,
   "id": "46913ac2-249b-470a-96ae-84f8f2670fed",
   "metadata": {},
   "outputs": [
    {
     "data": {
      "text/plain": [
       "True"
      ]
     },
     "execution_count": 43,
     "metadata": {},
     "output_type": "execute_result"
    }
   ],
   "source": [
    "#issuperset()\n",
    "q.issuperset(p)"
   ]
  },
  {
   "cell_type": "code",
   "execution_count": 44,
   "id": "ec380727-e93e-4c10-a08e-c954d4f5f723",
   "metadata": {},
   "outputs": [
    {
     "data": {
      "text/plain": [
       "False"
      ]
     },
     "execution_count": 44,
     "metadata": {},
     "output_type": "execute_result"
    }
   ],
   "source": [
    "#isdisjoint()\n",
    "p.isdisjoint(q)"
   ]
  },
  {
   "cell_type": "code",
   "execution_count": 45,
   "id": "4c83c867-81d2-40dd-b7cf-8521c13120f1",
   "metadata": {},
   "outputs": [],
   "source": [
    "#Dictionaries"
   ]
  },
  {
   "cell_type": "code",
   "execution_count": 46,
   "id": "89776433-92b3-4660-a41d-cbdbaa49f8e4",
   "metadata": {},
   "outputs": [
    {
     "data": {
      "text/plain": [
       "dict"
      ]
     },
     "execution_count": 46,
     "metadata": {},
     "output_type": "execute_result"
    }
   ],
   "source": [
    "dic={}\n",
    "type(dic)"
   ]
  },
  {
   "cell_type": "code",
   "execution_count": 47,
   "id": "f265f10a-8d7c-4b75-bd09-e942f9796c8a",
   "metadata": {},
   "outputs": [
    {
     "name": "stdout",
     "output_type": "stream",
     "text": [
      "{}\n"
     ]
    }
   ],
   "source": [
    "print(dic)"
   ]
  },
  {
   "cell_type": "code",
   "execution_count": 49,
   "id": "4c51300e-d901-4fb2-ae8a-87c416f7a19e",
   "metadata": {},
   "outputs": [
    {
     "data": {
      "text/plain": [
       "dict"
      ]
     },
     "execution_count": 49,
     "metadata": {},
     "output_type": "execute_result"
    }
   ],
   "source": [
    "my_dict={\"colour1\":\"red\",\"colour2\":\"blue\",\"colour3\":\"green\"}\n",
    "type(my_dict)"
   ]
  },
  {
   "cell_type": "code",
   "execution_count": 50,
   "id": "1c01172e-cf0e-4c4c-af69-b50669a0413b",
   "metadata": {},
   "outputs": [
    {
     "data": {
      "text/plain": [
       "'blue'"
      ]
     },
     "execution_count": 50,
     "metadata": {},
     "output_type": "execute_result"
    }
   ],
   "source": [
    "my_dict['colour2']"
   ]
  },
  {
   "cell_type": "code",
   "execution_count": 51,
   "id": "71a50089-651a-4a48-8b96-a79cc6945b82",
   "metadata": {},
   "outputs": [
    {
     "data": {
      "text/plain": [
       "dict_keys(['colour1', 'colour2', 'colour3'])"
      ]
     },
     "execution_count": 51,
     "metadata": {},
     "output_type": "execute_result"
    }
   ],
   "source": [
    "my_dict.keys()"
   ]
  },
  {
   "cell_type": "code",
   "execution_count": 52,
   "id": "2ebde88f-3f84-457b-b83c-d3e92886f5ef",
   "metadata": {},
   "outputs": [
    {
     "data": {
      "text/plain": [
       "dict_values(['red', 'blue', 'green'])"
      ]
     },
     "execution_count": 52,
     "metadata": {},
     "output_type": "execute_result"
    }
   ],
   "source": [
    "my_dict.values()"
   ]
  },
  {
   "cell_type": "code",
   "execution_count": 53,
   "id": "5c1cff6f-1a35-4ac7-8960-7da645fcf1d7",
   "metadata": {},
   "outputs": [
    {
     "data": {
      "text/plain": [
       "dict_items([('colour1', 'red'), ('colour2', 'blue'), ('colour3', 'green')])"
      ]
     },
     "execution_count": 53,
     "metadata": {},
     "output_type": "execute_result"
    }
   ],
   "source": [
    "my_dict.items()"
   ]
  },
  {
   "cell_type": "code",
   "execution_count": 54,
   "id": "bc6623ca-715f-4f3b-8acd-d740785e3707",
   "metadata": {},
   "outputs": [
    {
     "data": {
      "text/plain": [
       "{'colour1': 'red', 'colour2': 'blue', 'colour3': 'green', 'colour4': 'pink'}"
      ]
     },
     "execution_count": 54,
     "metadata": {},
     "output_type": "execute_result"
    }
   ],
   "source": [
    "#Adding items in Dictionaries\n",
    "my_dict[\"colour4\"]=\"pink\"\n",
    "my_dict"
   ]
  },
  {
   "cell_type": "code",
   "execution_count": 55,
   "id": "0d6ca095-fa63-4f6a-a04c-4316c65bae45",
   "metadata": {},
   "outputs": [
    {
     "data": {
      "text/plain": [
       "{'colour1': 'black', 'colour2': 'blue', 'colour3': 'green', 'colour4': 'pink'}"
      ]
     },
     "execution_count": 55,
     "metadata": {},
     "output_type": "execute_result"
    }
   ],
   "source": [
    "my_dict[\"colour1\"]=\"black\"\n",
    "my_dict"
   ]
  },
  {
   "cell_type": "code",
   "execution_count": 56,
   "id": "e1a8e4ba-0849-43ba-a029-05c418ba9ddc",
   "metadata": {},
   "outputs": [],
   "source": [
    "#Nested dictionary"
   ]
  },
  {
   "cell_type": "code",
   "execution_count": 57,
   "id": "ccb0766c-d0e1-499b-a6b6-29e0c531ac9c",
   "metadata": {},
   "outputs": [
    {
     "name": "stdout",
     "output_type": "stream",
     "text": [
      "{'car1': {'mercedes': 1945}, 'car2': {'audi': 1970}, 'car3': {'bmw': 1960}}\n"
     ]
    }
   ],
   "source": [
    "car1_model={'mercedes':1945}\n",
    "car2_model={'audi':1970}\n",
    "car3_model={'bmw':1960}\n",
    "car_type={'car1':car1_model,'car2':car2_model,'car3':car3_model}\n",
    "print(car_type)"
   ]
  },
  {
   "cell_type": "code",
   "execution_count": 58,
   "id": "952d44bd-456a-49ac-acc3-3c689e878f3d",
   "metadata": {},
   "outputs": [
    {
     "name": "stdout",
     "output_type": "stream",
     "text": [
      "{'mercedes': 1945}\n"
     ]
    }
   ],
   "source": [
    "#Accessing the items in the dictionary\n",
    "print(car_type['car1'])"
   ]
  },
  {
   "cell_type": "code",
   "execution_count": 59,
   "id": "629f720f-b2b7-4734-8110-e6b6e5e24805",
   "metadata": {},
   "outputs": [
    {
     "name": "stdout",
     "output_type": "stream",
     "text": [
      "1970\n"
     ]
    }
   ],
   "source": [
    "print(car_type['car2']['audi'])"
   ]
  },
  {
   "cell_type": "code",
   "execution_count": 61,
   "id": "e7de19e8-931f-4388-bf21-53857976f1ca",
   "metadata": {},
   "outputs": [
    {
     "data": {
      "text/plain": [
       "{'maths': 80, 'english': 92, 'hindi': 94, 'history': 82, 'odia': 88}"
      ]
     },
     "execution_count": 61,
     "metadata": {},
     "output_type": "execute_result"
    }
   ],
   "source": [
    "marks={'maths':80,'english':92,'hindi':94,'history':82}\n",
    "#adding elements\n",
    "marks['odia']=88\n",
    "marks"
   ]
  },
  {
   "cell_type": "code",
   "execution_count": 63,
   "id": "f8590991-a384-4b61-a022-a1a053f5ca22",
   "metadata": {},
   "outputs": [
    {
     "data": {
      "text/plain": [
       "{'maths': 80, 'english': 93, 'hindi': 94, 'history': 82, 'odia': 88}"
      ]
     },
     "execution_count": 63,
     "metadata": {},
     "output_type": "execute_result"
    }
   ],
   "source": [
    "marks.update({'english':93})\n",
    "marks"
   ]
  },
  {
   "cell_type": "code",
   "execution_count": 64,
   "id": "ff7097cd-52b6-441e-9c90-e2ab235eaedd",
   "metadata": {},
   "outputs": [
    {
     "data": {
      "text/plain": [
       "{'maths': 80, 'english': 93, 'hindi': 94, 'history': 82}"
      ]
     },
     "execution_count": 64,
     "metadata": {},
     "output_type": "execute_result"
    }
   ],
   "source": [
    "del marks['odia']\n",
    "marks"
   ]
  },
  {
   "cell_type": "code",
   "execution_count": 66,
   "id": "17229084-b7a4-4246-bb39-e315cf8a0d07",
   "metadata": {},
   "outputs": [
    {
     "data": {
      "text/plain": [
       "{'key1': 344,\n",
       " 'key2': [1, 2, 3],\n",
       " 'key3': (56, 20, 12),\n",
       " 'key4': ['item1', 'item2']}"
      ]
     },
     "execution_count": 66,
     "metadata": {},
     "output_type": "execute_result"
    }
   ],
   "source": [
    "dict1={'key1':344,'key2':[1,2,3],'key3':(56,20,12),'key4':['item1','item2']}\n",
    "dict1"
   ]
  },
  {
   "cell_type": "code",
   "execution_count": 69,
   "id": "2278de3e-bc1a-42e8-b9f2-cfac089df26a",
   "metadata": {},
   "outputs": [
    {
     "data": {
      "text/plain": [
       "{'key1': 344, 'key2': [1, 2, 3], 'key3': (56, 20, 12), 'key4': []}"
      ]
     },
     "execution_count": 69,
     "metadata": {},
     "output_type": "execute_result"
    }
   ],
   "source": [
    "del dict1['key4'][0]\n",
    "dict1"
   ]
  },
  {
   "cell_type": "code",
   "execution_count": 71,
   "id": "8fe60a6e-7408-48dc-9ae8-5f701cd78980",
   "metadata": {},
   "outputs": [
    {
     "data": {
      "text/plain": [
       "(56, 20, 12)"
      ]
     },
     "execution_count": 71,
     "metadata": {},
     "output_type": "execute_result"
    }
   ],
   "source": [
    "dict1.pop('key3')"
   ]
  },
  {
   "cell_type": "code",
   "execution_count": 72,
   "id": "9127af53-2924-4648-8b0e-9b86dfd3d7dc",
   "metadata": {},
   "outputs": [
    {
     "data": {
      "text/plain": [
       "3"
      ]
     },
     "execution_count": 72,
     "metadata": {},
     "output_type": "execute_result"
    }
   ],
   "source": [
    "len(dict1)"
   ]
  }
 ],
 "metadata": {
  "kernelspec": {
   "display_name": "Python 3 (ipykernel)",
   "language": "python",
   "name": "python3"
  },
  "language_info": {
   "codemirror_mode": {
    "name": "ipython",
    "version": 3
   },
   "file_extension": ".py",
   "mimetype": "text/x-python",
   "name": "python",
   "nbconvert_exporter": "python",
   "pygments_lexer": "ipython3",
   "version": "3.11.7"
  }
 },
 "nbformat": 4,
 "nbformat_minor": 5
}
