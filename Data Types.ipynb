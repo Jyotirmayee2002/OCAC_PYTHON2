{
 "cells": [
  {
   "cell_type": "code",
   "execution_count": null,
   "id": "1fb7812a-687f-47a2-b3a2-a21963726032",
   "metadata": {},
   "outputs": [],
   "source": [
    "#Int"
   ]
  },
  {
   "cell_type": "code",
   "execution_count": 1,
   "id": "a258f315-19b9-43e4-a535-2cb1bf23b24a",
   "metadata": {},
   "outputs": [
    {
     "data": {
      "text/plain": [
       "int"
      ]
     },
     "execution_count": 1,
     "metadata": {},
     "output_type": "execute_result"
    }
   ],
   "source": [
    "a=25\n",
    "type(a)"
   ]
  },
  {
   "cell_type": "code",
   "execution_count": null,
   "id": "d95e241e-4d52-44e2-9a0b-71973c233314",
   "metadata": {},
   "outputs": [],
   "source": [
    "#Float"
   ]
  },
  {
   "cell_type": "code",
   "execution_count": 2,
   "id": "46224181-0263-4d8b-a4dd-e2a6e6b33f96",
   "metadata": {},
   "outputs": [
    {
     "name": "stdout",
     "output_type": "stream",
     "text": [
      "<class 'int'>\n",
      "<class 'float'>\n"
     ]
    }
   ],
   "source": [
    "m=35\n",
    "print(type(m))\n",
    "n=30.0\n",
    "print(type(n))"
   ]
  },
  {
   "cell_type": "code",
   "execution_count": 4,
   "id": "e6bd36d6-b614-4bdf-84aa-760fff3fff6a",
   "metadata": {},
   "outputs": [
    {
     "data": {
      "text/plain": [
       "19.5"
      ]
     },
     "execution_count": 4,
     "metadata": {},
     "output_type": "execute_result"
    }
   ],
   "source": [
    "a=13\n",
    "b=6.5\n",
    "a+b"
   ]
  },
  {
   "cell_type": "code",
   "execution_count": 5,
   "id": "d8483a66-5b60-4ea5-a882-2e495eede431",
   "metadata": {},
   "outputs": [],
   "source": [
    "#Type Casting"
   ]
  },
  {
   "cell_type": "code",
   "execution_count": 6,
   "id": "d54067a7-ef90-4f55-b69e-e199adc9c18f",
   "metadata": {},
   "outputs": [
    {
     "data": {
      "text/plain": [
       "3"
      ]
     },
     "execution_count": 6,
     "metadata": {},
     "output_type": "execute_result"
    }
   ],
   "source": [
    "b=3.6\n",
    "int(b)"
   ]
  },
  {
   "cell_type": "code",
   "execution_count": 7,
   "id": "8bbec82a-75fb-462d-8970-7211afe83399",
   "metadata": {},
   "outputs": [
    {
     "data": {
      "text/plain": [
       "10"
      ]
     },
     "execution_count": 7,
     "metadata": {},
     "output_type": "execute_result"
    }
   ],
   "source": [
    "int(10.66666)"
   ]
  },
  {
   "cell_type": "code",
   "execution_count": null,
   "id": "43156a68-747d-4193-8c53-dda7e7c31d2d",
   "metadata": {},
   "outputs": [],
   "source": [
    "#Boolean"
   ]
  },
  {
   "cell_type": "code",
   "execution_count": 1,
   "id": "56772b9c-11fd-4223-9845-a175e8da67b1",
   "metadata": {},
   "outputs": [
    {
     "data": {
      "text/plain": [
       "bool"
      ]
     },
     "execution_count": 1,
     "metadata": {},
     "output_type": "execute_result"
    }
   ],
   "source": [
    "d1=True\n",
    "type(d1)"
   ]
  },
  {
   "cell_type": "code",
   "execution_count": 9,
   "id": "e5c704cf-1a56-40ff-9f02-3bf08447acfe",
   "metadata": {},
   "outputs": [
    {
     "data": {
      "text/plain": [
       "1"
      ]
     },
     "execution_count": 9,
     "metadata": {},
     "output_type": "execute_result"
    }
   ],
   "source": [
    "int(True)"
   ]
  },
  {
   "cell_type": "code",
   "execution_count": 10,
   "id": "6157097a-6bac-44f7-886c-b78ed4cb3e6d",
   "metadata": {},
   "outputs": [
    {
     "data": {
      "text/plain": [
       "0"
      ]
     },
     "execution_count": 10,
     "metadata": {},
     "output_type": "execute_result"
    }
   ],
   "source": [
    "int(False)"
   ]
  },
  {
   "cell_type": "code",
   "execution_count": 11,
   "id": "afc093bf-8bdb-4b11-a10b-b6b2c3d971ef",
   "metadata": {},
   "outputs": [
    {
     "data": {
      "text/plain": [
       "1"
      ]
     },
     "execution_count": 11,
     "metadata": {},
     "output_type": "execute_result"
    }
   ],
   "source": [
    "True+False"
   ]
  },
  {
   "cell_type": "code",
   "execution_count": 12,
   "id": "4ec138a9-2329-4724-b748-b553625a26e2",
   "metadata": {},
   "outputs": [
    {
     "data": {
      "text/plain": [
       "2"
      ]
     },
     "execution_count": 12,
     "metadata": {},
     "output_type": "execute_result"
    }
   ],
   "source": [
    "True+True"
   ]
  },
  {
   "cell_type": "code",
   "execution_count": 13,
   "id": "d62a9c15-cabc-4a50-a9c8-0fee0d2b7671",
   "metadata": {},
   "outputs": [
    {
     "data": {
      "text/plain": [
       "23.345"
      ]
     },
     "execution_count": 13,
     "metadata": {},
     "output_type": "execute_result"
    }
   ],
   "source": [
    "p=22.345\n",
    "q=True\n",
    "p+q"
   ]
  },
  {
   "cell_type": "code",
   "execution_count": 14,
   "id": "eb1d5e93-2bb4-4444-ab4d-480372886174",
   "metadata": {},
   "outputs": [],
   "source": [
    "#Complex"
   ]
  },
  {
   "cell_type": "code",
   "execution_count": 15,
   "id": "5d9fb760-61fb-4f24-8e3a-e27c35011804",
   "metadata": {},
   "outputs": [
    {
     "data": {
      "text/plain": [
       "complex"
      ]
     },
     "execution_count": 15,
     "metadata": {},
     "output_type": "execute_result"
    }
   ],
   "source": [
    "x=10+30j\n",
    "type(x)"
   ]
  },
  {
   "cell_type": "code",
   "execution_count": 16,
   "id": "399612c4-c4c5-46f6-86f5-d9046465cfe5",
   "metadata": {},
   "outputs": [
    {
     "data": {
      "text/plain": [
       "10.0"
      ]
     },
     "execution_count": 16,
     "metadata": {},
     "output_type": "execute_result"
    }
   ],
   "source": [
    "x.real"
   ]
  },
  {
   "cell_type": "code",
   "execution_count": 17,
   "id": "2b1b3149-f16f-4a98-9410-4676a70b0a13",
   "metadata": {},
   "outputs": [
    {
     "data": {
      "text/plain": [
       "30.0"
      ]
     },
     "execution_count": 17,
     "metadata": {},
     "output_type": "execute_result"
    }
   ],
   "source": [
    "x.imag"
   ]
  },
  {
   "cell_type": "code",
   "execution_count": 18,
   "id": "ac9bcb85-29a0-40a7-95b4-fb5ba63ae3b2",
   "metadata": {},
   "outputs": [
    {
     "data": {
      "text/plain": [
       "30"
      ]
     },
     "execution_count": 18,
     "metadata": {},
     "output_type": "execute_result"
    }
   ],
   "source": [
    "int(x.imag)"
   ]
  },
  {
   "cell_type": "code",
   "execution_count": 19,
   "id": "35837f82-ab80-4e08-aaa4-e0f434320906",
   "metadata": {},
   "outputs": [
    {
     "name": "stdout",
     "output_type": "stream",
     "text": [
      "1.0 -2.0\n"
     ]
    }
   ],
   "source": [
    "y=1.0-2.0j\n",
    "print(y.real,y.imag)"
   ]
  },
  {
   "cell_type": "code",
   "execution_count": 20,
   "id": "442f18a2-3a11-4503-b150-8a1cdd8ab313",
   "metadata": {},
   "outputs": [],
   "source": [
    "#Strings"
   ]
  },
  {
   "cell_type": "code",
   "execution_count": 21,
   "id": "9ca4a9f2-636c-473c-a393-29dc82e3886b",
   "metadata": {},
   "outputs": [
    {
     "name": "stdout",
     "output_type": "stream",
     "text": [
      "Hello\n"
     ]
    }
   ],
   "source": [
    "myStr='Hello'\n",
    "print(myStr)"
   ]
  },
  {
   "cell_type": "code",
   "execution_count": 22,
   "id": "52a7a95b-83df-47a4-9eac-7e5eb9684297",
   "metadata": {},
   "outputs": [
    {
     "name": "stdout",
     "output_type": "stream",
     "text": [
      "Hello\n"
     ]
    }
   ],
   "source": [
    "myStr=\"Hello\"\n",
    "print(myStr)"
   ]
  },
  {
   "cell_type": "code",
   "execution_count": 23,
   "id": "bb5e1fbf-c25c-4825-852a-f970af24e776",
   "metadata": {},
   "outputs": [
    {
     "name": "stdout",
     "output_type": "stream",
     "text": [
      "hello\n"
     ]
    }
   ],
   "source": [
    "myStr='''hello'''\n",
    "print(myStr)"
   ]
  },
  {
   "cell_type": "code",
   "execution_count": 25,
   "id": "6811d2ae-4e65-4e96-9a4f-236cbe5a2a1f",
   "metadata": {},
   "outputs": [
    {
     "data": {
      "text/plain": [
       "str"
      ]
     },
     "execution_count": 25,
     "metadata": {},
     "output_type": "execute_result"
    }
   ],
   "source": [
    "A='jyoti'\n",
    "type(A)"
   ]
  },
  {
   "cell_type": "code",
   "execution_count": 26,
   "id": "ea20b4fe-e7d0-4b2f-ba51-20e5215e9332",
   "metadata": {},
   "outputs": [
    {
     "data": {
      "text/plain": [
       "13"
      ]
     },
     "execution_count": 26,
     "metadata": {},
     "output_type": "execute_result"
    }
   ],
   "source": [
    "int(a)"
   ]
  },
  {
   "cell_type": "code",
   "execution_count": 27,
   "id": "3a23ed68-e363-4792-90c1-bbc9e33ae362",
   "metadata": {},
   "outputs": [
    {
     "data": {
      "text/plain": [
       "str"
      ]
     },
     "execution_count": 27,
     "metadata": {},
     "output_type": "execute_result"
    }
   ],
   "source": [
    "var=\"546367\"\n",
    "type(var)"
   ]
  },
  {
   "cell_type": "code",
   "execution_count": 28,
   "id": "f99eadc2-c9f1-4a6a-88bb-b89ce2bf25c5",
   "metadata": {},
   "outputs": [
    {
     "data": {
      "text/plain": [
       "'546367'"
      ]
     },
     "execution_count": 28,
     "metadata": {},
     "output_type": "execute_result"
    }
   ],
   "source": [
    "var"
   ]
  },
  {
   "cell_type": "code",
   "execution_count": 29,
   "id": "7875bcf5-4878-4c87-9ac1-88efc6eb4ee2",
   "metadata": {},
   "outputs": [
    {
     "data": {
      "text/plain": [
       "546367"
      ]
     },
     "execution_count": 29,
     "metadata": {},
     "output_type": "execute_result"
    }
   ],
   "source": [
    "a=int(var)\n",
    "a"
   ]
  },
  {
   "cell_type": "code",
   "execution_count": 30,
   "id": "cb5a07ba-7761-4344-8537-bd158bc3e306",
   "metadata": {},
   "outputs": [
    {
     "data": {
      "text/plain": [
       "str"
      ]
     },
     "execution_count": 30,
     "metadata": {},
     "output_type": "execute_result"
    }
   ],
   "source": [
    "z='@good123'\n",
    "type(z)"
   ]
  },
  {
   "cell_type": "code",
   "execution_count": 31,
   "id": "90721e49-c50c-4e72-849c-2b4c82408e8c",
   "metadata": {},
   "outputs": [
    {
     "ename": "ValueError",
     "evalue": "invalid literal for int() with base 10: '@good123'",
     "output_type": "error",
     "traceback": [
      "\u001b[1;31m---------------------------------------------------------------------------\u001b[0m",
      "\u001b[1;31mValueError\u001b[0m                                Traceback (most recent call last)",
      "Cell \u001b[1;32mIn[31], line 1\u001b[0m\n\u001b[1;32m----> 1\u001b[0m \u001b[38;5;28;43mint\u001b[39;49m\u001b[43m(\u001b[49m\u001b[43mz\u001b[49m\u001b[43m)\u001b[49m\n",
      "\u001b[1;31mValueError\u001b[0m: invalid literal for int() with base 10: '@good123'"
     ]
    }
   ],
   "source": [
    "int(z)"
   ]
  },
  {
   "cell_type": "code",
   "execution_count": 32,
   "id": "cd338f18-f6b8-4f4e-b590-d97b9f417b91",
   "metadata": {},
   "outputs": [
    {
     "data": {
      "text/plain": [
       "546367"
      ]
     },
     "execution_count": 32,
     "metadata": {},
     "output_type": "execute_result"
    }
   ],
   "source": [
    "demo='76854'\n",
    "int(a)"
   ]
  },
  {
   "cell_type": "code",
   "execution_count": 33,
   "id": "dcf46dfb-ea22-45c0-94e5-6922177d9696",
   "metadata": {},
   "outputs": [
    {
     "name": "stdout",
     "output_type": "stream",
     "text": [
      "good \"morning\"\n"
     ]
    }
   ],
   "source": [
    "print('good \"morning\"')"
   ]
  },
  {
   "cell_type": "code",
   "execution_count": 34,
   "id": "bb9df02d-9331-4882-9c0b-f6da68a09dd3",
   "metadata": {},
   "outputs": [
    {
     "ename": "SyntaxError",
     "evalue": "invalid syntax. Perhaps you forgot a comma? (3208178334.py, line 1)",
     "output_type": "error",
     "traceback": [
      "\u001b[1;36m  Cell \u001b[1;32mIn[34], line 1\u001b[1;36m\u001b[0m\n\u001b[1;33m    print('it's \"okay\")\u001b[0m\n\u001b[1;37m          ^\u001b[0m\n\u001b[1;31mSyntaxError\u001b[0m\u001b[1;31m:\u001b[0m invalid syntax. Perhaps you forgot a comma?\n"
     ]
    }
   ],
   "source": [
    "print('it's \"okay\")"
   ]
  },
  {
   "cell_type": "code",
   "execution_count": 36,
   "id": "62be6520-9d74-4aeb-a4d3-9da78f22b26f",
   "metadata": {},
   "outputs": [
    {
     "name": "stdout",
     "output_type": "stream",
     "text": [
      "he's \"walking\"\n"
     ]
    }
   ],
   "source": [
    "print('he\\'s \"walking\"')"
   ]
  },
  {
   "cell_type": "code",
   "execution_count": 37,
   "id": "a4e755bb-8a42-4148-8aa6-9f7b657adc8a",
   "metadata": {},
   "outputs": [],
   "source": [
    "#Concatenation"
   ]
  },
  {
   "cell_type": "code",
   "execution_count": 38,
   "id": "30707dfd-0b1c-42dd-be3d-d0c3ac0885d0",
   "metadata": {},
   "outputs": [
    {
     "data": {
      "text/plain": [
       "'3750'"
      ]
     },
     "execution_count": 38,
     "metadata": {},
     "output_type": "execute_result"
    }
   ],
   "source": [
    "a=\"37\"\n",
    "b=\"50\"\n",
    "a+b"
   ]
  },
  {
   "cell_type": "code",
   "execution_count": 40,
   "id": "ca8176c6-5f5f-465e-bb57-2f4b1696d3a6",
   "metadata": {},
   "outputs": [
    {
     "data": {
      "text/plain": [
       "87"
      ]
     },
     "execution_count": 40,
     "metadata": {},
     "output_type": "execute_result"
    }
   ],
   "source": [
    "int(a+b)"
   ]
  },
  {
   "cell_type": "code",
   "execution_count": 41,
   "id": "cd06a555-f071-46a3-ad49-4028b0fbfd4a",
   "metadata": {},
   "outputs": [
    {
     "data": {
      "text/plain": [
       "87"
      ]
     },
     "execution_count": 41,
     "metadata": {},
     "output_type": "execute_result"
    }
   ],
   "source": [
    "int(a)+int(b)"
   ]
  },
  {
   "cell_type": "code",
   "execution_count": 43,
   "id": "a3c0274e-b15a-4484-991d-a7786cd31b03",
   "metadata": {},
   "outputs": [
    {
     "ename": "TypeError",
     "evalue": "can only concatenate str (not \"int\") to str",
     "output_type": "error",
     "traceback": [
      "\u001b[1;31m---------------------------------------------------------------------------\u001b[0m",
      "\u001b[1;31mTypeError\u001b[0m                                 Traceback (most recent call last)",
      "Cell \u001b[1;32mIn[43], line 3\u001b[0m\n\u001b[0;32m      1\u001b[0m a\u001b[38;5;241m=\u001b[39m\u001b[38;5;124m\"\u001b[39m\u001b[38;5;124mhello\u001b[39m\u001b[38;5;124m\"\u001b[39m\n\u001b[0;32m      2\u001b[0m b\u001b[38;5;241m=\u001b[39m\u001b[38;5;241m8\u001b[39m\n\u001b[1;32m----> 3\u001b[0m \u001b[43ma\u001b[49m\u001b[38;5;241;43m+\u001b[39;49m\u001b[43mb\u001b[49m\n",
      "\u001b[1;31mTypeError\u001b[0m: can only concatenate str (not \"int\") to str"
     ]
    }
   ],
   "source": [
    "a=\"hello\"\n",
    "b=8\n",
    "a+b"
   ]
  },
  {
   "cell_type": "code",
   "execution_count": 45,
   "id": "7958ef5b-a656-4b80-9b36-88a08e35c032",
   "metadata": {},
   "outputs": [
    {
     "ename": "TypeError",
     "evalue": "unsupported operand type(s) for +: 'int' and 'str'",
     "output_type": "error",
     "traceback": [
      "\u001b[1;31m---------------------------------------------------------------------------\u001b[0m",
      "\u001b[1;31mTypeError\u001b[0m                                 Traceback (most recent call last)",
      "Cell \u001b[1;32mIn[45], line 1\u001b[0m\n\u001b[1;32m----> 1\u001b[0m \u001b[38;5;28;43mint\u001b[39;49m\u001b[43m(\u001b[49m\u001b[43mb\u001b[49m\u001b[43m)\u001b[49m\u001b[38;5;241;43m+\u001b[39;49m\u001b[43ma\u001b[49m\n",
      "\u001b[1;31mTypeError\u001b[0m: unsupported operand type(s) for +: 'int' and 'str'"
     ]
    }
   ],
   "source": [
    "int(b)+a"
   ]
  },
  {
   "cell_type": "code",
   "execution_count": 46,
   "id": "e6510606-3258-4f2d-896a-838d0a3d9b38",
   "metadata": {},
   "outputs": [
    {
     "ename": "TypeError",
     "evalue": "can only concatenate str (not \"int\") to str",
     "output_type": "error",
     "traceback": [
      "\u001b[1;31m---------------------------------------------------------------------------\u001b[0m",
      "\u001b[1;31mTypeError\u001b[0m                                 Traceback (most recent call last)",
      "Cell \u001b[1;32mIn[46], line 3\u001b[0m\n\u001b[0;32m      1\u001b[0m a\u001b[38;5;241m=\u001b[39m\u001b[38;5;124m'\u001b[39m\u001b[38;5;124m12\u001b[39m\u001b[38;5;124m'\u001b[39m\n\u001b[0;32m      2\u001b[0m b\u001b[38;5;241m=\u001b[39m\u001b[38;5;241m3\u001b[39m\n\u001b[1;32m----> 3\u001b[0m \u001b[43ma\u001b[49m\u001b[38;5;241;43m+\u001b[39;49m\u001b[43mb\u001b[49m\n",
      "\u001b[1;31mTypeError\u001b[0m: can only concatenate str (not \"int\") to str"
     ]
    }
   ],
   "source": [
    "a='12'\n",
    "b=3\n",
    "a+b"
   ]
  },
  {
   "cell_type": "code",
   "execution_count": 47,
   "id": "665dc908-0759-4cc8-a1af-4ff7554e9b67",
   "metadata": {},
   "outputs": [
    {
     "data": {
      "text/plain": [
       "15"
      ]
     },
     "execution_count": 47,
     "metadata": {},
     "output_type": "execute_result"
    }
   ],
   "source": [
    "int(a)+b"
   ]
  },
  {
   "cell_type": "code",
   "execution_count": 48,
   "id": "391d3b07-f044-466b-92f0-84e74dce8f17",
   "metadata": {},
   "outputs": [
    {
     "data": {
      "text/plain": [
       "123"
      ]
     },
     "execution_count": 48,
     "metadata": {},
     "output_type": "execute_result"
    }
   ],
   "source": [
    "int(a+str(b))"
   ]
  },
  {
   "cell_type": "code",
   "execution_count": 49,
   "id": "18293911-34a3-4b24-9d67-4b411943ba72",
   "metadata": {},
   "outputs": [
    {
     "name": "stdout",
     "output_type": "stream",
     "text": [
      "strong123\n"
     ]
    }
   ],
   "source": [
    "a1=\"strong\"\n",
    "a2=123\n",
    "print(a1+str(a2))"
   ]
  },
  {
   "cell_type": "code",
   "execution_count": 50,
   "id": "2e4a7201-308d-4da5-8d60-e927a83a3ddd",
   "metadata": {},
   "outputs": [
    {
     "data": {
      "text/plain": [
       "'jyotijyoti'"
      ]
     },
     "execution_count": 50,
     "metadata": {},
     "output_type": "execute_result"
    }
   ],
   "source": [
    "'jyoti'+'jyoti'"
   ]
  },
  {
   "cell_type": "code",
   "execution_count": 51,
   "id": "03aa2d67-5234-450b-b990-c080d1234afd",
   "metadata": {},
   "outputs": [
    {
     "data": {
      "text/plain": [
       "'goodgoodgoodgood'"
      ]
     },
     "execution_count": 51,
     "metadata": {},
     "output_type": "execute_result"
    }
   ],
   "source": [
    "\"good\"*4"
   ]
  },
  {
   "cell_type": "code",
   "execution_count": 56,
   "id": "e8712e14-c6c3-4c79-ae46-40933def945a",
   "metadata": {},
   "outputs": [
    {
     "name": "stdout",
     "output_type": "stream",
     "text": [
      "hello nice to meet you\n"
     ]
    }
   ],
   "source": [
    "user=\"hello\"\n",
    "noun=\"meet\"\n",
    "print(user, \"nice to\",noun ,\"you\")"
   ]
  },
  {
   "cell_type": "code",
   "execution_count": 1,
   "id": "6780d9a0-504b-496a-b8e6-5c0cd51b1f31",
   "metadata": {},
   "outputs": [],
   "source": [
    "#length of a string"
   ]
  },
  {
   "cell_type": "code",
   "execution_count": 2,
   "id": "3321826a-da69-481b-b96c-b3a70418d1eb",
   "metadata": {},
   "outputs": [
    {
     "data": {
      "text/plain": [
       "15"
      ]
     },
     "execution_count": 2,
     "metadata": {},
     "output_type": "execute_result"
    }
   ],
   "source": [
    "d=\"welcome to OCAC\"\n",
    "len(d)"
   ]
  },
  {
   "cell_type": "code",
   "execution_count": 3,
   "id": "bf3e5679-8269-4627-8767-01ce9f355aff",
   "metadata": {},
   "outputs": [],
   "source": [
    "#delete string"
   ]
  },
  {
   "cell_type": "code",
   "execution_count": 4,
   "id": "aa3d3fb3-371b-4baa-9627-2def89a941d5",
   "metadata": {},
   "outputs": [
    {
     "ename": "NameError",
     "evalue": "name 'n' is not defined",
     "output_type": "error",
     "traceback": [
      "\u001b[1;31m---------------------------------------------------------------------------\u001b[0m",
      "\u001b[1;31mNameError\u001b[0m                                 Traceback (most recent call last)",
      "Cell \u001b[1;32mIn[4], line 1\u001b[0m\n\u001b[1;32m----> 1\u001b[0m \u001b[38;5;28;01mdel\u001b[39;00m \u001b[43mn\u001b[49m\n\u001b[0;32m      2\u001b[0m \u001b[38;5;28mprint\u001b[39m(n)\n",
      "\u001b[1;31mNameError\u001b[0m: name 'n' is not defined"
     ]
    }
   ],
   "source": [
    "del n\n",
    "print(n)"
   ]
  },
  {
   "cell_type": "code",
   "execution_count": 6,
   "id": "636c1939-be93-43ec-9baf-f89f6189dce3",
   "metadata": {},
   "outputs": [],
   "source": [
    "#Access characters in a string using indexing"
   ]
  },
  {
   "cell_type": "code",
   "execution_count": 7,
   "id": "917ca05d-f800-4d8b-b7f7-25f228acaa69",
   "metadata": {},
   "outputs": [],
   "source": [
    "my_str=\"Morning\""
   ]
  },
  {
   "cell_type": "code",
   "execution_count": 8,
   "id": "0ee00b94-e80d-4547-9554-4c38fa58b38b",
   "metadata": {},
   "outputs": [
    {
     "name": "stdout",
     "output_type": "stream",
     "text": [
      "n\n"
     ]
    }
   ],
   "source": [
    "print(my_str[3])"
   ]
  },
  {
   "cell_type": "code",
   "execution_count": 10,
   "id": "d21bb89d-d484-4c41-8a5d-8283a953ccda",
   "metadata": {},
   "outputs": [
    {
     "name": "stdout",
     "output_type": "stream",
     "text": [
      "g\n"
     ]
    }
   ],
   "source": [
    "print(my_str[-1])"
   ]
  },
  {
   "cell_type": "code",
   "execution_count": 11,
   "id": "d86e2815-124f-493b-9da2-7dcf5eb84709",
   "metadata": {},
   "outputs": [
    {
     "ename": "IndexError",
     "evalue": "string index out of range",
     "output_type": "error",
     "traceback": [
      "\u001b[1;31m---------------------------------------------------------------------------\u001b[0m",
      "\u001b[1;31mIndexError\u001b[0m                                Traceback (most recent call last)",
      "Cell \u001b[1;32mIn[11], line 1\u001b[0m\n\u001b[1;32m----> 1\u001b[0m \u001b[38;5;28mprint\u001b[39m(\u001b[43mmy_str\u001b[49m\u001b[43m[\u001b[49m\u001b[38;5;241;43m8\u001b[39;49m\u001b[43m]\u001b[49m)\n",
      "\u001b[1;31mIndexError\u001b[0m: string index out of range"
     ]
    }
   ],
   "source": [
    "print(my_str[8])"
   ]
  },
  {
   "cell_type": "code",
   "execution_count": 12,
   "id": "e62406c6-0e04-4b72-b226-1431f67bfe3f",
   "metadata": {},
   "outputs": [
    {
     "ename": "TypeError",
     "evalue": "string indices must be integers, not 'float'",
     "output_type": "error",
     "traceback": [
      "\u001b[1;31m---------------------------------------------------------------------------\u001b[0m",
      "\u001b[1;31mTypeError\u001b[0m                                 Traceback (most recent call last)",
      "Cell \u001b[1;32mIn[12], line 1\u001b[0m\n\u001b[1;32m----> 1\u001b[0m \u001b[38;5;28mprint\u001b[39m(\u001b[43mmy_str\u001b[49m\u001b[43m[\u001b[49m\u001b[38;5;241;43m2.5\u001b[39;49m\u001b[43m]\u001b[49m)\n",
      "\u001b[1;31mTypeError\u001b[0m: string indices must be integers, not 'float'"
     ]
    }
   ],
   "source": [
    "print(my_str[2.5])"
   ]
  },
  {
   "cell_type": "code",
   "execution_count": 13,
   "id": "9e815e08-03c4-40ab-9173-92f9df8be29d",
   "metadata": {},
   "outputs": [],
   "source": [
    "#String immutable"
   ]
  },
  {
   "cell_type": "code",
   "execution_count": 1,
   "id": "d9a17416-0942-4f1f-b289-7873a8f3bcfc",
   "metadata": {},
   "outputs": [
    {
     "ename": "TypeError",
     "evalue": "'str' object does not support item assignment",
     "output_type": "error",
     "traceback": [
      "\u001b[1;31m---------------------------------------------------------------------------\u001b[0m",
      "\u001b[1;31mTypeError\u001b[0m                                 Traceback (most recent call last)",
      "Cell \u001b[1;32mIn[1], line 2\u001b[0m\n\u001b[0;32m      1\u001b[0m demo\u001b[38;5;241m=\u001b[39m\u001b[38;5;124m\"\u001b[39m\u001b[38;5;124mHello\u001b[39m\u001b[38;5;124m\"\u001b[39m\n\u001b[1;32m----> 2\u001b[0m \u001b[43mdemo\u001b[49m\u001b[43m[\u001b[49m\u001b[38;5;241;43m6\u001b[39;49m\u001b[43m]\u001b[49m\u001b[38;5;241m=\u001b[39m\u001b[38;5;124m'\u001b[39m\u001b[38;5;124md\u001b[39m\u001b[38;5;124m'\u001b[39m\n",
      "\u001b[1;31mTypeError\u001b[0m: 'str' object does not support item assignment"
     ]
    }
   ],
   "source": [
    "demo=\"Hello\"\n",
    "demo[6]='d'"
   ]
  },
  {
   "cell_type": "code",
   "execution_count": 2,
   "id": "16a0af54-05ec-42e3-8658-f8beee9cfd52",
   "metadata": {},
   "outputs": [],
   "source": [
    "#Slicing the string"
   ]
  },
  {
   "cell_type": "code",
   "execution_count": 3,
   "id": "71bd2f22-b3d8-467b-a06a-bb85c34ea118",
   "metadata": {},
   "outputs": [
    {
     "name": "stdout",
     "output_type": "stream",
     "text": [
      "elc\n"
     ]
    }
   ],
   "source": [
    "demo=\"welcome\"\n",
    "print(demo[1:4])"
   ]
  },
  {
   "cell_type": "code",
   "execution_count": 4,
   "id": "18c8bc0f-1f9c-4c5f-be5f-01644e230a01",
   "metadata": {},
   "outputs": [
    {
     "name": "stdout",
     "output_type": "stream",
     "text": [
      "welco\n"
     ]
    }
   ],
   "source": [
    "print(demo[0:5])"
   ]
  },
  {
   "cell_type": "code",
   "execution_count": 5,
   "id": "d59551c2-8963-42a6-be60-eb95d71f8177",
   "metadata": {},
   "outputs": [
    {
     "name": "stdout",
     "output_type": "stream",
     "text": [
      "welcome\n"
     ]
    }
   ],
   "source": [
    "print(demo[0:])"
   ]
  },
  {
   "cell_type": "code",
   "execution_count": 6,
   "id": "0a6f701b-f288-4444-9b72-4f54b82ed69c",
   "metadata": {},
   "outputs": [
    {
     "data": {
      "text/plain": [
       "'welco'"
      ]
     },
     "execution_count": 6,
     "metadata": {},
     "output_type": "execute_result"
    }
   ],
   "source": [
    "demo[:5]"
   ]
  },
  {
   "cell_type": "code",
   "execution_count": 8,
   "id": "501ad752-9b52-4de3-a58d-0cc080738d4c",
   "metadata": {},
   "outputs": [
    {
     "data": {
      "text/plain": [
       "'welcome'"
      ]
     },
     "execution_count": 8,
     "metadata": {},
     "output_type": "execute_result"
    }
   ],
   "source": [
    "demo[:]"
   ]
  },
  {
   "cell_type": "code",
   "execution_count": 9,
   "id": "20e84e0d-c359-4e23-a199-773422481abf",
   "metadata": {},
   "outputs": [
    {
     "data": {
      "text/plain": [
       "'welcome'"
      ]
     },
     "execution_count": 9,
     "metadata": {},
     "output_type": "execute_result"
    }
   ],
   "source": [
    "demo"
   ]
  },
  {
   "cell_type": "code",
   "execution_count": 10,
   "id": "8f89226f-c298-4ed6-93ae-a6a929f114ce",
   "metadata": {},
   "outputs": [],
   "source": [
    "#Slicing with increment"
   ]
  },
  {
   "cell_type": "code",
   "execution_count": 12,
   "id": "4b5022ca-eb12-4a54-abc8-1e96e7ed2a42",
   "metadata": {},
   "outputs": [
    {
     "data": {
      "text/plain": [
       "'wloe'"
      ]
     },
     "execution_count": 12,
     "metadata": {},
     "output_type": "execute_result"
    }
   ],
   "source": [
    "demo[: : 2]"
   ]
  },
  {
   "cell_type": "code",
   "execution_count": 13,
   "id": "149e988b-f3f5-44a9-8c7a-f2671652f543",
   "metadata": {},
   "outputs": [
    {
     "data": {
      "text/plain": [
       "'moc'"
      ]
     },
     "execution_count": 13,
     "metadata": {},
     "output_type": "execute_result"
    }
   ],
   "source": [
    "demo[-2:-5:-1]"
   ]
  },
  {
   "cell_type": "code",
   "execution_count": 14,
   "id": "0938f8f3-503e-45c0-aa90-79090b02c552",
   "metadata": {},
   "outputs": [
    {
     "data": {
      "text/plain": [
       "'emoclew'"
      ]
     },
     "execution_count": 14,
     "metadata": {},
     "output_type": "execute_result"
    }
   ],
   "source": [
    "demo[: :-1]"
   ]
  },
  {
   "cell_type": "code",
   "execution_count": 15,
   "id": "8a4dfba3-e34a-4222-95bc-22807f254300",
   "metadata": {},
   "outputs": [],
   "source": [
    "#String methods"
   ]
  },
  {
   "cell_type": "code",
   "execution_count": 16,
   "id": "7c54fb0a-a165-4d93-affb-d3a60eae3c14",
   "metadata": {},
   "outputs": [
    {
     "data": {
      "text/plain": [
       "'Mobile'"
      ]
     },
     "execution_count": 16,
     "metadata": {},
     "output_type": "execute_result"
    }
   ],
   "source": [
    "#Capitalize\n",
    "my_str=\"mobile\"\n",
    "my_str.capitalize()"
   ]
  },
  {
   "cell_type": "code",
   "execution_count": 17,
   "id": "d44eddb5-1bdb-4366-bdf4-7b6f3994714f",
   "metadata": {},
   "outputs": [
    {
     "data": {
      "text/plain": [
       "'Hi,nice to meet you'"
      ]
     },
     "execution_count": 17,
     "metadata": {},
     "output_type": "execute_result"
    }
   ],
   "source": [
    "\"hi,nice to meet you\".capitalize()"
   ]
  },
  {
   "cell_type": "code",
   "execution_count": 19,
   "id": "f44aafac-9e53-44c7-914b-bdf2fc2283b6",
   "metadata": {},
   "outputs": [
    {
     "data": {
      "text/plain": [
       "'Good Morning'"
      ]
     },
     "execution_count": 19,
     "metadata": {},
     "output_type": "execute_result"
    }
   ],
   "source": [
    "#Title (capitalize first letter of each word) \n",
    "a=\"gOOD mOrnIng\"\n",
    "a.title()"
   ]
  },
  {
   "cell_type": "code",
   "execution_count": 20,
   "id": "177d8f28-45cf-4b74-b3c7-b06bfffe740e",
   "metadata": {},
   "outputs": [
    {
     "data": {
      "text/plain": [
       "'GOOD MORNING'"
      ]
     },
     "execution_count": 20,
     "metadata": {},
     "output_type": "execute_result"
    }
   ],
   "source": [
    "#Upper\n",
    "a.upper()"
   ]
  },
  {
   "cell_type": "code",
   "execution_count": 21,
   "id": "d05d81e4-038c-4607-ba66-0f89a1bedb86",
   "metadata": {},
   "outputs": [
    {
     "data": {
      "text/plain": [
       "'good morning'"
      ]
     },
     "execution_count": 21,
     "metadata": {},
     "output_type": "execute_result"
    }
   ],
   "source": [
    "#Lower\n",
    "a.lower()"
   ]
  },
  {
   "cell_type": "code",
   "execution_count": 22,
   "id": "b6d191bb-b3ae-4580-abd9-7a93fd95ee16",
   "metadata": {},
   "outputs": [
    {
     "data": {
      "text/plain": [
       "['welcome', 'to', 'my', 'house']"
      ]
     },
     "execution_count": 22,
     "metadata": {},
     "output_type": "execute_result"
    }
   ],
   "source": [
    "#Split\n",
    "str='welcome to my house'\n",
    "str.split(' ')"
   ]
  },
  {
   "cell_type": "code",
   "execution_count": 24,
   "id": "5d7313c3-8200-4dcf-8cad-27d4dae6a1b1",
   "metadata": {},
   "outputs": [
    {
     "data": {
      "text/plain": [
       "['sgupta123', 'gmail.com']"
      ]
     },
     "execution_count": 24,
     "metadata": {},
     "output_type": "execute_result"
    }
   ],
   "source": [
    "mail=\"sgupta123@gmail.com\"\n",
    "mail.split('@')"
   ]
  },
  {
   "cell_type": "code",
   "execution_count": 26,
   "id": "59741051-5590-4b0b-831f-cb8f3e0a3a2f",
   "metadata": {},
   "outputs": [
    {
     "data": {
      "text/plain": [
       "['cricket', 'games']"
      ]
     },
     "execution_count": 26,
     "metadata": {},
     "output_type": "execute_result"
    }
   ],
   "source": [
    "team=\"cricket#games\"\n",
    "team.split('#')"
   ]
  },
  {
   "cell_type": "code",
   "execution_count": 27,
   "id": "bbc91e36-832f-484d-b9eb-e43026ec6455",
   "metadata": {},
   "outputs": [
    {
     "data": {
      "text/plain": [
       "'please come here'"
      ]
     },
     "execution_count": 27,
     "metadata": {},
     "output_type": "execute_result"
    }
   ],
   "source": [
    "#Join\n",
    "' '.join(['please','come','here'])"
   ]
  },
  {
   "cell_type": "code",
   "execution_count": 29,
   "id": "0935a097-284d-44ad-a7b8-b0b4e65b5510",
   "metadata": {},
   "outputs": [
    {
     "data": {
      "text/plain": [
       "'a b c d'"
      ]
     },
     "execution_count": 29,
     "metadata": {},
     "output_type": "execute_result"
    }
   ],
   "source": [
    "' '.join(['a','b','c','d'])"
   ]
  },
  {
   "cell_type": "code",
   "execution_count": 30,
   "id": "51fbb7c9-fe9f-467e-ae53-73bb000263a6",
   "metadata": {},
   "outputs": [
    {
     "data": {
      "text/plain": [
       "4"
      ]
     },
     "execution_count": 30,
     "metadata": {},
     "output_type": "execute_result"
    }
   ],
   "source": [
    "#Find\n",
    "st=\"we will be here!\"\n",
    "st.find(\"i\")"
   ]
  },
  {
   "cell_type": "code",
   "execution_count": 31,
   "id": "5024d9dc-3ed7-4054-b6d3-17e089c3964f",
   "metadata": {},
   "outputs": [
    {
     "data": {
      "text/plain": [
       "0"
      ]
     },
     "execution_count": 31,
     "metadata": {},
     "output_type": "execute_result"
    }
   ],
   "source": [
    "st.find(\"w\")"
   ]
  },
  {
   "cell_type": "code",
   "execution_count": 34,
   "id": "17cdbdb0-c8b7-4aba-9085-cff5b4d735b2",
   "metadata": {},
   "outputs": [
    {
     "data": {
      "text/plain": [
       "2"
      ]
     },
     "execution_count": 34,
     "metadata": {},
     "output_type": "execute_result"
    }
   ],
   "source": [
    "#Count\n",
    "str=\"bhubansewar\"\n",
    "str.count('b')"
   ]
  },
  {
   "cell_type": "code",
   "execution_count": 35,
   "id": "12fc12b0-6a00-404d-bd11-c9f59c46d3a8",
   "metadata": {},
   "outputs": [
    {
     "data": {
      "text/plain": [
       "0"
      ]
     },
     "execution_count": 35,
     "metadata": {},
     "output_type": "execute_result"
    }
   ],
   "source": [
    "str.count('y')"
   ]
  },
  {
   "cell_type": "code",
   "execution_count": 37,
   "id": "fe03223e-9586-4954-9878-d5aaeb92ad18",
   "metadata": {},
   "outputs": [
    {
     "data": {
      "text/plain": [
       "'bad morning'"
      ]
     },
     "execution_count": 37,
     "metadata": {},
     "output_type": "execute_result"
    }
   ],
   "source": [
    "#Replace\n",
    "s1=\"good morning\"\n",
    "s2=s1.replace('good','bad')\n",
    "s2"
   ]
  },
  {
   "cell_type": "code",
   "execution_count": 38,
   "id": "014e7a5e-06d8-49fe-8546-7220ce70e7fc",
   "metadata": {},
   "outputs": [
    {
     "name": "stdout",
     "output_type": "stream",
     "text": [
      "False\n",
      "False\n",
      "False\n",
      "False\n",
      "False\n",
      "False\n",
      "False\n",
      "False\n",
      "True\n",
      "False\n"
     ]
    }
   ],
   "source": [
    "my_str='Java proGramming123'\n",
    "print(my_str.isalnum())\n",
    "print(my_str.isalpha())\n",
    "print(my_str.isdigit())\n",
    "print(my_str.istitle())\n",
    "print(my_str.isupper())\n",
    "print(my_str.islower())\n",
    "print(my_str.isspace())\n",
    "print(my_str.endswith('g'))\n",
    "print(my_str.startswith('J'))\n",
    "print(my_str.startswith('j'))"
   ]
  }
 ],
 "metadata": {
  "kernelspec": {
   "display_name": "Python 3 (ipykernel)",
   "language": "python",
   "name": "python3"
  },
  "language_info": {
   "codemirror_mode": {
    "name": "ipython",
    "version": 3
   },
   "file_extension": ".py",
   "mimetype": "text/x-python",
   "name": "python",
   "nbconvert_exporter": "python",
   "pygments_lexer": "ipython3",
   "version": "3.11.7"
  }
 },
 "nbformat": 4,
 "nbformat_minor": 5
}
