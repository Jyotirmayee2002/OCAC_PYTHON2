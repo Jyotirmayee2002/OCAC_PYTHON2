{
 "cells": [
  {
   "cell_type": "code",
   "execution_count": 1,
   "id": "9676f32e-3ca6-456c-9a5e-e277f18a3be1",
   "metadata": {},
   "outputs": [],
   "source": [
    "#Built-in functions"
   ]
  },
  {
   "cell_type": "code",
   "execution_count": 2,
   "id": "8818fad1-b4ff-44b2-a2a9-2b8e97701773",
   "metadata": {},
   "outputs": [
    {
     "data": {
      "text/plain": [
       "120"
      ]
     },
     "execution_count": 2,
     "metadata": {},
     "output_type": "execute_result"
    }
   ],
   "source": [
    "#abs()\n",
    "num=-120\n",
    "abs(num)"
   ]
  },
  {
   "cell_type": "code",
   "execution_count": 3,
   "id": "9cec4019-55a4-4f7a-8bc9-af690d423dff",
   "metadata": {},
   "outputs": [
    {
     "data": {
      "text/plain": [
       "(0, 5)"
      ]
     },
     "execution_count": 3,
     "metadata": {},
     "output_type": "execute_result"
    }
   ],
   "source": [
    "#divmod()\n",
    "divmod(5,10)"
   ]
  },
  {
   "cell_type": "code",
   "execution_count": 4,
   "id": "ae36a282-eab8-4553-9223-cc8274530b58",
   "metadata": {},
   "outputs": [],
   "source": [
    "#User-defined functions"
   ]
  },
  {
   "cell_type": "code",
   "execution_count": 7,
   "id": "0ce48742-6d30-4f36-b12d-04a54a050295",
   "metadata": {},
   "outputs": [],
   "source": [
    "#return statement\n",
    "def double(num):\n",
    "    \"\"\"\n",
    "    whatever the number you enter....it just double here\n",
    "    \"\"\"\n",
    "    return 2*num"
   ]
  },
  {
   "cell_type": "code",
   "execution_count": 8,
   "id": "4971154e-cf29-4c12-8638-0d991f80a8b0",
   "metadata": {},
   "outputs": [
    {
     "name": "stdout",
     "output_type": "stream",
     "text": [
      "\n",
      "    whatever the number you enter....it just double here\n",
      "    \n"
     ]
    }
   ],
   "source": [
    "print(double.__doc__)"
   ]
  },
  {
   "cell_type": "code",
   "execution_count": 9,
   "id": "7adfbb7a-db38-4051-8d5b-40de2c6ac5e8",
   "metadata": {},
   "outputs": [
    {
     "data": {
      "text/plain": [
       "12"
      ]
     },
     "execution_count": 9,
     "metadata": {},
     "output_type": "execute_result"
    }
   ],
   "source": [
    "double(6)"
   ]
  },
  {
   "cell_type": "code",
   "execution_count": 10,
   "id": "4ab57659-efc5-4f7c-bea6-8a46546a48f4",
   "metadata": {},
   "outputs": [],
   "source": [
    "def double(num):\n",
    "    return 2*int(num)"
   ]
  },
  {
   "cell_type": "code",
   "execution_count": 11,
   "id": "ccddbe81-d49c-43bb-b63a-ba4debeaf2e8",
   "metadata": {},
   "outputs": [
    {
     "data": {
      "text/plain": [
       "24"
      ]
     },
     "execution_count": 11,
     "metadata": {},
     "output_type": "execute_result"
    }
   ],
   "source": [
    "double(12.3)"
   ]
  },
  {
   "cell_type": "code",
   "execution_count": 14,
   "id": "bb2c997f-1c8d-4e44-aec3-e82ed4ea7f89",
   "metadata": {},
   "outputs": [
    {
     "data": {
      "text/plain": [
       "2"
      ]
     },
     "execution_count": 14,
     "metadata": {},
     "output_type": "execute_result"
    }
   ],
   "source": [
    "def sub(num1,num2):\n",
    "    return num1-num2\n",
    "    \n",
    "sub(4,2)"
   ]
  },
  {
   "cell_type": "code",
   "execution_count": 15,
   "id": "863fe8cb-c9c4-424f-8b32-99df7c8cda6e",
   "metadata": {},
   "outputs": [],
   "source": [
    "def print_name(x):\n",
    "    print(\"hello\",x)"
   ]
  },
  {
   "cell_type": "code",
   "execution_count": 16,
   "id": "6b7a3dcb-bfdd-41aa-9095-ec659d585b05",
   "metadata": {},
   "outputs": [
    {
     "name": "stdout",
     "output_type": "stream",
     "text": [
      "hello Priya\n"
     ]
    }
   ],
   "source": [
    "print_name(\"Priya\")"
   ]
  },
  {
   "cell_type": "code",
   "execution_count": 17,
   "id": "9165d1dc-e5f2-4647-ba81-25b183691a54",
   "metadata": {},
   "outputs": [
    {
     "name": "stdout",
     "output_type": "stream",
     "text": [
      "hello 150\n"
     ]
    }
   ],
   "source": [
    "print_name(150)"
   ]
  },
  {
   "cell_type": "code",
   "execution_count": 18,
   "id": "8f6d358c-3075-4bf1-807e-8c3658474514",
   "metadata": {},
   "outputs": [
    {
     "data": {
      "text/plain": [
       "10"
      ]
     },
     "execution_count": 18,
     "metadata": {},
     "output_type": "execute_result"
    }
   ],
   "source": [
    "def get_sum(lst):\n",
    "    sum=0\n",
    "    for num in lst:\n",
    "        sum+=num\n",
    "    return sum\n",
    "get_sum([1,2,3,4])"
   ]
  },
  {
   "cell_type": "code",
   "execution_count": 19,
   "id": "9287f824-cc74-42e8-9602-c5bbe011d517",
   "metadata": {},
   "outputs": [
    {
     "name": "stdout",
     "output_type": "stream",
     "text": [
      "6\n",
      "12\n",
      "18\n",
      "30\n",
      "36\n",
      "42\n"
     ]
    }
   ],
   "source": [
    "def num_6_8(i):\n",
    "    for num in range(1,i):\n",
    "        if num%6==0 and num%8!=0:\n",
    "            print(num)\n",
    "num_6_8(50)"
   ]
  },
  {
   "cell_type": "code",
   "execution_count": 20,
   "id": "b90a2c13-8105-4f3c-931a-59a972ee9866",
   "metadata": {},
   "outputs": [
    {
     "name": "stdout",
     "output_type": "stream",
     "text": [
      "6 9\n"
     ]
    }
   ],
   "source": [
    "lst=[1,2,3,4,5]\n",
    "even_sum=0\n",
    "odd_sum=0\n",
    "for i in lst:\n",
    "    if i%2==0:\n",
    "        even_sum=even_sum+i\n",
    "    else:\n",
    "        odd_sum=odd_sum+i\n",
    "print(even_sum,odd_sum)"
   ]
  },
  {
   "cell_type": "code",
   "execution_count": 27,
   "id": "1f378d12-98b4-4abb-84e9-77d6688b4214",
   "metadata": {},
   "outputs": [
    {
     "ename": "SyntaxError",
     "evalue": "invalid syntax (3093049667.py, line 2)",
     "output_type": "error",
     "traceback": [
      "\u001b[1;36m  Cell \u001b[1;32mIn[27], line 2\u001b[1;36m\u001b[0m\n\u001b[1;33m    def f__n(1):\u001b[0m\n\u001b[1;37m             ^\u001b[0m\n\u001b[1;31mSyntaxError\u001b[0m\u001b[1;31m:\u001b[0m invalid syntax\n"
     ]
    }
   ],
   "source": [
    "#define the function\n",
    "def f__n(1):\n",
    "    even_sum=0\n",
    "    odd_sum=0\n",
    "    for i in 1:\n",
    "        if i%2==0:\n",
    "            even_sum=even_sum+i\n",
    "        else:\n",
    "            odd_sum=odd_sum+i\n",
    "    print(even_sum,odd_sum)"
   ]
  },
  {
   "cell_type": "code",
   "execution_count": 28,
   "id": "a2f42d18-7c49-49a7-a791-b9310d301784",
   "metadata": {},
   "outputs": [],
   "source": [
    "#Function arguments"
   ]
  },
  {
   "cell_type": "code",
   "execution_count": 30,
   "id": "2d3036ca-fa1e-4045-8023-bfff3978ead4",
   "metadata": {},
   "outputs": [
    {
     "name": "stdout",
     "output_type": "stream",
     "text": [
      "hello jyoti, good morning\n"
     ]
    }
   ],
   "source": [
    "def greet(name,msg):\n",
    "    print(\"hello {}, {}\".format(name,msg))\n",
    "greet(\"jyoti\",\"good morning\")"
   ]
  },
  {
   "cell_type": "code",
   "execution_count": 31,
   "id": "8082305b-d0fe-4ac0-a129-1f40d8ff81f5",
   "metadata": {},
   "outputs": [],
   "source": [
    "#Different forms of arguments"
   ]
  },
  {
   "cell_type": "code",
   "execution_count": 34,
   "id": "5ac03b0b-fddd-4fb2-bb90-91120ea422a3",
   "metadata": {},
   "outputs": [],
   "source": [
    "#Function with no argument\n",
    "def even_num():\n",
    "    lb=int(input(\"enter the starting number\"))\n",
    "    ub=int(input(\"enter the upper bound\"))\n",
    "    for i in range(lb,ub+1):\n",
    "        if i%2==0:\n",
    "            print(i)"
   ]
  },
  {
   "cell_type": "code",
   "execution_count": 35,
   "id": "0f357b2c-2f0c-40f8-83b0-9203b32d312d",
   "metadata": {},
   "outputs": [
    {
     "name": "stdin",
     "output_type": "stream",
     "text": [
      "enter the starting number 15\n",
      "enter the upper bound 50\n"
     ]
    },
    {
     "name": "stdout",
     "output_type": "stream",
     "text": [
      "16\n",
      "18\n",
      "20\n",
      "22\n",
      "24\n",
      "26\n",
      "28\n",
      "30\n",
      "32\n",
      "34\n",
      "36\n",
      "38\n",
      "40\n",
      "42\n",
      "44\n",
      "46\n",
      "48\n",
      "50\n"
     ]
    }
   ],
   "source": [
    "even_num()"
   ]
  },
  {
   "cell_type": "code",
   "execution_count": 36,
   "id": "ad8a67c7-57fc-4311-9e68-ee00059a2e38",
   "metadata": {},
   "outputs": [],
   "source": [
    "#Default arguments"
   ]
  },
  {
   "cell_type": "code",
   "execution_count": 37,
   "id": "25afc0f6-95a8-4b3c-9bc1-c1b1db537c8d",
   "metadata": {},
   "outputs": [
    {
     "name": "stdout",
     "output_type": "stream",
     "text": [
      "hello satish,good night\n"
     ]
    }
   ],
   "source": [
    "def greet(name,msg=\"good morning\"):\n",
    "    print(\"hello {},{}\".format(name,msg))\n",
    "greet(\"satish\",\"good night\")"
   ]
  },
  {
   "cell_type": "code",
   "execution_count": 38,
   "id": "a2373573-dbd2-46a7-91bb-a61cce8cfe70",
   "metadata": {},
   "outputs": [
    {
     "name": "stdout",
     "output_type": "stream",
     "text": [
      "hello satish,good morning\n"
     ]
    }
   ],
   "source": [
    "#without msg argument \n",
    "greet(\"satish\")"
   ]
  },
  {
   "cell_type": "code",
   "execution_count": 39,
   "id": "067b69e2-15e8-4c17-b21d-0c177a2727b5",
   "metadata": {},
   "outputs": [],
   "source": [
    "#Keyword argument"
   ]
  },
  {
   "cell_type": "code",
   "execution_count": 40,
   "id": "f10b1834-bf95-48d9-972c-fc9d395ebc82",
   "metadata": {},
   "outputs": [
    {
     "name": "stdout",
     "output_type": "stream",
     "text": [
      "hello good, good morning\n"
     ]
    }
   ],
   "source": [
    "def greet(**kwargs):\n",
    "    if kwargs:\n",
    "        print(\"hello {}, {}\".format(kwargs['name'],kwargs['msg']))\n",
    "greet(name=\"good\",msg=\"good morning\")"
   ]
  },
  {
   "cell_type": "code",
   "execution_count": 41,
   "id": "601f5285-3276-4cef-919d-71067ff564f0",
   "metadata": {},
   "outputs": [],
   "source": [
    "#Arbitary arguments"
   ]
  },
  {
   "cell_type": "code",
   "execution_count": 42,
   "id": "f5ded40a-2960-43b7-b370-d28e3ba71998",
   "metadata": {},
   "outputs": [],
   "source": [
    "def greet(*names):\n",
    "    print(names)\n",
    "    for name in names:\n",
    "        print(\"hello, {0}\".format(name))"
   ]
  },
  {
   "cell_type": "code",
   "execution_count": 43,
   "id": "afdcf8e8-a429-4b04-b878-e44bc28e38c8",
   "metadata": {},
   "outputs": [
    {
     "name": "stdout",
     "output_type": "stream",
     "text": [
      "('satish', 'riya')\n",
      "hello, satish\n",
      "hello, riya\n"
     ]
    }
   ],
   "source": [
    "greet(\"satish\",\"riya\")"
   ]
  },
  {
   "cell_type": "code",
   "execution_count": 44,
   "id": "455cf50a-0d10-4b2a-b943-eae0a10b006c",
   "metadata": {},
   "outputs": [],
   "source": [
    "#Recursive function"
   ]
  },
  {
   "cell_type": "code",
   "execution_count": 45,
   "id": "40acef73-c127-4163-a545-fa481c862779",
   "metadata": {},
   "outputs": [],
   "source": [
    "def factorial(num):\n",
    "    if num==0:\n",
    "        return 1\n",
    "    else:\n",
    "        return num * factorial(num-1)"
   ]
  },
  {
   "cell_type": "code",
   "execution_count": 48,
   "id": "71298bee-189f-4786-8eb9-0aeeb1f05624",
   "metadata": {},
   "outputs": [
    {
     "name": "stdout",
     "output_type": "stream",
     "text": [
      "factorial of 6 is 720\n"
     ]
    }
   ],
   "source": [
    "num=6\n",
    "print(\"factorial of {} is {}\".format(num,factorial(num)))"
   ]
  },
  {
   "cell_type": "code",
   "execution_count": 1,
   "id": "51f424ae-e861-44ce-822f-909892df0c1a",
   "metadata": {},
   "outputs": [],
   "source": [
    "#Python program to make a simple calculator that can add, subtract, multiply and divide"
   ]
  },
  {
   "cell_type": "code",
   "execution_count": 3,
   "id": "23c5bda5-4d4e-427f-be32-401b8d63fc85",
   "metadata": {},
   "outputs": [
    {
     "name": "stdout",
     "output_type": "stream",
     "text": [
      "select option\n",
      "1. Addition\n",
      "2. Subtraction\n",
      "3. multiply\n",
      "4. division\n"
     ]
    },
    {
     "name": "stdin",
     "output_type": "stream",
     "text": [
      "enter choice 1/2/3/4  3\n",
      "enter first number 12\n",
      "enter second number 4\n"
     ]
    },
    {
     "name": "stdout",
     "output_type": "stream",
     "text": [
      "multiplication of 12 and 4 is 48\n"
     ]
    }
   ],
   "source": [
    "def add(a,b):\n",
    "    return a+b\n",
    "def multiply(a,b):\n",
    "    return a*b\n",
    "def subtract(a,b):\n",
    "    return a-b\n",
    "def division(a,b):\n",
    "    return a/b\n",
    "\n",
    "print(\"select option\")\n",
    "print(\"1. Addition\")\n",
    "print(\"2. Subtraction\")\n",
    "print(\"3. multiply\")\n",
    "print(\"4. division\")\n",
    "\n",
    "choice=int(input(\"enter choice 1/2/3/4 \"))\n",
    "\n",
    "num1=int(input(\"enter first number\"))\n",
    "num2=int(input(\"enter second number\"))\n",
    "if choice==1:\n",
    "    print(\"addition of {} and {} is {}\".format(num1, num2, add(num1, num2)))\n",
    "elif choice==2:\n",
    "    print(\"subtraction of {} and {} is {}\".format(num1, num2, subtract(num1, num2)))\n",
    "elif choice==3:\n",
    "    print(\"multiplication of {} and {} is {}\".format(num1, num2, multiply(num1, num2)))\n",
    "elif choice==4:\n",
    "    print(\"division of {} and {} is {}\".format(num1,num2, division(num1, num2)))\n",
    "else:\n",
    "    print(\"invalid choice\")\n",
    "\n",
    "    "
   ]
  }
 ],
 "metadata": {
  "kernelspec": {
   "display_name": "Python 3 (ipykernel)",
   "language": "python",
   "name": "python3"
  },
  "language_info": {
   "codemirror_mode": {
    "name": "ipython",
    "version": 3
   },
   "file_extension": ".py",
   "mimetype": "text/x-python",
   "name": "python",
   "nbconvert_exporter": "python",
   "pygments_lexer": "ipython3",
   "version": "3.11.7"
  }
 },
 "nbformat": 4,
 "nbformat_minor": 5
}
