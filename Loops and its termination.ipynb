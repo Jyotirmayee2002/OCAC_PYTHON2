{
 "cells": [
  {
   "cell_type": "code",
   "execution_count": 1,
   "id": "197c7309-d79a-4a1f-8832-548b8d997d63",
   "metadata": {},
   "outputs": [],
   "source": [
    "#For loop"
   ]
  },
  {
   "cell_type": "code",
   "execution_count": 2,
   "id": "1d2d704f-7eb4-4ed7-8e05-92df558db30e",
   "metadata": {},
   "outputs": [
    {
     "name": "stdout",
     "output_type": "stream",
     "text": [
      "1\n",
      "2\n",
      "3\n",
      "4\n",
      "5\n"
     ]
    }
   ],
   "source": [
    "seq=[1,2,3,4,5]\n",
    "for i in seq:\n",
    "    print(i)"
   ]
  },
  {
   "cell_type": "code",
   "execution_count": 3,
   "id": "485c0368-2b20-440c-84b3-4843c39cda5c",
   "metadata": {},
   "outputs": [
    {
     "name": "stdout",
     "output_type": "stream",
     "text": [
      "11\n",
      "2\n",
      "32\n",
      "40\n"
     ]
    }
   ],
   "source": [
    "seq=[11,2,32,40]\n",
    "for item in seq:\n",
    "    print(item)"
   ]
  },
  {
   "cell_type": "code",
   "execution_count": 4,
   "id": "1ab279f2-4585-4c75-a163-2c8e2f5fbdf1",
   "metadata": {},
   "outputs": [
    {
     "name": "stdout",
     "output_type": "stream",
     "text": [
      "audi\n",
      "bmw\n",
      "mercedes\n",
      "wagonr\n"
     ]
    }
   ],
   "source": [
    "cars=['audi','bmw','mercedes','wagonr']\n",
    "for x in cars:\n",
    "    print(x)"
   ]
  },
  {
   "cell_type": "code",
   "execution_count": 5,
   "id": "1b58c4c6-a7ce-4523-9f86-28b62ccef1ef",
   "metadata": {},
   "outputs": [
    {
     "name": "stdout",
     "output_type": "stream",
     "text": [
      "123456"
     ]
    }
   ],
   "source": [
    "list1=[1,2,3,4,5,6]\n",
    "for i in list1:\n",
    "    print(i,end='')"
   ]
  },
  {
   "cell_type": "code",
   "execution_count": 6,
   "id": "2daac778-2110-440d-b604-036f9e4c3270",
   "metadata": {},
   "outputs": [
    {
     "name": "stdout",
     "output_type": "stream",
     "text": [
      "1 2 3 "
     ]
    }
   ],
   "source": [
    "x=\"123\"\n",
    "for demo in x:\n",
    "    print(demo,end=' ')"
   ]
  },
  {
   "cell_type": "code",
   "execution_count": 7,
   "id": "b57d83fb-fa4b-46f6-bd2a-0a4c2cf18c4b",
   "metadata": {},
   "outputs": [
    {
     "name": "stdout",
     "output_type": "stream",
     "text": [
      "0 hello\n",
      "1 hello\n",
      "2 hello\n",
      "3 hello\n",
      "4 hello\n",
      "5 hello\n",
      "6 hello\n",
      "7 hello\n",
      "8 hello\n",
      "9 hello\n",
      "10 hello\n",
      "11 hello\n",
      "12 hello\n",
      "13 hello\n",
      "14 hello\n"
     ]
    }
   ],
   "source": [
    "for x in range(15):\n",
    "    print(x,\"hello\")"
   ]
  },
  {
   "cell_type": "code",
   "execution_count": 8,
   "id": "af9409d1-54c9-48ef-bdd6-b6760e13b469",
   "metadata": {},
   "outputs": [
    {
     "name": "stdout",
     "output_type": "stream",
     "text": [
      "1 2 3 4 5 6 7 8 9 10 "
     ]
    }
   ],
   "source": [
    "#print 1 to 10 natural numbers\n",
    "for i in range(1,11):\n",
    "    print(i,end=\" \")"
   ]
  },
  {
   "cell_type": "code",
   "execution_count": 9,
   "id": "19c1dd04-805c-44ca-842e-5d42c7d92701",
   "metadata": {},
   "outputs": [
    {
     "name": "stdout",
     "output_type": "stream",
     "text": [
      "11\n",
      "12\n",
      "13\n",
      "14\n",
      "15\n",
      "16\n",
      "17\n",
      "18\n",
      "19\n",
      "20\n",
      "21\n",
      "22\n",
      "23\n",
      "24\n",
      "25\n",
      "26\n",
      "27\n",
      "28\n",
      "29\n",
      "30\n",
      "31\n",
      "32\n",
      "33\n",
      "34\n",
      "35\n",
      "36\n",
      "37\n",
      "38\n",
      "39\n",
      "40\n",
      "41\n",
      "42\n",
      "43\n",
      "44\n",
      "45\n",
      "46\n",
      "47\n",
      "48\n",
      "49\n",
      "50\n"
     ]
    }
   ],
   "source": [
    "#for loop to print all the numbers between 10 and 50\n",
    "for i in range(11,51):\n",
    "    print(i)"
   ]
  },
  {
   "cell_type": "code",
   "execution_count": 10,
   "id": "d850b027-bd56-4c90-a723-b078131e1dca",
   "metadata": {},
   "outputs": [
    {
     "name": "stdout",
     "output_type": "stream",
     "text": [
      "100 98 96 94 92 90 88 86 84 82 80 78 76 74 72 70 68 66 64 62 60 58 56 54 52 50 48 46 44 42 40 38 36 34 32 30 28 26 24 22 20 18 16 14 12 10 8 6 4 2 "
     ]
    }
   ],
   "source": [
    "#print even numbers in descending order from 1 to 100\n",
    "for i in range(100,1,-2):\n",
    "    print(i,end=' ')"
   ]
  },
  {
   "cell_type": "code",
   "execution_count": 11,
   "id": "9e7bf7b2-41f1-430b-8483-5e5e5c3b6eb0",
   "metadata": {},
   "outputs": [
    {
     "name": "stdout",
     "output_type": "stream",
     "text": [
      "11 13 15 17 19 21 23 25 27 29 31 33 35 37 39 41 43 45 47 49 "
     ]
    }
   ],
   "source": [
    "#for loop to print all the odd numbers between 10 and 50\n",
    "for i in range(11,50,2):\n",
    "    print(i,end=' ')"
   ]
  },
  {
   "cell_type": "code",
   "execution_count": 12,
   "id": "2ba64700-2b2e-45ed-92da-161f2ba4c6c2",
   "metadata": {},
   "outputs": [
    {
     "name": "stdout",
     "output_type": "stream",
     "text": [
      "item at index 0 is item1\n",
      "item at index 1 is item2\n",
      "item at index 2 is item3\n",
      "item at index 3 is item4\n"
     ]
    }
   ],
   "source": [
    "items=['item1','item2','item3','item4']\n",
    "for i in range(len(items)):\n",
    "    print('item at index',i,'is',items[i])"
   ]
  },
  {
   "cell_type": "code",
   "execution_count": 13,
   "id": "ba4224d5-cbb3-46cf-a7bc-26aa915fbba9",
   "metadata": {},
   "outputs": [
    {
     "name": "stdout",
     "output_type": "stream",
     "text": [
      "sum: 27\n"
     ]
    }
   ],
   "source": [
    "#print sum of n whole numbers \n",
    "a=[12,5,9,1]\n",
    "sum1=0\n",
    "for i in a:\n",
    "    sum1=sum1+i\n",
    "print(\"sum:\",sum1)"
   ]
  },
  {
   "cell_type": "code",
   "execution_count": 14,
   "id": "85e4cfee-ecb2-4333-9530-7e881019606e",
   "metadata": {},
   "outputs": [
    {
     "name": "stdout",
     "output_type": "stream",
     "text": [
      "after 1 iteration the sum 1\n",
      "after 2 iteration the sum 3\n",
      "after 3 iteration the sum 6\n",
      "after 4 iteration the sum 10\n",
      "after 5 iteration the sum 15\n"
     ]
    }
   ],
   "source": [
    "b=[1,2,3,4,5]\n",
    "sum=0\n",
    "for i in b:\n",
    "    sum=sum+i\n",
    "    print(\"after\",i,\"iteration the sum\",sum)"
   ]
  },
  {
   "cell_type": "code",
   "execution_count": 15,
   "id": "a48bb35c-a18c-4595-9200-f4091d2d7a03",
   "metadata": {},
   "outputs": [
    {
     "name": "stdout",
     "output_type": "stream",
     "text": [
      "I like audi\n"
     ]
    }
   ],
   "source": [
    "#program to iterate through a list using indexing\n",
    "car=['bmw','mercedes','audi','wagonr']\n",
    "for i in range(1):\n",
    "    print(\"I like\",car[2])"
   ]
  },
  {
   "cell_type": "code",
   "execution_count": 17,
   "id": "f397fbd9-281d-4b29-a5f5-4e3da16fb846",
   "metadata": {},
   "outputs": [
    {
     "name": "stdin",
     "output_type": "stream",
     "text": [
      "enter the starting number 12\n",
      "enter the ending number 45\n"
     ]
    },
    {
     "name": "stdout",
     "output_type": "stream",
     "text": [
      "12 14 16 18 20 22 24 26 28 30 32 34 36 38 40 42 44 "
     ]
    }
   ],
   "source": [
    "#program to get all the even numbers within a range\n",
    "lb=int(input('enter the starting number'))\n",
    "ub=int(input('enter the ending number'))\n",
    "for i in range(lb,ub+1):\n",
    "    if i%2==0:\n",
    "        print(i,end=' ')"
   ]
  },
  {
   "cell_type": "code",
   "execution_count": 18,
   "id": "6a67ebac-3e47-4293-8a8f-056ce0dd6044",
   "metadata": {},
   "outputs": [
    {
     "name": "stdin",
     "output_type": "stream",
     "text": [
      "enter the number 6\n"
     ]
    },
    {
     "name": "stdout",
     "output_type": "stream",
     "text": [
      "* * * * * * "
     ]
    }
   ],
   "source": [
    "n=int(input('enter the number'))\n",
    "for i in range(n):\n",
    "    print(\"*\",end=\" \")"
   ]
  },
  {
   "cell_type": "code",
   "execution_count": 19,
   "id": "bff8bebd-4d83-46a8-bd18-677a53e4d3cf",
   "metadata": {},
   "outputs": [
    {
     "name": "stdin",
     "output_type": "stream",
     "text": [
      "enter lower bound 20\n",
      "enter upper bound 40\n"
     ]
    },
    {
     "name": "stdout",
     "output_type": "stream",
     "text": [
      "20 22 24 26 28 30 32 34 36 38 40 \n",
      "sum is 330\n"
     ]
    }
   ],
   "source": [
    "#program to find the sum of even numbers in between given range\n",
    "lb=int(input('enter lower bound'))\n",
    "ub=int(input('enter upper bound'))\n",
    "sum=0\n",
    "for i in range(lb,ub+1):\n",
    "    if(i%2==0):\n",
    "        sum=sum+i\n",
    "        print(i,end=' ')\n",
    "print('\\nsum is',sum)"
   ]
  },
  {
   "cell_type": "code",
   "execution_count": 20,
   "id": "90fc4252-b956-4c21-bb22-791efdd41e91",
   "metadata": {},
   "outputs": [
    {
     "name": "stdout",
     "output_type": "stream",
     "text": [
      "5\n",
      "10\n",
      "15\n",
      "20\n",
      "25\n",
      "30\n",
      "40\n",
      "45\n",
      "50\n",
      "55\n",
      "60\n",
      "65\n",
      "75\n",
      "80\n",
      "85\n",
      "90\n",
      "95\n",
      "100\n"
     ]
    }
   ],
   "source": [
    "#program that gives the numbers between 1 to 100 which are divisible by 5 and not by 7\n",
    "for i in range(1,101):\n",
    "    if i%5==0 and i%7!=0:\n",
    "        print(i)"
   ]
  },
  {
   "cell_type": "code",
   "execution_count": 21,
   "id": "855e2614-ef97-402a-b585-5d438da41e14",
   "metadata": {},
   "outputs": [
    {
     "name": "stdin",
     "output_type": "stream",
     "text": [
      "enter the number 6\n"
     ]
    },
    {
     "name": "stdout",
     "output_type": "stream",
     "text": [
      "6 * 1 = 6\n",
      "6 * 2 = 12\n",
      "6 * 3 = 18\n",
      "6 * 4 = 24\n",
      "6 * 5 = 30\n",
      "6 * 6 = 36\n",
      "6 * 7 = 42\n",
      "6 * 8 = 48\n",
      "6 * 9 = 54\n",
      "6 * 10 = 60\n"
     ]
    }
   ],
   "source": [
    "#program to print mathematical tables\n",
    "n=int(input('enter the number'))\n",
    "for i in range(1,11):\n",
    "    print(n,'*',i,'=',n*i)"
   ]
  },
  {
   "cell_type": "code",
   "execution_count": 22,
   "id": "2908aa09-611a-489c-bf62-6d02f63741eb",
   "metadata": {},
   "outputs": [
    {
     "name": "stdin",
     "output_type": "stream",
     "text": [
      "enter the number: 5\n"
     ]
    },
    {
     "name": "stdout",
     "output_type": "stream",
     "text": [
      "* * * * * * * * * * * * * * * * * * * * * * * * * * * * * * "
     ]
    }
   ],
   "source": [
    "n=int(input('enter the number:'))\n",
    "for i in range(n):\n",
    "    for j in range(n+1,):\n",
    "        print('*',end=' ')"
   ]
  },
  {
   "cell_type": "code",
   "execution_count": 23,
   "id": "7ad5a442-3a8a-4db1-8685-866c836bf0fc",
   "metadata": {},
   "outputs": [],
   "source": [
    "#List Comprehension"
   ]
  },
  {
   "cell_type": "code",
   "execution_count": 24,
   "id": "08bc35ac-0209-4d3e-9779-69ab3bc6ec40",
   "metadata": {},
   "outputs": [
    {
     "name": "stdout",
     "output_type": "stream",
     "text": [
      "[0, 1, 4, 9, 16, 25, 36, 49, 64, 81]\n"
     ]
    }
   ],
   "source": [
    "#without list comprehension\n",
    "squares=[]\n",
    "for i in range(10):\n",
    "    squares.append(i**2)      #list append\n",
    "print(squares)"
   ]
  },
  {
   "cell_type": "code",
   "execution_count": 25,
   "id": "581cfd6d-c0f3-4ee4-86b2-d7a3a5613de1",
   "metadata": {},
   "outputs": [
    {
     "data": {
      "text/plain": [
       "[3, 8, 4, 6]"
      ]
     },
     "execution_count": 25,
     "metadata": {},
     "output_type": "execute_result"
    }
   ],
   "source": [
    "cars=['bmw','mercedes','audi','wagonr']\n",
    "[len(cars) for cars in cars]"
   ]
  },
  {
   "cell_type": "code",
   "execution_count": 26,
   "id": "0691aef6-37f1-4a1d-b8f5-1c7473805bc8",
   "metadata": {},
   "outputs": [
    {
     "data": {
      "text/plain": [
       "[2, 4, 5, 8, 3]"
      ]
     },
     "execution_count": 26,
     "metadata": {},
     "output_type": "execute_result"
    }
   ],
   "source": [
    "list2=[-2,-4,-5,-8,-3]\n",
    "absv=[abs(x) for x in list2]\n",
    "absv"
   ]
  },
  {
   "cell_type": "code",
   "execution_count": 27,
   "id": "00f76c2f-4f06-409c-a3fe-fc2965e196fe",
   "metadata": {},
   "outputs": [
    {
     "data": {
      "text/plain": [
       "[2, 4, 5, 3, 64]"
      ]
     },
     "execution_count": 27,
     "metadata": {},
     "output_type": "execute_result"
    }
   ],
   "source": [
    "lst=[-2,-4,-5,-3,4]\n",
    "both=[]\n",
    "for x in lst:\n",
    "    if x<0:\n",
    "        both.append(abs(x))\n",
    "    else:\n",
    "        both.append(x**3)\n",
    "both"
   ]
  },
  {
   "cell_type": "code",
   "execution_count": 28,
   "id": "c95b25ae-6e2b-4087-9648-5cf7e9f947b2",
   "metadata": {},
   "outputs": [
    {
     "data": {
      "text/plain": [
       "[2, 4, 5, 8, 3]"
      ]
     },
     "execution_count": 28,
     "metadata": {},
     "output_type": "execute_result"
    }
   ],
   "source": [
    "[abs(x) if x<0 else x**3 for x in list2]"
   ]
  },
  {
   "cell_type": "code",
   "execution_count": 29,
   "id": "6a0eaa04-69bc-4680-8dec-bf6117eabb80",
   "metadata": {},
   "outputs": [],
   "source": [
    "#Set Comprehension"
   ]
  },
  {
   "cell_type": "code",
   "execution_count": 30,
   "id": "d6aa6430-9164-4bcb-aa69-cb463274b274",
   "metadata": {},
   "outputs": [
    {
     "data": {
      "text/plain": [
       "{3, 4, 6}"
      ]
     },
     "execution_count": 30,
     "metadata": {},
     "output_type": "execute_result"
    }
   ],
   "source": [
    "colour=['blue','red','yellow','pink']\n",
    "a=set()\n",
    "for i in colour:\n",
    "    a.add(len(i))\n",
    "a"
   ]
  },
  {
   "cell_type": "code",
   "execution_count": 31,
   "id": "7b0405bd-ae5d-4973-ad16-a82e275583ad",
   "metadata": {},
   "outputs": [
    {
     "data": {
      "text/plain": [
       "{3, 4, 6}"
      ]
     },
     "execution_count": 31,
     "metadata": {},
     "output_type": "execute_result"
    }
   ],
   "source": [
    "colour=['yellow','red','blue','pink']\n",
    "{len(i) for i in colour}"
   ]
  },
  {
   "cell_type": "code",
   "execution_count": 32,
   "id": "05d20e9a-aeaa-4d9e-b097-411fa38ca6ad",
   "metadata": {},
   "outputs": [
    {
     "data": {
      "text/plain": [
       "{0: 'Departed', 1: 'Titanic', 2: 'Aviator', 3: 'Avatar'}"
      ]
     },
     "execution_count": 32,
     "metadata": {},
     "output_type": "execute_result"
    }
   ],
   "source": [
    "#Enumerate\n",
    "movies={'Departed':9,'Titanic':9.2,'Aviator':8.7,'Avatar':9.1}\n",
    "{movie:rating for movie,rating in enumerate(movies)}"
   ]
  },
  {
   "cell_type": "code",
   "execution_count": 33,
   "id": "57ed3387-f0b0-4228-b2d1-fad8ed852853",
   "metadata": {},
   "outputs": [],
   "source": [
    "#Break Statement"
   ]
  },
  {
   "cell_type": "code",
   "execution_count": 34,
   "id": "86cf4487-7250-4b64-8821-0a9cddd94af5",
   "metadata": {},
   "outputs": [],
   "source": [
    "numbers=[1,2,3,4]\n",
    "for num in numbers:\n",
    "    if num==4:\n",
    "        break\n",
    "        print(num)"
   ]
  },
  {
   "cell_type": "code",
   "execution_count": 35,
   "id": "49ace4f3-7e13-489c-a059-c66a7ffa2bc7",
   "metadata": {},
   "outputs": [],
   "source": [
    "#Continue Statement"
   ]
  },
  {
   "cell_type": "code",
   "execution_count": 36,
   "id": "8a037f43-b4eb-41da-94dc-e4b05af4320b",
   "metadata": {},
   "outputs": [
    {
     "name": "stdout",
     "output_type": "stream",
     "text": [
      "1\n",
      "3\n",
      "5\n"
     ]
    }
   ],
   "source": [
    "#print odd numbers present in a list\n",
    "numbers=[1,2,3,4,5]\n",
    "for num in numbers:\n",
    "    if num%2==0:\n",
    "        continue\n",
    "    print(num)"
   ]
  },
  {
   "cell_type": "code",
   "execution_count": 37,
   "id": "8e94e84c-0cb6-4263-99da-4b792f1a4b6c",
   "metadata": {},
   "outputs": [],
   "source": [
    "#For loop with else"
   ]
  },
  {
   "cell_type": "code",
   "execution_count": 38,
   "id": "39b68594-9882-43a2-881a-43738da76008",
   "metadata": {},
   "outputs": [
    {
     "name": "stdout",
     "output_type": "stream",
     "text": [
      "1\n",
      "2\n",
      "3\n",
      "4\n",
      "no item left in the list\n"
     ]
    }
   ],
   "source": [
    "numbers=[1,2,3,4]\n",
    "for item in numbers:\n",
    "    print(item)\n",
    "else:\n",
    "    print('no item left in the list')"
   ]
  },
  {
   "cell_type": "code",
   "execution_count": 39,
   "id": "14a00b2e-a3b4-494c-bf16-3bd5cad68847",
   "metadata": {},
   "outputs": [
    {
     "name": "stdout",
     "output_type": "stream",
     "text": [
      "12\n",
      "4\n",
      "8\n"
     ]
    }
   ],
   "source": [
    "demo=[12,1,3,1,4,1,8]\n",
    "for item in demo:\n",
    "    if item%2==0:\n",
    "        print(item)"
   ]
  },
  {
   "cell_type": "code",
   "execution_count": 40,
   "id": "bd75869d-43c0-47d8-94a7-307990290cd3",
   "metadata": {},
   "outputs": [
    {
     "name": "stdout",
     "output_type": "stream",
     "text": [
      "16\n"
     ]
    }
   ],
   "source": [
    "lst=[1,16,10,2,7]\n",
    "for item in lst:\n",
    "    if item%2==0:\n",
    "        print(item)\n",
    "        break"
   ]
  },
  {
   "cell_type": "code",
   "execution_count": 41,
   "id": "d108488b-99c7-4a66-96e7-a7441be06406",
   "metadata": {},
   "outputs": [],
   "source": [
    "#While loop"
   ]
  },
  {
   "cell_type": "code",
   "execution_count": 42,
   "id": "7fb278a5-7cf5-44ad-94c7-3127feb05edd",
   "metadata": {},
   "outputs": [
    {
     "name": "stdout",
     "output_type": "stream",
     "text": [
      "1\n",
      "2\n",
      "3\n",
      "4\n",
      "5\n",
      "6\n"
     ]
    }
   ],
   "source": [
    "x=0\n",
    "while x<6:\n",
    "    x=x+1\n",
    "    print(x)"
   ]
  },
  {
   "cell_type": "code",
   "execution_count": 43,
   "id": "151ac58a-f294-4e09-841b-a544af5e31ae",
   "metadata": {},
   "outputs": [
    {
     "name": "stdout",
     "output_type": "stream",
     "text": [
      "x is 0\n",
      "x is 1\n",
      "x is 2\n",
      "x is 3\n",
      "x is 4\n",
      "x is 5\n",
      "x is 6\n",
      "x is 7\n"
     ]
    }
   ],
   "source": [
    "x=0\n",
    "while x<8:\n",
    "    print(\"x is\",x)\n",
    "    x=x+1"
   ]
  },
  {
   "cell_type": "code",
   "execution_count": 44,
   "id": "b0528e01-9ca7-47fe-a477-df3b223d1ffb",
   "metadata": {},
   "outputs": [
    {
     "name": "stdout",
     "output_type": "stream",
     "text": [
      "x is 10\n",
      "x is 9\n",
      "x is 8\n",
      "x is 7\n",
      "x is 6\n",
      "x is 5\n",
      "x is 4\n",
      "x is 3\n",
      "x is 2\n"
     ]
    }
   ],
   "source": [
    "x=10\n",
    "while x>1:\n",
    "    print(\"x is {}\".format(x))\n",
    "    x-=1"
   ]
  },
  {
   "cell_type": "code",
   "execution_count": 45,
   "id": "f41f9286-da43-4c78-8686-1157c909f620",
   "metadata": {},
   "outputs": [
    {
     "name": "stdout",
     "output_type": "stream",
     "text": [
      "53\n"
     ]
    }
   ],
   "source": [
    "i=100\n",
    "s=50\n",
    "while i<=300:\n",
    "    s=s+1\n",
    "    i=i+100\n",
    "print(s)"
   ]
  },
  {
   "cell_type": "code",
   "execution_count": 46,
   "id": "2d1ca950-0716-4aec-850c-ae2cb99debfb",
   "metadata": {},
   "outputs": [
    {
     "name": "stdout",
     "output_type": "stream",
     "text": [
      "4\n"
     ]
    }
   ],
   "source": [
    "i=0\n",
    "s=0\n",
    "while(i<=6):\n",
    "    s=s+1\n",
    "    i+=2\n",
    "print(s)"
   ]
  },
  {
   "cell_type": "code",
   "execution_count": 47,
   "id": "0dfbb5c2-9cdf-4e11-8ec9-6657c00c407b",
   "metadata": {},
   "outputs": [
    {
     "name": "stdout",
     "output_type": "stream",
     "text": [
      "0\n",
      "7\n"
     ]
    }
   ],
   "source": [
    "x=0\n",
    "print(x)\n",
    "while x<7:\n",
    "    x=x+1\n",
    "print(x)"
   ]
  },
  {
   "cell_type": "code",
   "execution_count": 48,
   "id": "e6f534d7-f892-4057-a349-00c48e1cb93b",
   "metadata": {},
   "outputs": [
    {
     "name": "stdout",
     "output_type": "stream",
     "text": [
      "7\n"
     ]
    }
   ],
   "source": [
    "i=0\n",
    "s=0\n",
    "while x<5:\n",
    "    x=x+1\n",
    "print(x)"
   ]
  },
  {
   "cell_type": "code",
   "execution_count": 49,
   "id": "0d52182d-d38c-4e7e-b5aa-0088e3d71cdd",
   "metadata": {},
   "outputs": [
    {
     "name": "stdout",
     "output_type": "stream",
     "text": [
      "0 1 2 3 4 5 6 7 8 9 10 11 12 13 14 15 16 17 18 19 20 21 22 23 24 25 26 27 28 29 30 31 32 33 34 35 36 37 38 39 40 41 42 43 44 45 46 47 48 49 50 51 52 53 54 55 56 57 58 59 60 61 62 63 64 65 66 67 68 69 70 71 72 73 74 75 76 77 78 79 80 81 82 83 84 85 86 87 88 89 90 91 92 93 94 95 96 97 98 99 100 "
     ]
    }
   ],
   "source": [
    "#program to print 0 to 100(inclusive) whole numbers\n",
    "i=0\n",
    "while(i<=100):\n",
    "    print(i,end=' ')\n",
    "    i=i+1"
   ]
  },
  {
   "cell_type": "code",
   "execution_count": 50,
   "id": "287b64fd-3d15-4b61-94b5-e2f23c1e17e9",
   "metadata": {},
   "outputs": [
    {
     "name": "stdin",
     "output_type": "stream",
     "text": [
      "enter x: 6\n"
     ]
    },
    {
     "name": "stdout",
     "output_type": "stream",
     "text": [
      "the sum is 21\n"
     ]
    }
   ],
   "source": [
    "#program to add n natural numbers\n",
    "x=int(input('enter x:'))\n",
    "sum=0\n",
    "i=1\n",
    "while i<=x:\n",
    "    sum=sum+i\n",
    "    i=i+1\n",
    "print('the sum is',sum)"
   ]
  },
  {
   "cell_type": "code",
   "execution_count": 51,
   "id": "24f95727-2d8e-4576-83a3-ab06135bf96a",
   "metadata": {},
   "outputs": [
    {
     "name": "stdout",
     "output_type": "stream",
     "text": [
      "product is:15\n"
     ]
    }
   ],
   "source": [
    "#product of all numbers present in a list\n",
    "lst=[5,10,3,1]\n",
    "product=1\n",
    "index=0\n",
    "while index<len(lst):\n",
    "    product*=lst[index]\n",
    "    index+=2\n",
    "print('product is:{}'.format(product))"
   ]
  },
  {
   "cell_type": "code",
   "execution_count": 52,
   "id": "58e9a6d7-7bdb-4136-8813-1c8c34924313",
   "metadata": {},
   "outputs": [
    {
     "name": "stdout",
     "output_type": "stream",
     "text": [
      "x is 8\n",
      "x is 7\n",
      "x is 6\n",
      "x is 5\n",
      "x is 4\n",
      "x is 3\n",
      "x is 2\n",
      "x is no longer greater than 1\n"
     ]
    }
   ],
   "source": [
    "#While loop with else\n",
    "x=8\n",
    "while x>1:\n",
    "    print('x is {}'.format(x))\n",
    "    x-=1\n",
    "    if x==9:\n",
    "        break\n",
    "else:\n",
    "    print('x is no longer greater than 1')"
   ]
  },
  {
   "cell_type": "code",
   "execution_count": 53,
   "id": "6bbea913-4ed8-4443-ae7c-5a0182af2186",
   "metadata": {},
   "outputs": [
    {
     "name": "stdout",
     "output_type": "stream",
     "text": [
      "x is 0\n",
      "x is 1\n",
      "x is 2\n",
      "x is 3\n",
      "x is 4\n",
      "x is 5\n",
      "x is 6\n",
      "x is 7\n",
      "x is no longer < 8\n"
     ]
    }
   ],
   "source": [
    "x=0\n",
    "while x<8:\n",
    "    print(\"x is {}\".format(x))\n",
    "    x+=1\n",
    "else:\n",
    "    print(\"x is no longer < 8\")"
   ]
  },
  {
   "cell_type": "code",
   "execution_count": 54,
   "id": "c99de8e5-ce4c-4bb3-a3ae-92ec147e08c1",
   "metadata": {},
   "outputs": [
    {
     "name": "stdout",
     "output_type": "stream",
     "text": [
      "1\n",
      "2\n",
      "3\n",
      "4\n",
      "5\n",
      "no item left in the list\n"
     ]
    }
   ],
   "source": [
    "numbers=[1,2,3,4,5]\n",
    "index=0\n",
    "while index<len(numbers):\n",
    "    print(numbers[index])\n",
    "    index+=1\n",
    "else:\n",
    "    print(\"no item left in the list\")\n"
   ]
  },
  {
   "cell_type": "code",
   "execution_count": 55,
   "id": "2db0a44d-c1e1-4d8f-8832-e55ad77f587c",
   "metadata": {},
   "outputs": [],
   "source": [
    "#Factorial"
   ]
  },
  {
   "cell_type": "code",
   "execution_count": 56,
   "id": "d6ad3d56-6025-4b36-ad06-d3d385a925e7",
   "metadata": {},
   "outputs": [
    {
     "name": "stdin",
     "output_type": "stream",
     "text": [
      " 6\n"
     ]
    },
    {
     "name": "stdout",
     "output_type": "stream",
     "text": [
      "720\n"
     ]
    }
   ],
   "source": [
    "a=int(input())\n",
    "fact=1\n",
    "for i in range(a,0,-1):\n",
    "    fact=fact*i\n",
    "print(fact)"
   ]
  },
  {
   "cell_type": "code",
   "execution_count": 58,
   "id": "0b3acb71-2dee-4e3f-aad4-a540d50d251f",
   "metadata": {},
   "outputs": [
    {
     "name": "stdin",
     "output_type": "stream",
     "text": [
      " 5\n"
     ]
    },
    {
     "name": "stdout",
     "output_type": "stream",
     "text": [
      "after 1 iteration the factorial value is: 1\n",
      "after 2 iteration the factorial value is: 2\n",
      "after 3 iteration the factorial value is: 6\n",
      "after 4 iteration the factorial value is: 24\n",
      "after 5 iteration the factorial value is: 120\n"
     ]
    }
   ],
   "source": [
    "a=int(input())\n",
    "fact=1\n",
    "for i in range(1,a+1):\n",
    "    fact=fact*i\n",
    "    print(\"after\",i,\"iteration the factorial value is:\",fact)"
   ]
  }
 ],
 "metadata": {
  "kernelspec": {
   "display_name": "Python 3 (ipykernel)",
   "language": "python",
   "name": "python3"
  },
  "language_info": {
   "codemirror_mode": {
    "name": "ipython",
    "version": 3
   },
   "file_extension": ".py",
   "mimetype": "text/x-python",
   "name": "python",
   "nbconvert_exporter": "python",
   "pygments_lexer": "ipython3",
   "version": "3.11.7"
  }
 },
 "nbformat": 4,
 "nbformat_minor": 5
}
