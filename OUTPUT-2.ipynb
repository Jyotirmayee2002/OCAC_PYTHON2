{
 "cells": [
  {
   "cell_type": "code",
   "execution_count": 1,
   "id": "c0d465f8-05f7-4887-b392-8ad94dcb2fc1",
   "metadata": {},
   "outputs": [
    {
     "name": "stdin",
     "output_type": "stream",
     "text": [
      "enter the value of a:  12\n",
      "enter the value of b:  6\n"
     ]
    },
    {
     "name": "stdout",
     "output_type": "stream",
     "text": [
      "ADD: 18\n",
      "SUB: 6\n",
      "MUL: 72\n",
      "DIV: 2.0\n",
      "MOD: 0\n"
     ]
    }
   ],
   "source": [
    "a=int(input(\"enter the value of a: \"))\n",
    "b=int(input(\"enter the value of b: \"))\n",
    "add=a+b\n",
    "sub=a-b\n",
    "mul=a*b\n",
    "div=a/b\n",
    "mod=a%b\n",
    "print(\"ADD:\",add)\n",
    "print(\"SUB:\",sub)\n",
    "print(\"MUL:\",mul)\n",
    "print(\"DIV:\",div)\n",
    "print(\"MOD:\",mod)"
   ]
  },
  {
   "cell_type": "code",
   "execution_count": 3,
   "id": "237b2480-27d6-468b-a7ea-bf85308608ec",
   "metadata": {},
   "outputs": [
    {
     "name": "stdout",
     "output_type": "stream",
     "text": [
      "Sum: 18, Diff: 6,Mul: 72,Div: 2.0,Mod:0\n"
     ]
    }
   ],
   "source": [
    "print(\"Sum: {}, Diff: {},Mul: {},Div: {},Mod:{}\".format(add, sub, mul, div,mod))"
   ]
  },
  {
   "cell_type": "code",
   "execution_count": 5,
   "id": "3f250be0-c387-4462-b8df-a71792ca2748",
   "metadata": {},
   "outputs": [
    {
     "name": "stdout",
     "output_type": "stream",
     "text": [
      "sum  | diff | mul  |  div\n",
      "18   |  6   |  72  |  2.0\n"
     ]
    }
   ],
   "source": [
    "print('{0: <4} | {1:^4} | {2:^4} | {3:>4}'.format('sum', 'diff', 'mul', 'div', 'mod'))\n",
    "print('{0: <4} | {1:^4} | {2:^4} | {3:>4}'.format(add, sub, mul, div, mod))"
   ]
  },
  {
   "cell_type": "code",
   "execution_count": 6,
   "id": "e09947d1-2384-425a-8e08-855c4001c31e",
   "metadata": {},
   "outputs": [
    {
     "name": "stdout",
     "output_type": "stream",
     "text": [
      "Welcome to python !\n"
     ]
    }
   ],
   "source": [
    "a=\"python\"\n",
    "print(f\"Welcome to {a} !\")"
   ]
  },
  {
   "cell_type": "code",
   "execution_count": 7,
   "id": "629d090a-7e5e-445c-a201-1be11062cb0f",
   "metadata": {},
   "outputs": [
    {
     "name": "stdin",
     "output_type": "stream",
     "text": [
      "enter a company -  Infosys\n",
      "enter the number of employees -  1000\n"
     ]
    },
    {
     "name": "stdout",
     "output_type": "stream",
     "text": [
      "the name of the company is Infosys  and the number of employees are 1000\n"
     ]
    }
   ],
   "source": [
    "a=input(\"enter a company - \")\n",
    "b=input(\"enter the number of employees - \")\n",
    "print(\"the name of the company is\",a,\" and the number of employees are\",b)"
   ]
  },
  {
   "cell_type": "code",
   "execution_count": 8,
   "id": "66cc19bc-f9c8-49aa-a143-2461dfc09b03",
   "metadata": {},
   "outputs": [
    {
     "name": "stdout",
     "output_type": "stream",
     "text": [
      "['jyotirmayeebaisakh', 'gmail.com']\n"
     ]
    }
   ],
   "source": [
    "demo=\"jyotirmayeebaisakh@gmail.com\"\n",
    "x=demo.split(\"@\")\n",
    "print(x)"
   ]
  },
  {
   "cell_type": "code",
   "execution_count": 9,
   "id": "2ea069e9-bc30-4c0e-8d6a-fc17e74c14b1",
   "metadata": {},
   "outputs": [
    {
     "name": "stdout",
     "output_type": "stream",
     "text": [
      "['monalisadas123', 'gmail.com'] ['madhusmitapanda45', 'gmail.com'] ['nayaktanisha', 'gmail.com']\n"
     ]
    }
   ],
   "source": [
    "txt1=\"monalisadas123@gmail.com\"\n",
    "x=txt1.split(\"@\")\n",
    "txt2=\"madhusmitapanda45@gmail.com\"\n",
    "y=txt2.split(\"@\")\n",
    "txt3=\"nayaktanisha@gmail.com\"\n",
    "z=txt3.split(\"@\")\n",
    "print(x,y,z)"
   ]
  }
 ],
 "metadata": {
  "kernelspec": {
   "display_name": "Python 3 (ipykernel)",
   "language": "python",
   "name": "python3"
  },
  "language_info": {
   "codemirror_mode": {
    "name": "ipython",
    "version": 3
   },
   "file_extension": ".py",
   "mimetype": "text/x-python",
   "name": "python",
   "nbconvert_exporter": "python",
   "pygments_lexer": "ipython3",
   "version": "3.11.7"
  }
 },
 "nbformat": 4,
 "nbformat_minor": 5
}
