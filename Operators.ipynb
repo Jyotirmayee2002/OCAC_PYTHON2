{
 "cells": [
  {
   "cell_type": "code",
   "execution_count": 1,
   "id": "b469ed2c-8e7e-44a5-9b54-dd7ba961b19b",
   "metadata": {},
   "outputs": [],
   "source": [
    "#Arithmetic Operators"
   ]
  },
  {
   "cell_type": "code",
   "execution_count": 2,
   "id": "5915016f-aed8-4ab5-b783-ea0ebc39e219",
   "metadata": {},
   "outputs": [
    {
     "data": {
      "text/plain": [
       "9"
      ]
     },
     "execution_count": 2,
     "metadata": {},
     "output_type": "execute_result"
    }
   ],
   "source": [
    "#Addition\n",
    "3+5+1"
   ]
  },
  {
   "cell_type": "code",
   "execution_count": 3,
   "id": "fe484918-1285-4bfe-bc0c-6ad7150a6f83",
   "metadata": {},
   "outputs": [
    {
     "data": {
      "text/plain": [
       "28"
      ]
     },
     "execution_count": 3,
     "metadata": {},
     "output_type": "execute_result"
    }
   ],
   "source": [
    "#Subtraction\n",
    "40-12"
   ]
  },
  {
   "cell_type": "code",
   "execution_count": 4,
   "id": "ecb2884f-dbd8-4cfb-8cb4-61e878edbb0c",
   "metadata": {},
   "outputs": [
    {
     "data": {
      "text/plain": [
       "12"
      ]
     },
     "execution_count": 4,
     "metadata": {},
     "output_type": "execute_result"
    }
   ],
   "source": [
    "#Multiplication\n",
    "3*4"
   ]
  },
  {
   "cell_type": "code",
   "execution_count": 5,
   "id": "21f08988-b612-49ab-8aaf-ea0bf252bd67",
   "metadata": {},
   "outputs": [
    {
     "data": {
      "text/plain": [
       "5.0"
      ]
     },
     "execution_count": 5,
     "metadata": {},
     "output_type": "execute_result"
    }
   ],
   "source": [
    "#Division\n",
    "10/2"
   ]
  },
  {
   "cell_type": "code",
   "execution_count": 6,
   "id": "f8d192cc-a29e-47c1-8ded-f32f013c1179",
   "metadata": {},
   "outputs": [
    {
     "data": {
      "text/plain": [
       "8"
      ]
     },
     "execution_count": 6,
     "metadata": {},
     "output_type": "execute_result"
    }
   ],
   "source": [
    "#power\n",
    "2**3"
   ]
  },
  {
   "cell_type": "code",
   "execution_count": 7,
   "id": "e1deab27-bfad-44af-a02c-86a3a36118fe",
   "metadata": {},
   "outputs": [
    {
     "data": {
      "text/plain": [
       "3"
      ]
     },
     "execution_count": 7,
     "metadata": {},
     "output_type": "execute_result"
    }
   ],
   "source": [
    "#floor division\n",
    "10//3"
   ]
  },
  {
   "cell_type": "code",
   "execution_count": 8,
   "id": "aa791547-8a09-4951-8c34-a2c8596285e4",
   "metadata": {},
   "outputs": [
    {
     "data": {
      "text/plain": [
       "2"
      ]
     },
     "execution_count": 8,
     "metadata": {},
     "output_type": "execute_result"
    }
   ],
   "source": [
    "#modulo --> remainder\n",
    "10%4"
   ]
  },
  {
   "cell_type": "code",
   "execution_count": 9,
   "id": "be509e0d-e331-4bc6-b9de-7f3928abe016",
   "metadata": {},
   "outputs": [
    {
     "data": {
      "text/plain": [
       "35"
      ]
     },
     "execution_count": 9,
     "metadata": {},
     "output_type": "execute_result"
    }
   ],
   "source": [
    "#paranthesis\n",
    "(5+2) * (7-2)"
   ]
  },
  {
   "cell_type": "code",
   "execution_count": 10,
   "id": "cab647db-a42e-4ee1-b399-677a97db3fb7",
   "metadata": {},
   "outputs": [
    {
     "name": "stdout",
     "output_type": "stream",
     "text": [
      "62\n",
      "38\n",
      "600\n",
      "4.166666666666667\n",
      "4\n"
     ]
    }
   ],
   "source": [
    "#Mathematical operation with variable assignment\n",
    "a=50\n",
    "b=12\n",
    "print(a+b)\n",
    "print(a-b)\n",
    "print(a*b)\n",
    "print(a/b)\n",
    "print(a//b)"
   ]
  },
  {
   "cell_type": "code",
   "execution_count": 11,
   "id": "3be474da-a496-499d-b3a2-1d85a3f648ab",
   "metadata": {},
   "outputs": [],
   "source": [
    "#Arithmetic operators precedence\n",
    "#Paranthesis\n",
    "#exponents\n",
    "#floor division\n",
    "#multiplication\n",
    "#division\n",
    "#modulus\n",
    "#addition\n",
    "#subtraction"
   ]
  },
  {
   "cell_type": "code",
   "execution_count": 12,
   "id": "083e7c1a-52a2-4a95-862f-da5c2fffd3c7",
   "metadata": {},
   "outputs": [
    {
     "data": {
      "text/plain": [
       "50.0"
      ]
     },
     "execution_count": 12,
     "metadata": {},
     "output_type": "execute_result"
    }
   ],
   "source": [
    "a-b*a/b+a"
   ]
  },
  {
   "cell_type": "code",
   "execution_count": 13,
   "id": "4d862d1f-bb0c-4e18-a0c6-7484fccb00b6",
   "metadata": {},
   "outputs": [
    {
     "data": {
      "text/plain": [
       "9"
      ]
     },
     "execution_count": 13,
     "metadata": {},
     "output_type": "execute_result"
    }
   ],
   "source": [
    "8//6%5+2**3"
   ]
  },
  {
   "cell_type": "code",
   "execution_count": 14,
   "id": "5d59d9a1-b8a9-4909-b50a-b68bfcc15d9b",
   "metadata": {},
   "outputs": [
    {
     "data": {
      "text/plain": [
       "-67.8"
      ]
     },
     "execution_count": 14,
     "metadata": {},
     "output_type": "execute_result"
    }
   ],
   "source": [
    "8+34-(61/5)*9"
   ]
  },
  {
   "cell_type": "code",
   "execution_count": 15,
   "id": "7fda5225-a7b3-4a8f-85ba-580995af08db",
   "metadata": {},
   "outputs": [],
   "source": [
    "#Comparison/Relational operators"
   ]
  },
  {
   "cell_type": "code",
   "execution_count": 16,
   "id": "7bd395e2-89e5-49e1-b155-5ebbfcb58d61",
   "metadata": {},
   "outputs": [
    {
     "data": {
      "text/plain": [
       "True"
      ]
     },
     "execution_count": 16,
     "metadata": {},
     "output_type": "execute_result"
    }
   ],
   "source": [
    "34<78"
   ]
  },
  {
   "cell_type": "code",
   "execution_count": 17,
   "id": "2a34512f-cea6-4767-85ca-b29ce213e6fe",
   "metadata": {},
   "outputs": [
    {
     "data": {
      "text/plain": [
       "False"
      ]
     },
     "execution_count": 17,
     "metadata": {},
     "output_type": "execute_result"
    }
   ],
   "source": [
    "50<12"
   ]
  },
  {
   "cell_type": "code",
   "execution_count": 18,
   "id": "5fe31449-a783-4553-a724-2f323447268a",
   "metadata": {},
   "outputs": [
    {
     "data": {
      "text/plain": [
       "True"
      ]
     },
     "execution_count": 18,
     "metadata": {},
     "output_type": "execute_result"
    }
   ],
   "source": [
    "3*3 < 7*3"
   ]
  },
  {
   "cell_type": "code",
   "execution_count": 19,
   "id": "d9f3ecef-e051-4aa1-9467-e243c84cb645",
   "metadata": {},
   "outputs": [
    {
     "data": {
      "text/plain": [
       "False"
      ]
     },
     "execution_count": 19,
     "metadata": {},
     "output_type": "execute_result"
    }
   ],
   "source": [
    "23 == -23"
   ]
  },
  {
   "cell_type": "code",
   "execution_count": 20,
   "id": "4e3f112e-59a9-4e3b-bfdd-31411d62812b",
   "metadata": {},
   "outputs": [
    {
     "data": {
      "text/plain": [
       "True"
      ]
     },
     "execution_count": 20,
     "metadata": {},
     "output_type": "execute_result"
    }
   ],
   "source": [
    "23 == 23"
   ]
  },
  {
   "cell_type": "code",
   "execution_count": 21,
   "id": "ad5ea564-8645-4fdd-8e7d-5efc7ec13921",
   "metadata": {},
   "outputs": [
    {
     "data": {
      "text/plain": [
       "True"
      ]
     },
     "execution_count": 21,
     "metadata": {},
     "output_type": "execute_result"
    }
   ],
   "source": [
    "84!=12"
   ]
  },
  {
   "cell_type": "code",
   "execution_count": 22,
   "id": "81213c3d-1a53-4ba9-9643-419f0cedac73",
   "metadata": {},
   "outputs": [
    {
     "data": {
      "text/plain": [
       "False"
      ]
     },
     "execution_count": 22,
     "metadata": {},
     "output_type": "execute_result"
    }
   ],
   "source": [
    "2 >= 3"
   ]
  },
  {
   "cell_type": "code",
   "execution_count": 23,
   "id": "26ef6fc1-729f-4a8a-bec8-dbae9c0a44f8",
   "metadata": {},
   "outputs": [
    {
     "data": {
      "text/plain": [
       "True"
      ]
     },
     "execution_count": 23,
     "metadata": {},
     "output_type": "execute_result"
    }
   ],
   "source": [
    "40 <= 200"
   ]
  },
  {
   "cell_type": "code",
   "execution_count": 24,
   "id": "de7c48f4-fb64-42a6-9f45-a5aaaf5cee90",
   "metadata": {},
   "outputs": [
    {
     "data": {
      "text/plain": [
       "True"
      ]
     },
     "execution_count": 24,
     "metadata": {},
     "output_type": "execute_result"
    }
   ],
   "source": [
    "45 == 45.0"
   ]
  },
  {
   "cell_type": "code",
   "execution_count": 25,
   "id": "e2e20f0f-3eb6-46fa-b2c4-c4f49637aafb",
   "metadata": {},
   "outputs": [
    {
     "data": {
      "text/plain": [
       "False"
      ]
     },
     "execution_count": 25,
     "metadata": {},
     "output_type": "execute_result"
    }
   ],
   "source": [
    "'hi' == 'HI'"
   ]
  },
  {
   "cell_type": "code",
   "execution_count": 26,
   "id": "31997ef8-f618-43a2-aff9-7a338d491d9b",
   "metadata": {},
   "outputs": [],
   "source": [
    "#Bitwise Operators"
   ]
  },
  {
   "cell_type": "code",
   "execution_count": 27,
   "id": "a2347ea9-35aa-44cf-be03-308087fac245",
   "metadata": {},
   "outputs": [
    {
     "data": {
      "text/plain": [
       "'0b1100100'"
      ]
     },
     "execution_count": 27,
     "metadata": {},
     "output_type": "execute_result"
    }
   ],
   "source": [
    "bin(100)"
   ]
  },
  {
   "cell_type": "code",
   "execution_count": 28,
   "id": "75a450c1-f65e-40fa-a060-509679e08c83",
   "metadata": {},
   "outputs": [
    {
     "data": {
      "text/plain": [
       "37"
      ]
     },
     "execution_count": 28,
     "metadata": {},
     "output_type": "execute_result"
    }
   ],
   "source": [
    "0b100101"
   ]
  },
  {
   "cell_type": "code",
   "execution_count": 31,
   "id": "4afcdf21-7463-45d0-b25e-2d3d773c9fb6",
   "metadata": {},
   "outputs": [
    {
     "name": "stdout",
     "output_type": "stream",
     "text": [
      "7\n"
     ]
    }
   ],
   "source": [
    "#Bitwise OR\n",
    "a=5\n",
    "b=6\n",
    "print(a|b)"
   ]
  },
  {
   "cell_type": "code",
   "execution_count": 32,
   "id": "fa2d8796-d21b-46e8-8bb1-625798b00e29",
   "metadata": {},
   "outputs": [
    {
     "name": "stdout",
     "output_type": "stream",
     "text": [
      "4\n"
     ]
    }
   ],
   "source": [
    "#Bitwise AND\n",
    "a=5\n",
    "b=6\n",
    "print(a&b)"
   ]
  },
  {
   "cell_type": "code",
   "execution_count": 33,
   "id": "1d6fb00c-3f08-4538-ad0d-8977b9f0f3f1",
   "metadata": {},
   "outputs": [],
   "source": [
    "#Logical operators"
   ]
  },
  {
   "cell_type": "code",
   "execution_count": 36,
   "id": "5bfc8d72-3d02-4b5e-9a68-90b00c057f60",
   "metadata": {},
   "outputs": [
    {
     "data": {
      "text/plain": [
       "True"
      ]
     },
     "execution_count": 36,
     "metadata": {},
     "output_type": "execute_result"
    }
   ],
   "source": [
    "(3<5) or (7>12)"
   ]
  },
  {
   "cell_type": "code",
   "execution_count": 35,
   "id": "f060d472-988f-46fc-87a5-626774a60dbd",
   "metadata": {},
   "outputs": [
    {
     "data": {
      "text/plain": [
       "True"
      ]
     },
     "execution_count": 35,
     "metadata": {},
     "output_type": "execute_result"
    }
   ],
   "source": [
    "(3<5) and (7>3)"
   ]
  },
  {
   "cell_type": "code",
   "execution_count": 37,
   "id": "8652c87e-83ed-4e22-9b22-759c3de748c7",
   "metadata": {},
   "outputs": [
    {
     "data": {
      "text/plain": [
       "False"
      ]
     },
     "execution_count": 37,
     "metadata": {},
     "output_type": "execute_result"
    }
   ],
   "source": [
    "not True"
   ]
  },
  {
   "cell_type": "code",
   "execution_count": 38,
   "id": "8156e6f3-7b29-41a2-9741-22a39914307a",
   "metadata": {},
   "outputs": [
    {
     "data": {
      "text/plain": [
       "True"
      ]
     },
     "execution_count": 38,
     "metadata": {},
     "output_type": "execute_result"
    }
   ],
   "source": [
    "not False"
   ]
  },
  {
   "cell_type": "code",
   "execution_count": 39,
   "id": "ee232ef4-7893-4a87-bfda-9b505f93412a",
   "metadata": {},
   "outputs": [
    {
     "data": {
      "text/plain": [
       "True"
      ]
     },
     "execution_count": 39,
     "metadata": {},
     "output_type": "execute_result"
    }
   ],
   "source": [
    "my_str='jyoti'\n",
    "my_str.isalpha() or str_example.isnum()"
   ]
  },
  {
   "cell_type": "code",
   "execution_count": 40,
   "id": "0724740b-e1e1-4b99-b110-935f746477c0",
   "metadata": {},
   "outputs": [
    {
     "data": {
      "text/plain": [
       "True"
      ]
     },
     "execution_count": 40,
     "metadata": {},
     "output_type": "execute_result"
    }
   ],
   "source": [
    "(23==23) and (19==18) or (4==4)"
   ]
  },
  {
   "cell_type": "code",
   "execution_count": 41,
   "id": "a41385da-cadb-4ebe-ae85-a7e21a7b98c0",
   "metadata": {},
   "outputs": [],
   "source": [
    "#Assignment operators"
   ]
  },
  {
   "cell_type": "code",
   "execution_count": 42,
   "id": "9a1bc7e6-7171-47dc-89bd-2fa63ddeee65",
   "metadata": {},
   "outputs": [
    {
     "data": {
      "text/plain": [
       "25"
      ]
     },
     "execution_count": 42,
     "metadata": {},
     "output_type": "execute_result"
    }
   ],
   "source": [
    "a=25\n",
    "a"
   ]
  },
  {
   "cell_type": "code",
   "execution_count": 43,
   "id": "d24f2d76-25b5-4ffa-afec-9519b01b5e47",
   "metadata": {},
   "outputs": [
    {
     "name": "stdout",
     "output_type": "stream",
     "text": [
      "26\n"
     ]
    }
   ],
   "source": [
    "a=a+1\n",
    "print(a)"
   ]
  },
  {
   "cell_type": "code",
   "execution_count": 45,
   "id": "913a95ba-2091-45c5-9a1b-a7880e41764c",
   "metadata": {},
   "outputs": [
    {
     "data": {
      "text/plain": [
       "28"
      ]
     },
     "execution_count": 45,
     "metadata": {},
     "output_type": "execute_result"
    }
   ],
   "source": [
    "a+=1\n",
    "a"
   ]
  },
  {
   "cell_type": "code",
   "execution_count": 46,
   "id": "91f80f25-b8be-4382-afb9-667c3822019c",
   "metadata": {},
   "outputs": [
    {
     "data": {
      "text/plain": [
       "23"
      ]
     },
     "execution_count": 46,
     "metadata": {},
     "output_type": "execute_result"
    }
   ],
   "source": [
    "a-=5\n",
    "a"
   ]
  },
  {
   "cell_type": "code",
   "execution_count": 48,
   "id": "8c31c722-bcca-4aad-8211-76b8fc5e7162",
   "metadata": {},
   "outputs": [
    {
     "data": {
      "text/plain": [
       "-2.0"
      ]
     },
     "execution_count": 48,
     "metadata": {},
     "output_type": "execute_result"
    }
   ],
   "source": [
    "a=12\n",
    "b=6\n",
    "a /- b      #divide AND"
   ]
  },
  {
   "cell_type": "code",
   "execution_count": 50,
   "id": "fb69748b-4437-46e2-9d06-ee1a5e1e7e3c",
   "metadata": {},
   "outputs": [],
   "source": [
    "#Identity operators"
   ]
  },
  {
   "cell_type": "code",
   "execution_count": 51,
   "id": "b3f6d192-77ac-4a75-969b-c4438c8f9323",
   "metadata": {},
   "outputs": [
    {
     "name": "stdout",
     "output_type": "stream",
     "text": [
      "True\n"
     ]
    }
   ],
   "source": [
    "a=10\n",
    "b=10\n",
    "print(a is b)"
   ]
  },
  {
   "cell_type": "code",
   "execution_count": 54,
   "id": "d23bcee0-07d7-40ae-85a9-67813ab84816",
   "metadata": {},
   "outputs": [
    {
     "name": "stdout",
     "output_type": "stream",
     "text": [
      "False\n"
     ]
    }
   ],
   "source": [
    "s1=\"jyoti\"\n",
    "s2=\"Jyoti\"\n",
    "print(s1 is s2)"
   ]
  },
  {
   "cell_type": "code",
   "execution_count": 55,
   "id": "766be407-f52f-43da-ae10-226007949adf",
   "metadata": {},
   "outputs": [
    {
     "data": {
      "text/plain": [
       "True"
      ]
     },
     "execution_count": 55,
     "metadata": {},
     "output_type": "execute_result"
    }
   ],
   "source": [
    "a=8\n",
    "b=2\n",
    "a is not b"
   ]
  },
  {
   "cell_type": "code",
   "execution_count": 56,
   "id": "555af976-d31f-45b7-ad57-2f964a386b20",
   "metadata": {},
   "outputs": [
    {
     "name": "stdout",
     "output_type": "stream",
     "text": [
      "True\n"
     ]
    }
   ],
   "source": [
    "print(a is not b)"
   ]
  },
  {
   "cell_type": "code",
   "execution_count": 57,
   "id": "531e040f-da4e-4bc9-bcb5-156dae8e341b",
   "metadata": {},
   "outputs": [],
   "source": [
    "#Membership Operators"
   ]
  },
  {
   "cell_type": "code",
   "execution_count": 58,
   "id": "4942e864-6eb2-45b9-a946-d3eb9458a5d7",
   "metadata": {},
   "outputs": [
    {
     "data": {
      "text/plain": [
       "True"
      ]
     },
     "execution_count": 58,
     "metadata": {},
     "output_type": "execute_result"
    }
   ],
   "source": [
    "a=\"bhubaneswar\"\n",
    "\"nes\" in a"
   ]
  },
  {
   "cell_type": "code",
   "execution_count": 59,
   "id": "3d2a2ed6-fa84-4aa2-a219-a84a6ca6dde1",
   "metadata": {},
   "outputs": [
    {
     "data": {
      "text/plain": [
       "True"
      ]
     },
     "execution_count": 59,
     "metadata": {},
     "output_type": "execute_result"
    }
   ],
   "source": [
    "lst=[4,5,6,7]\n",
    "6 in lst"
   ]
  },
  {
   "cell_type": "code",
   "execution_count": 60,
   "id": "d9c2fa05-68c9-4123-99eb-d6afaddf794f",
   "metadata": {},
   "outputs": [
    {
     "data": {
      "text/plain": [
       "False"
      ]
     },
     "execution_count": 60,
     "metadata": {},
     "output_type": "execute_result"
    }
   ],
   "source": [
    "10 in lst"
   ]
  },
  {
   "cell_type": "code",
   "execution_count": 61,
   "id": "fa9fe6eb-411d-4935-ad82-7af2c69eb515",
   "metadata": {},
   "outputs": [
    {
     "data": {
      "text/plain": [
       "False"
      ]
     },
     "execution_count": 61,
     "metadata": {},
     "output_type": "execute_result"
    }
   ],
   "source": [
    "a=[12,13,14,15]\n",
    "13 not in a"
   ]
  },
  {
   "cell_type": "code",
   "execution_count": 62,
   "id": "a188b6ca-a211-42eb-acd7-9f160521e84f",
   "metadata": {},
   "outputs": [
    {
     "data": {
      "text/plain": [
       "True"
      ]
     },
     "execution_count": 62,
     "metadata": {},
     "output_type": "execute_result"
    }
   ],
   "source": [
    "13 in a "
   ]
  }
 ],
 "metadata": {
  "kernelspec": {
   "display_name": "Python 3 (ipykernel)",
   "language": "python",
   "name": "python3"
  },
  "language_info": {
   "codemirror_mode": {
    "name": "ipython",
    "version": 3
   },
   "file_extension": ".py",
   "mimetype": "text/x-python",
   "name": "python",
   "nbconvert_exporter": "python",
   "pygments_lexer": "ipython3",
   "version": "3.11.7"
  }
 },
 "nbformat": 4,
 "nbformat_minor": 5
}
